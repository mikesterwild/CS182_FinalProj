{
 "cells": [
  {
   "cell_type": "code",
   "execution_count": null,
   "metadata": {},
   "outputs": [],
   "source": [
    "epochs = Config['N_EPOCHS']\n",
    "\n",
    "for epoch_i in tqdm(range(epochs), desc=f\"{epochs} epochs\", position=0, leave=True):\n",
    "    # training set\n",
    "    train_loss, train_accuracy = [], []\n",
    "    iter_n = len(train_dataset)\n",
    "    \n",
    "    with tqdm(total=iter_n, desc=f\"{iter_n} iterations\", leave=False) as progress_bar:\n",
    "        for _batch in train_dataset:\n",
    "            batch=_batch[0]  # train_dataset is tuple containing (image,labels)\n",
    "            labels=_batch[1]\n",
    "\n",
    "            batch = jnp.array(batch, dtype=jnp.float32)\n",
    "            labels = jnp.array(labels, dtype=jnp.float32)\n",
    "            \n",
    "            batch, labels = shard(batch), shard(labels)\n",
    "        \n",
    "            # backprop and update param & batch statsp\n",
    "            \n",
    "            state, train_metadata, dropout_rng = parallel_train_step(state, batch, labels, dropout_rng)\n",
    "            train_metadata = unreplicate(train_metadata)\n",
    "            \n",
    "            # update train statistics\n",
    "            _train_loss, _train_top1_acc = map(float, [train_metadata['loss'], *train_metadata['accuracy']])\n",
    "            train_loss.append(_train_loss)\n",
    "            train_accuracy.append(_train_top1_acc)\n",
    "            progress_bar.update(1)\n",
    "            \n",
    "    avg_train_loss = sum(train_loss)/len(train_loss)\n",
    "    avg_train_acc = sum(train_accuracy)/len(train_accuracy)\n",
    "    print(f\"[{epoch_i+1}/{Config['N_EPOCHS']}] Train Loss: {avg_train_loss:.03} | Train Accuracy: {avg_train_acc:.03}\")\n",
    "    \n",
    "    # validation set\n",
    "    \n",
    "    valid_accuracy = []\n",
    "    iter_n = len(test_dataset)\n",
    "    with tqdm(total=iter_n, desc=f\"{iter_n} iterations\", leave=False) as progress_bar:\n",
    "        for _batch in test_dataset:\n",
    "            batch = _batch[0]\n",
    "            labels = _batch[1]\n",
    "\n",
    "            batch = jnp.array(batch, dtype=jnp.float32)\n",
    "            labels = jnp.array(labels, dtype=jnp.float32)\n",
    "\n",
    "            batch, labels = shard(batch), shard(labels)\n",
    "            metric = parallel_val_step(state, batch, labels)[0]\n",
    "            valid_accuracy.append(metric)\n",
    "            progress_bar.update(1)\n",
    "\n",
    "\n",
    "    avg_valid_acc = sum(valid_accuracy)/len(valid_accuracy)\n",
    "    avg_valid_acc = np.array(avg_valid_acc)[0]\n",
    "    print(f\"[{epoch_i+1}/{Config['N_EPOCHS']}] Valid Accuracy: {avg_valid_acc:.03}\")"
   ]
  }
 ],
 "metadata": {
  "kernelspec": {
   "display_name": "Python 3 (ipykernel)",
   "language": "python",
   "name": "python3"
  },
  "language_info": {
   "codemirror_mode": {
    "name": "ipython",
    "version": 3
   },
   "file_extension": ".py",
   "mimetype": "text/x-python",
   "name": "python",
   "nbconvert_exporter": "python",
   "pygments_lexer": "ipython3",
   "version": "3.10.0"
  }
 },
 "nbformat": 4,
 "nbformat_minor": 4
}
