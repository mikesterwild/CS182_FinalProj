{
  "cells": [
    {
      "cell_type": "markdown",
      "source": [
        "# Implementing Model Soups\n",
        "\n",
        "In this assignment, we will guide you through the motivation behind [Model Soups](https://arxiv.org/abs/2203.05482) and explain why it usually outperforms other methods. We will start out fine-tuning a single ResNet model, move on to Ensemble Learning, and then introduce the Model Soups technique. \n"
      ],
      "metadata": {
        "id": "AnHrhVMjN9HA"
      }
    },
    {
      "cell_type": "markdown",
      "source": [
        "## Setup\n",
        "We recommend working on Colab with GPU enabled since this assignment needs a fair amount of compute.\n",
        "In Colab, we can enforce using GPU by clicking `Runtime -> Change Runtime Type -> Hardware accelerator` and selecting `GPU`.\n",
        "The dependencies will be installed once the notebooks are excuted.\n",
        "\n",
        "You should make a copy of this notebook to your Google Drive otherwise the outputs will not be saved.\n",
        "Once the folder is copied, you can start working by clicking a Jupyter Notebook and openning it in Colab."
      ],
      "metadata": {
        "id": "rpos2j3dNqIl"
      }
    },
    {
      "cell_type": "code",
      "source": [
        "!pip install jax-resnet\n",
        "!pip install flatten-dict"
      ],
      "metadata": {
        "id": "aOk_OKONUq3S",
        "colab": {
          "base_uri": "https://localhost:8080/"
        },
        "outputId": "39d3ad0c-04e1-4abe-b30e-139b4c39b5e7"
      },
      "execution_count": 19,
      "outputs": [
        {
          "output_type": "stream",
          "name": "stdout",
          "text": [
            "Looking in indexes: https://pypi.org/simple, https://us-python.pkg.dev/colab-wheels/public/simple/\n",
            "Requirement already satisfied: jax-resnet in /usr/local/lib/python3.8/dist-packages (0.0.4)\n",
            "Requirement already satisfied: jax in /usr/local/lib/python3.8/dist-packages (from jax-resnet) (0.3.25)\n",
            "Requirement already satisfied: flax in /usr/local/lib/python3.8/dist-packages (from jax-resnet) (0.6.2)\n",
            "Requirement already satisfied: jaxlib in /usr/local/lib/python3.8/dist-packages (from jax-resnet) (0.3.25+cuda11.cudnn805)\n",
            "Requirement already satisfied: matplotlib in /usr/local/lib/python3.8/dist-packages (from flax->jax-resnet) (3.2.2)\n",
            "Requirement already satisfied: optax in /usr/local/lib/python3.8/dist-packages (from flax->jax-resnet) (0.1.4)\n",
            "Requirement already satisfied: typing-extensions>=4.1.1 in /usr/local/lib/python3.8/dist-packages (from flax->jax-resnet) (4.1.1)\n",
            "Requirement already satisfied: rich>=11.1 in /usr/local/lib/python3.8/dist-packages (from flax->jax-resnet) (12.6.0)\n",
            "Requirement already satisfied: numpy>=1.12 in /usr/local/lib/python3.8/dist-packages (from flax->jax-resnet) (1.21.6)\n",
            "Requirement already satisfied: tensorstore in /usr/local/lib/python3.8/dist-packages (from flax->jax-resnet) (0.1.28)\n",
            "Requirement already satisfied: msgpack in /usr/local/lib/python3.8/dist-packages (from flax->jax-resnet) (1.0.4)\n",
            "Requirement already satisfied: PyYAML>=5.4.1 in /usr/local/lib/python3.8/dist-packages (from flax->jax-resnet) (6.0)\n",
            "Requirement already satisfied: scipy>=1.5 in /usr/local/lib/python3.8/dist-packages (from jax->jax-resnet) (1.7.3)\n",
            "Requirement already satisfied: opt-einsum in /usr/local/lib/python3.8/dist-packages (from jax->jax-resnet) (3.3.0)\n",
            "Requirement already satisfied: commonmark<0.10.0,>=0.9.0 in /usr/local/lib/python3.8/dist-packages (from rich>=11.1->flax->jax-resnet) (0.9.1)\n",
            "Requirement already satisfied: pygments<3.0.0,>=2.6.0 in /usr/local/lib/python3.8/dist-packages (from rich>=11.1->flax->jax-resnet) (2.6.1)\n",
            "Requirement already satisfied: pyparsing!=2.0.4,!=2.1.2,!=2.1.6,>=2.0.1 in /usr/local/lib/python3.8/dist-packages (from matplotlib->flax->jax-resnet) (3.0.9)\n",
            "Requirement already satisfied: cycler>=0.10 in /usr/local/lib/python3.8/dist-packages (from matplotlib->flax->jax-resnet) (0.11.0)\n",
            "Requirement already satisfied: python-dateutil>=2.1 in /usr/local/lib/python3.8/dist-packages (from matplotlib->flax->jax-resnet) (2.8.2)\n",
            "Requirement already satisfied: kiwisolver>=1.0.1 in /usr/local/lib/python3.8/dist-packages (from matplotlib->flax->jax-resnet) (1.4.4)\n",
            "Requirement already satisfied: six>=1.5 in /usr/local/lib/python3.8/dist-packages (from python-dateutil>=2.1->matplotlib->flax->jax-resnet) (1.15.0)\n",
            "Requirement already satisfied: absl-py>=0.7.1 in /usr/local/lib/python3.8/dist-packages (from optax->flax->jax-resnet) (1.3.0)\n",
            "Requirement already satisfied: chex>=0.1.5 in /usr/local/lib/python3.8/dist-packages (from optax->flax->jax-resnet) (0.1.5)\n",
            "Requirement already satisfied: toolz>=0.9.0 in /usr/local/lib/python3.8/dist-packages (from chex>=0.1.5->optax->flax->jax-resnet) (0.12.0)\n",
            "Requirement already satisfied: dm-tree>=0.1.5 in /usr/local/lib/python3.8/dist-packages (from chex>=0.1.5->optax->flax->jax-resnet) (0.1.7)\n",
            "Looking in indexes: https://pypi.org/simple, https://us-python.pkg.dev/colab-wheels/public/simple/\n",
            "Collecting flatten-dict\n",
            "  Downloading flatten_dict-0.4.2-py2.py3-none-any.whl (9.7 kB)\n",
            "Requirement already satisfied: six<2.0,>=1.12 in /usr/local/lib/python3.8/dist-packages (from flatten-dict) (1.15.0)\n",
            "Installing collected packages: flatten-dict\n",
            "Successfully installed flatten-dict-0.4.2\n"
          ]
        }
      ]
    },
    {
      "cell_type": "code",
      "source": [
        "# Mount Google Drive to notebook\n",
        "from google.colab import drive\n",
        "drive.mount('/content/drive/')\n",
        "%cd /content/drive/My Drive/cs182_final"
      ],
      "metadata": {
        "id": "YDCPJNhJUgcJ",
        "colab": {
          "base_uri": "https://localhost:8080/"
        },
        "outputId": "ee8fdd4c-cbf2-49ad-f971-e445edb7f6c8"
      },
      "execution_count": 2,
      "outputs": [
        {
          "output_type": "stream",
          "name": "stdout",
          "text": [
            "Mounted at /content/drive/\n",
            "/content/drive/.shortcut-targets-by-id/1sukHccN68Nh8Ll76UD_M9g2ElGhyGzty/cs182_final\n"
          ]
        }
      ]
    },
    {
      "cell_type": "code",
      "source": [
        "# Imports\n",
        "from flax import linen as nn\n",
        "import numpy as np\n",
        "import matplotlib.pyplot as plt\n",
        "\n",
        "import jax\n",
        "import optax\n",
        "import flax\n",
        "import jax.numpy as jnp\n",
        "from jax import jit\n",
        "from jax import lax\n",
        "from jax_resnet import pretrained_resnet, slice_variables, Sequential\n",
        "from flax.jax_utils import replicate, unreplicate\n",
        "from flax.training import train_state, checkpoints\n",
        "from flax import linen as nn, traverse_util\n",
        "from flax.core import FrozenDict,frozen_dict\n",
        "from flax.training.common_utils import shard\n",
        "from functools import partial\n",
        "from flax.core.frozen_dict import freeze\n",
        "\n",
        "from tqdm.notebook import tqdm\n",
        "\n",
        "from utils import get_model_and_variables, load_datasets\n",
        "from utils import Config\n",
        "from utils import create_train_state, zero_grads, create_mask, accuracy\n",
        "from utils import train_step, val_step, test_step\n",
        "from utils import train, get_optimizer"
      ],
      "metadata": {
        "tags": [],
        "cell_id": "2eb5a40fe37e4546822e906a882224a0",
        "source_hash": "a6e77a4c",
        "execution_start": 1669853008573,
        "execution_millis": 12998,
        "deepnote_to_be_reexecuted": false,
        "deepnote_cell_type": "code",
        "id": "l0KahzRjUYwQ"
      },
      "outputs": [],
      "execution_count": 3
    },
    {
      "cell_type": "markdown",
      "source": [
        "## PART A: Fine tune a single RESNET Model"
      ],
      "metadata": {
        "id": "olSHf6lrPZUt"
      }
    },
    {
      "cell_type": "markdown",
      "source": [
        "For our model, we will be using the ResNet18 model architecture as the backbone and then creating a 2-layer Head that will be used in our fine-tuning. Here is a diagram of the model below:"
      ],
      "metadata": {
        "id": "hp2QBy-zWg4M"
      }
    },
    {
      "cell_type": "markdown",
      "source": [
        "PUT DIAGRAM HERE (Arya)"
      ],
      "metadata": {
        "id": "0zAv_a4RasSu"
      }
    },
    {
      "cell_type": "code",
      "source": [
        "class Head(nn.Module):\n",
        "    '''head model'''\n",
        "    batch_norm_cls: partial = partial(nn.BatchNorm, momentum=0.9)\n",
        "    def __call__(self, inputs, train: bool):\n",
        "        output_n = inputs.shape[-1]\n",
        "        x = self.batch_norm_cls(use_running_average=not train)(inputs)\n",
        "        x = nn.Dropout(rate=0.25)(x, deterministic=not train)\n",
        "        x = nn.Dense(features=output_n)(x)\n",
        "        x = nn.relu(x)\n",
        "        x = self.batch_norm_cls(use_running_average=not train)(x)\n",
        "        x = nn.Dropout(rate=0.5)(x, deterministic=not train)\n",
        "        x = nn.Dense(features=Config[\"NUM_LABELS\"])(x)\n",
        "        return x\n",
        "\n",
        "\n",
        "class Model(nn.Module):\n",
        "    '''Combines backbone and head model'''\n",
        "    backbone: Sequential\n",
        "    head: Head\n",
        "        \n",
        "    def __call__(self, inputs, train: bool):\n",
        "        x = self.backbone(inputs)\n",
        "        x = jnp.mean(x, axis=(1, 2)) # average pool layer\n",
        "        x = self.head(x, train)\n",
        "        return x"
      ],
      "metadata": {
        "id": "ZBTQQfj4W9w6"
      },
      "execution_count": 4,
      "outputs": []
    },
    {
      "cell_type": "markdown",
      "source": [
        "Question 1: When we fine-tune why do we cut off the last 2 layers?\n",
        "\n",
        "Answer: YOUR ANSWER HERE\n",
        "\n",
        "Question 2: What do the first n-2 layers of the model do?\n",
        "\n",
        "Answer: YOUR ANSWER HERE\n",
        "\n",
        "Question 3: Why do we use a different datasets with fine-tuning and pretraining?\n",
        "\n",
        "Answer: YOUR ANSWER HERE"
      ],
      "metadata": {
        "id": "D5Z84q_iaQiy"
      }
    },
    {
      "cell_type": "code",
      "source": [
        "# Load the pre-trained model\n",
        "model, variables = get_model_and_variables()\n",
        "\n",
        "# Define the loss and evaluation functions\n",
        "loss_fn = optax.softmax_cross_entropy\n",
        "eval_fn = accuracy"
      ],
      "metadata": {
        "colab": {
          "base_uri": "https://localhost:8080/",
          "height": 85,
          "referenced_widgets": [
            "5a86997e218e4f4686488a6e4ff80ab7",
            "88a4dfd2437f4edea329d43fff5b877f",
            "8ac1f3ded66544b384ff80edc6bb4c02",
            "f9561225b54e46729225162ff75b0798",
            "a1583ef83f76444aba7b1bd89a9bad3e",
            "00608878678a4066a74dcf498979218c",
            "8669773f945d4713a89c54b43dd49b30",
            "8d54560dce1043e0a7597857d4a92910",
            "94d6240828ed4c5db44e8bd60995fa31",
            "264c8d0c79cf4c688e5d181faf12056b",
            "4ee440692bcf4cddb8819bd4f1807c7b"
          ]
        },
        "id": "XGUzJEdWQPL_",
        "outputId": "f42d1e31-2d49-4959-affc-0e1c7e74b403"
      },
      "execution_count": 5,
      "outputs": [
        {
          "output_type": "stream",
          "name": "stderr",
          "text": [
            "Downloading: \"https://github.com/pytorch/vision/zipball/v0.6.0\" to /root/.cache/torch/hub/v0.6.0.zip\n",
            "Downloading: \"https://download.pytorch.org/models/resnet18-5c106cde.pth\" to /root/.cache/torch/hub/checkpoints/resnet18-5c106cde.pth\n"
          ]
        },
        {
          "output_type": "display_data",
          "data": {
            "text/plain": [
              "  0%|          | 0.00/44.7M [00:00<?, ?B/s]"
            ],
            "application/vnd.jupyter.widget-view+json": {
              "version_major": 2,
              "version_minor": 0,
              "model_id": "5a86997e218e4f4686488a6e4ff80ab7"
            }
          },
          "metadata": {}
        }
      ]
    },
    {
      "cell_type": "code",
      "source": [
        "# Load in the training an test dataset\n",
        "train_dataset, test_dataset = load_datasets()"
      ],
      "metadata": {
        "id": "QY-IPsKyYw8R"
      },
      "execution_count": 6,
      "outputs": []
    },
    {
      "cell_type": "code",
      "source": [
        "# Define the different hyperparamter options (verified in paper)\n",
        "learning_rates = [1e-4, 3e-5, 2e-5, 3e-6]\n",
        "weight_decays = [1e-2, 1e-3, 2e-3, 1e-4]\n",
        "optimizers = ['rmsprop', 'adam', 'adamw']"
      ],
      "metadata": {
        "id": "DL-bz-XGQJjD"
      },
      "execution_count": 7,
      "outputs": []
    },
    {
      "cell_type": "code",
      "source": [
        "# Fine tunes a single model by randomly choosing hyperparameters\n",
        "def fine_tune_model(model, testing=False, save_path='single_model'):\n",
        "    accs = {}\n",
        "\n",
        "    # Randomly choose the hyperparameters\n",
        "    lr_index = np.random.choice(range(len(learning_rates)))       # STUDENT IMPLEMENTATION\n",
        "    lr = learning_rates[lr_index]                 \n",
        "    \n",
        "    weight_index = np.random.choice(range(len(weight_decays)))    # STUDENT IMPLEMENTATION\n",
        "    weight_decay = weight_decays[weight_index]\n",
        "    \n",
        "    epochs = np.random.choice(range(10,21))                       # STUDENT IMPLEMENTATION\n",
        "    if testing: epochs = 1\n",
        "\n",
        "    optimizer_type = np.random.choice(range(3))                   # STUDENT IMPLEMENTATION\n",
        "    optimizer = get_optimizer(optimizer_type, lr, weight_decay)\n",
        "\n",
        "    optimizer = optax.multi_transform(\n",
        "        {'optim': optimizer, 'zero': zero_grads()},\n",
        "        create_mask(variables['params'], lambda s: s.startswith('backbone'))\n",
        "    )\n",
        "\n",
        "    # Create the TrainState\n",
        "    state = create_train_state(model, variables, optimizer, loss_fn, accuracy)\n",
        "\n",
        "    # Required for parallelism\n",
        "    state = replicate(state)\n",
        "\n",
        "    # Display the model hyperparams\n",
        "    print(\"Model Hyperparams\")\n",
        "    print(f\"Epochs: {epochs}, Optimizer: {optimizers[optimizer_type]}, LR: {lr}, Weight Decay: {weight_decay}\")\n",
        "    \n",
        "    # Train the last two layers of the model\n",
        "    train_acc, valid_acc = train(state, epochs, train_dataset, test_dataset, save_path)    \n",
        "\n",
        "    return state"
      ],
      "metadata": {
        "id": "M10EfCDePYWN"
      },
      "execution_count": 8,
      "outputs": []
    },
    {
      "cell_type": "code",
      "source": [
        "# Helper function to flatten pretrained weights\n",
        "def flatten_weights(params):\n",
        "  for k, v in params.items():\n",
        "    if isinstance(v, dict):\n",
        "      flatten_weights(v)\n",
        "    else:\n",
        "      params[k] = v[0]\n",
        "\n",
        "# Get logits and validation accuracies given a model state\n",
        "def evaluate_model(state):\n",
        "    all_logits = np.zeros((1, 10))\n",
        "    val_accuracies = []\n",
        "\n",
        "    iter_n = len(test_dataset)\n",
        "    with tqdm(total=iter_n, desc=f\"{iter_n} iterations\", leave=False) as progress_bar:\n",
        "      for _batch in test_dataset:\n",
        "          batch = _batch[0]\n",
        "          labels = _batch[1]\n",
        "\n",
        "          batch = jnp.array(batch, dtype=jnp.float32)\n",
        "          labels = jnp.array(labels, dtype=jnp.float32)\n",
        "\n",
        "          variables = {\n",
        "              'params': state.params, \n",
        "              'batch_stats': state.batch_stats\n",
        "          }\n",
        "\n",
        "          ### BEGIN CODE HERE ###\n",
        "          # Forward pass through the model\n",
        "          logits = state.apply_fn(variables, batch, train=False)                     \n",
        "         \n",
        "          # Compare the model output to ground-truth labels\n",
        "          acc = state.eval_fn(logits, labels)[0]             \n",
        "\n",
        "          ### END CODE HERE ###\n",
        "          \n",
        "          all_logits = np.concatenate((all_logits, np.array(logits)))\n",
        "          val_accuracies.append(acc)\n",
        "\n",
        "          progress_bar.update(1)\n",
        "          \n",
        "          del(batch)\n",
        "          del(labels)\n",
        "\n",
        "\n",
        "    # Compute the avg validation accuracy across batches\n",
        "    avg_valid_acc = sum(val_accuracies)/len(val_accuracies)\n",
        "\n",
        "    # Reshape to (num_data_points, 10)\n",
        "    all_logits = np.array(all_logits)\n",
        "\n",
        "    return all_logits[1:], avg_valid_acc"
      ],
      "metadata": {
        "id": "xNGGp8ZXcswZ"
      },
      "execution_count": 9,
      "outputs": []
    },
    {
      "cell_type": "code",
      "source": [
        "# Fine tunes our single RESNET model\n",
        "print(\"Fine Tuning Model\")\n",
        "\n",
        "# The validation accuracy should be 75% or higher!!\n",
        "fine_tuned_model_state = fine_tune_model(model, testing=True) # Remove for final submission"
      ],
      "metadata": {
        "colab": {
          "base_uri": "https://localhost:8080/",
          "height": 199,
          "referenced_widgets": [
            "866d0a349f21499ca43cf8539973f64b",
            "bded6732830b45c993adc866410627de",
            "3cda12c96e2f4f0aac003da1ad1e2c56",
            "580dade441294ba3ade6824785cef30b",
            "0c97e41bef4d40e28c0d02983cfab9eb",
            "594841b495344facbfce22d8cdc1c8ae",
            "6656b17facb14ffc88a5ba0f3f96ba37",
            "9b1869e19ff849c089ed74874bf4dcf8",
            "835566eb0d6e47f4989e21983bdac248",
            "41afae9b766746c89a4f8a6694722fe1",
            "f9ce261c0bd8410ea840586aba0338a9",
            "fd88eebe0261460188c62d47ce45b92c",
            "1e45da7acda340ee9b219e311b883f00",
            "9ac45f4f13c64f06bda3d7b35f8b50ed",
            "a50d380dbfc7499ca7f3aa5ec7c58b8d",
            "fd4294be6f3749c8b7a200042870e633",
            "75b3bbfae3324d309b6ba8f70180cd5d",
            "37b749fbd4694afbb877fc61b06317c5",
            "2a7f79c4e6cf4a86a8d061704b9b2e98",
            "2320da0defb6459e9b07f0fcf56156e0",
            "9a126238171d450d973c4df57850d96c",
            "3084c0ba38974949b110f1363978c9d7"
          ]
        },
        "id": "w1OrJRZGcWzZ",
        "outputId": "25ab3105-2458-4b53-f41c-90f0e730a4b5"
      },
      "execution_count": 10,
      "outputs": [
        {
          "output_type": "stream",
          "name": "stdout",
          "text": [
            "Fine Tuning Model\n",
            "Model Hyperparams\n",
            "Epochs: 1, Optimizer: adamw, LR: 3e-05, Weight Decay: 0.01\n",
            "0\n"
          ]
        },
        {
          "output_type": "display_data",
          "data": {
            "text/plain": [
              "1563 iterations:   0%|          | 0/1563 [00:00<?, ?it/s]"
            ],
            "application/vnd.jupyter.widget-view+json": {
              "version_major": 2,
              "version_minor": 0,
              "model_id": "866d0a349f21499ca43cf8539973f64b"
            }
          },
          "metadata": {}
        },
        {
          "output_type": "stream",
          "name": "stdout",
          "text": [
            "[1/1] Train Loss: 1.74 | Train Accuracy: 0.423\n"
          ]
        },
        {
          "output_type": "display_data",
          "data": {
            "text/plain": [
              "313 iterations:   0%|          | 0/313 [00:00<?, ?it/s]"
            ],
            "application/vnd.jupyter.widget-view+json": {
              "version_major": 2,
              "version_minor": 0,
              "model_id": "fd88eebe0261460188c62d47ce45b92c"
            }
          },
          "metadata": {}
        },
        {
          "output_type": "stream",
          "name": "stderr",
          "text": [
            "/usr/local/lib/python3.8/dist-packages/jax/interpreters/mlir.py:622: UserWarning: Some donated buffers were not usable: ShapedArray(int32[], weak_type=True), ShapedArray(float32[64]), ShapedArray(float32[64]), ShapedArray(float32[7,7,3,64]), ShapedArray(float32[64]), ShapedArray(float32[64]), ShapedArray(float32[3,3,64,64]), ShapedArray(float32[64]), ShapedArray(float32[64]), ShapedArray(float32[3,3,64,64]), ShapedArray(float32[64]), ShapedArray(float32[64]), ShapedArray(float32[3,3,64,64]), ShapedArray(float32[64]), ShapedArray(float32[64]), ShapedArray(float32[3,3,64,64]), ShapedArray(float32[128]), ShapedArray(float32[128]), ShapedArray(float32[3,3,64,128]), ShapedArray(float32[128]), ShapedArray(float32[128]), ShapedArray(float32[3,3,128,128]), ShapedArray(float32[128]), ShapedArray(float32[128]), ShapedArray(float32[1,1,64,128]), ShapedArray(float32[128]), ShapedArray(float32[128]), ShapedArray(float32[3,3,128,128]), ShapedArray(float32[128]), ShapedArray(float32[128]), ShapedArray(float32[3,3,128,128]), ShapedArray(float32[256]), ShapedArray(float32[256]), ShapedArray(float32[3,3,128,256]), ShapedArray(float32[256]), ShapedArray(float32[256]), ShapedArray(float32[3,3,256,256]), ShapedArray(float32[256]), ShapedArray(float32[256]), ShapedArray(float32[1,1,128,256]), ShapedArray(float32[256]), ShapedArray(float32[256]), ShapedArray(float32[3,3,256,256]), ShapedArray(float32[256]), ShapedArray(float32[256]), ShapedArray(float32[3,3,256,256]), ShapedArray(float32[512]), ShapedArray(float32[512]), ShapedArray(float32[3,3,256,512]), ShapedArray(float32[512]), ShapedArray(float32[512]), ShapedArray(float32[3,3,512,512]), ShapedArray(float32[512]), ShapedArray(float32[512]), ShapedArray(float32[1,1,256,512]), ShapedArray(float32[512]), ShapedArray(float32[512]), ShapedArray(float32[3,3,512,512]), ShapedArray(float32[512]), ShapedArray(float32[512]), ShapedArray(float32[3,3,512,512]), ShapedArray(float32[512]), ShapedArray(float32[512]), ShapedArray(float32[512]), ShapedArray(float32[512]), ShapedArray(float32[512]), ShapedArray(float32[512,512]), ShapedArray(float32[10]), ShapedArray(float32[512,10]), ShapedArray(int32[]), ShapedArray(float32[512]), ShapedArray(float32[512]), ShapedArray(float32[512]), ShapedArray(float32[512]), ShapedArray(float32[512]), ShapedArray(float32[512,512]), ShapedArray(float32[10]), ShapedArray(float32[512,10]), ShapedArray(float32[512]), ShapedArray(float32[512]), ShapedArray(float32[512]), ShapedArray(float32[512]), ShapedArray(float32[512]), ShapedArray(float32[512,512]), ShapedArray(float32[10]), ShapedArray(float32[512,10]), ShapedArray(float32[64]), ShapedArray(float32[64]), ShapedArray(float32[64]), ShapedArray(float32[64]), ShapedArray(float32[64]), ShapedArray(float32[64]), ShapedArray(float32[64]), ShapedArray(float32[64]), ShapedArray(float32[64]), ShapedArray(float32[64]), ShapedArray(float32[128]), ShapedArray(float32[128]), ShapedArray(float32[128]), ShapedArray(float32[128]), ShapedArray(float32[128]), ShapedArray(float32[128]), ShapedArray(float32[128]), ShapedArray(float32[128]), ShapedArray(float32[128]), ShapedArray(float32[128]), ShapedArray(float32[256]), ShapedArray(float32[256]), ShapedArray(float32[256]), ShapedArray(float32[256]), ShapedArray(float32[256]), ShapedArray(float32[256]), ShapedArray(float32[256]), ShapedArray(float32[256]), ShapedArray(float32[256]), ShapedArray(float32[256]), ShapedArray(float32[512]), ShapedArray(float32[512]), ShapedArray(float32[512]), ShapedArray(float32[512]), ShapedArray(float32[512]), ShapedArray(float32[512]), ShapedArray(float32[512]), ShapedArray(float32[512]), ShapedArray(float32[512]), ShapedArray(float32[512]), ShapedArray(float32[512]), ShapedArray(float32[512]), ShapedArray(float32[512]), ShapedArray(float32[512]).\n",
            "See an explanation at https://jax.readthedocs.io/en/latest/faq.html#buffer-donation.\n",
            "  warnings.warn(f\"Some donated buffers were not usable: {', '.join(unused_donations)}.\\n{msg}\")\n"
          ]
        },
        {
          "output_type": "stream",
          "name": "stdout",
          "text": [
            "[1/10] Valid Accuracy: 0.702\n"
          ]
        }
      ]
    },
    {
      "cell_type": "markdown",
      "source": [
        "## PART B: Fine tuning multiple RESNET models"
      ],
      "metadata": {
        "id": "QJ3T4vFza1LL"
      }
    },
    {
      "cell_type": "markdown",
      "source": [
        "Now that we have had practice fine tuning a single RESNET model, let us repeat the same process for multiple models. Due to long training times, we have pretrained k models ahead of time (each trained with a random set of valid hyperparameters). Your job will be to collect the validation accuracies of these k models and compare them."
      ],
      "metadata": {
        "id": "-k7loFtNbNDz"
      }
    },
    {
      "cell_type": "markdown",
      "source": [
        "Question: Why do we vary the hyperparameters across the k models?\n",
        "\n",
        "Answer: YOUR ANSWER HERE"
      ],
      "metadata": {
        "id": "YNt-jNScbi0-"
      }
    },
    {
      "cell_type": "code",
      "source": [
        "# Load in the pretrained weights for k different models\n",
        "def load_pretrained_models(k=8):\n",
        "  dummy_optim = optax.adam(learning_rate=1e-3, b1=0.9, b2=0.999, eps=1e-6)\n",
        "  loss_fn = optax.softmax_cross_entropy\n",
        "  eval_fn = accuracy\n",
        "\n",
        "  states = []\n",
        "  for i in range(k):\n",
        "      model, variables = get_model_and_variables()\n",
        "      state_dict = checkpoints.restore_checkpoint(f'./models182/model_{i}/checkpoint_15', target=None)\n",
        "      state = create_train_state(model, state_dict, dummy_optim, loss_fn, eval_fn)\n",
        "      flatten_weights(state.params)\n",
        "      states.append(state)\n",
        "\n",
        "      print(f\"Model {i} Loaded\")\n",
        "  \n",
        "  print(\"All models loaded sucessfully :)\")\n",
        "  return states"
      ],
      "metadata": {
        "id": "ni-oY5h6JFq1"
      },
      "execution_count": 11,
      "outputs": []
    },
    {
      "cell_type": "code",
      "source": [
        "# Get all the state accuracies \n",
        "def evaluate_models(states):\n",
        "    val_accs = []\n",
        "    all_logits = []\n",
        "    for i, state in enumerate(states):\n",
        "        print(f\"Model {i}\")\n",
        "        ### BEGIN CODE HERE ###    \n",
        "        logits, acc = evaluate_model(state)\n",
        "        all_logits.append(logits)\n",
        "        val_accs.append(acc)\n",
        "        ### END CODE HERE ##\n",
        "\n",
        "    return all_logits, val_accs"
      ],
      "metadata": {
        "tags": [],
        "cell_id": "6c0dbd35f1384e2981992c8d506ff93b",
        "source_hash": "e7663177",
        "execution_start": 1669847873419,
        "execution_millis": 0,
        "deepnote_to_be_reexecuted": false,
        "deepnote_cell_type": "code",
        "id": "nUlmFfH3UYwU"
      },
      "outputs": [],
      "execution_count": 12
    },
    {
      "cell_type": "code",
      "source": [
        "# Load in model states\n",
        "states = load_pretrained_models(k=8)"
      ],
      "metadata": {
        "colab": {
          "base_uri": "https://localhost:8080/"
        },
        "id": "pHnD262FEWe1",
        "outputId": "e1f65b4a-603f-4c72-ccb6-6981e1246527"
      },
      "execution_count": 13,
      "outputs": [
        {
          "output_type": "stream",
          "name": "stderr",
          "text": [
            "Using cache found in /root/.cache/torch/hub/pytorch_vision_v0.6.0\n"
          ]
        },
        {
          "output_type": "stream",
          "name": "stdout",
          "text": [
            "Model 0 Loaded\n"
          ]
        },
        {
          "output_type": "stream",
          "name": "stderr",
          "text": [
            "Using cache found in /root/.cache/torch/hub/pytorch_vision_v0.6.0\n"
          ]
        },
        {
          "output_type": "stream",
          "name": "stdout",
          "text": [
            "Model 1 Loaded\n"
          ]
        },
        {
          "output_type": "stream",
          "name": "stderr",
          "text": [
            "Using cache found in /root/.cache/torch/hub/pytorch_vision_v0.6.0\n"
          ]
        },
        {
          "output_type": "stream",
          "name": "stdout",
          "text": [
            "Model 2 Loaded\n"
          ]
        },
        {
          "output_type": "stream",
          "name": "stderr",
          "text": [
            "Using cache found in /root/.cache/torch/hub/pytorch_vision_v0.6.0\n"
          ]
        },
        {
          "output_type": "stream",
          "name": "stdout",
          "text": [
            "Model 3 Loaded\n"
          ]
        },
        {
          "output_type": "stream",
          "name": "stderr",
          "text": [
            "Using cache found in /root/.cache/torch/hub/pytorch_vision_v0.6.0\n"
          ]
        },
        {
          "output_type": "stream",
          "name": "stdout",
          "text": [
            "Model 4 Loaded\n"
          ]
        },
        {
          "output_type": "stream",
          "name": "stderr",
          "text": [
            "Using cache found in /root/.cache/torch/hub/pytorch_vision_v0.6.0\n"
          ]
        },
        {
          "output_type": "stream",
          "name": "stdout",
          "text": [
            "Model 5 Loaded\n"
          ]
        },
        {
          "output_type": "stream",
          "name": "stderr",
          "text": [
            "Using cache found in /root/.cache/torch/hub/pytorch_vision_v0.6.0\n"
          ]
        },
        {
          "output_type": "stream",
          "name": "stdout",
          "text": [
            "Model 6 Loaded\n"
          ]
        },
        {
          "output_type": "stream",
          "name": "stderr",
          "text": [
            "Using cache found in /root/.cache/torch/hub/pytorch_vision_v0.6.0\n"
          ]
        },
        {
          "output_type": "stream",
          "name": "stdout",
          "text": [
            "Model 7 Loaded\n",
            "All models loaded sucessfully :)\n"
          ]
        }
      ]
    },
    {
      "cell_type": "code",
      "source": [
        "# Evaluate the models\n",
        "all_logits, val_accs = evaluate_models(states)"
      ],
      "metadata": {
        "colab": {
          "base_uri": "https://localhost:8080/",
          "height": 794,
          "referenced_widgets": [
            "f3f817d7af714f339ec5b4cd7d1f8a60",
            "d9edc4fa267d4b1b9aafea1ad1b30abc",
            "0ffbffa7a42d4922a82ed3089fc3cdc6",
            "c9859a56525f492cb7d4677f1256e667",
            "a77f102900364390adc394878ebe3b2d",
            "a4349b26da834718b6671c7c33a8024d",
            "af44d9adfa9641a3a24aa05dde9af739",
            "583425504af841818632772d4f12c7a3",
            "63a89098fded409aa422f480103b2226",
            "65e85ac13269494e80c79e545eb24251",
            "a5eb60b65bf44b49a0a7de8ab266f284"
          ]
        },
        "id": "Ed_fXlrCJpPU",
        "outputId": "d959c18a-648a-4951-de44-55013964306e"
      },
      "execution_count": null,
      "outputs": [
        {
          "output_type": "stream",
          "name": "stdout",
          "text": [
            "Model 0\n"
          ]
        },
        {
          "output_type": "display_data",
          "data": {
            "text/plain": [
              "313 iterations:   0%|          | 0/313 [00:00<?, ?it/s]"
            ],
            "application/vnd.jupyter.widget-view+json": {
              "version_major": 2,
              "version_minor": 0,
              "model_id": "f3f817d7af714f339ec5b4cd7d1f8a60"
            }
          },
          "metadata": {}
        },
        {
          "output_type": "stream",
          "name": "stderr",
          "text": [
            "Exception ignored in: <function tqdm.__del__ at 0x7f3d33bd18b0>\n",
            "Traceback (most recent call last):\n",
            "  File \"/usr/local/lib/python3.8/dist-packages/tqdm/std.py\", line 1161, in __del__\n",
            "    def __del__(self):\n",
            "KeyboardInterrupt: \n"
          ]
        },
        {
          "output_type": "error",
          "ename": "KeyboardInterrupt",
          "evalue": "ignored",
          "traceback": [
            "\u001b[0;31m---------------------------------------------------------------------------\u001b[0m",
            "\u001b[0;31mUnfilteredStackTrace\u001b[0m                      Traceback (most recent call last)",
            "\u001b[0;32m<ipython-input-25-c1878203586c>\u001b[0m in \u001b[0;36m<module>\u001b[0;34m\u001b[0m\n\u001b[1;32m      1\u001b[0m \u001b[0;31m# Evaluate the models\u001b[0m\u001b[0;34m\u001b[0m\u001b[0;34m\u001b[0m\u001b[0;34m\u001b[0m\u001b[0m\n\u001b[0;32m----> 2\u001b[0;31m \u001b[0mall_logits\u001b[0m\u001b[0;34m,\u001b[0m \u001b[0mval_accs\u001b[0m \u001b[0;34m=\u001b[0m \u001b[0mevaluate_models\u001b[0m\u001b[0;34m(\u001b[0m\u001b[0mstates\u001b[0m\u001b[0;34m)\u001b[0m\u001b[0;34m\u001b[0m\u001b[0;34m\u001b[0m\u001b[0m\n\u001b[0m",
            "\u001b[0;32m<ipython-input-23-ba862774f971>\u001b[0m in \u001b[0;36mevaluate_models\u001b[0;34m(states)\u001b[0m\n\u001b[1;32m      7\u001b[0m         \u001b[0;31m### BEGIN CODE HERE ###\u001b[0m\u001b[0;34m\u001b[0m\u001b[0;34m\u001b[0m\u001b[0;34m\u001b[0m\u001b[0m\n\u001b[0;32m----> 8\u001b[0;31m         \u001b[0mlogits\u001b[0m\u001b[0;34m,\u001b[0m \u001b[0macc\u001b[0m \u001b[0;34m=\u001b[0m \u001b[0mevaluate_model\u001b[0m\u001b[0;34m(\u001b[0m\u001b[0mstate\u001b[0m\u001b[0;34m)\u001b[0m\u001b[0;34m\u001b[0m\u001b[0;34m\u001b[0m\u001b[0m\n\u001b[0m\u001b[1;32m      9\u001b[0m         \u001b[0mall_logits\u001b[0m\u001b[0;34m.\u001b[0m\u001b[0mappend\u001b[0m\u001b[0;34m(\u001b[0m\u001b[0mlogits\u001b[0m\u001b[0;34m)\u001b[0m\u001b[0;34m\u001b[0m\u001b[0;34m\u001b[0m\u001b[0m\n",
            "\u001b[0;32m<ipython-input-20-814a9b9c73e0>\u001b[0m in \u001b[0;36mevaluate_model\u001b[0;34m(state)\u001b[0m\n\u001b[1;32m     35\u001b[0m           \u001b[0;31m# Forward pass through the model\u001b[0m\u001b[0;34m\u001b[0m\u001b[0;34m\u001b[0m\u001b[0;34m\u001b[0m\u001b[0m\n\u001b[0;32m---> 36\u001b[0;31m           \u001b[0mlogits\u001b[0m \u001b[0;34m=\u001b[0m \u001b[0mstate\u001b[0m\u001b[0;34m.\u001b[0m\u001b[0mapply_fn\u001b[0m\u001b[0;34m(\u001b[0m\u001b[0mvariables\u001b[0m\u001b[0;34m,\u001b[0m \u001b[0mbatch\u001b[0m\u001b[0;34m,\u001b[0m \u001b[0mtrain\u001b[0m\u001b[0;34m=\u001b[0m\u001b[0;32mFalse\u001b[0m\u001b[0;34m)\u001b[0m\u001b[0;34m\u001b[0m\u001b[0;34m\u001b[0m\u001b[0m\n\u001b[0m\u001b[1;32m     37\u001b[0m \u001b[0;34m\u001b[0m\u001b[0m\n",
            "\u001b[0;32m/usr/local/lib/python3.8/dist-packages/jax/_src/traceback_util.py\u001b[0m in \u001b[0;36mreraise_with_filtered_traceback\u001b[0;34m(*args, **kwargs)\u001b[0m\n\u001b[1;32m    161\u001b[0m     \u001b[0;32mtry\u001b[0m\u001b[0;34m:\u001b[0m\u001b[0;34m\u001b[0m\u001b[0;34m\u001b[0m\u001b[0m\n\u001b[0;32m--> 162\u001b[0;31m       \u001b[0;32mreturn\u001b[0m \u001b[0mfun\u001b[0m\u001b[0;34m(\u001b[0m\u001b[0;34m*\u001b[0m\u001b[0margs\u001b[0m\u001b[0;34m,\u001b[0m \u001b[0;34m**\u001b[0m\u001b[0mkwargs\u001b[0m\u001b[0;34m)\u001b[0m\u001b[0;34m\u001b[0m\u001b[0;34m\u001b[0m\u001b[0m\n\u001b[0m\u001b[1;32m    163\u001b[0m     \u001b[0;32mexcept\u001b[0m \u001b[0mException\u001b[0m \u001b[0;32mas\u001b[0m \u001b[0me\u001b[0m\u001b[0;34m:\u001b[0m\u001b[0;34m\u001b[0m\u001b[0;34m\u001b[0m\u001b[0m\n",
            "\u001b[0;32m/usr/local/lib/python3.8/dist-packages/flax/linen/module.py\u001b[0m in \u001b[0;36mapply\u001b[0;34m(self, variables, rngs, method, mutable, capture_intermediates, *args, **kwargs)\u001b[0m\n\u001b[1;32m   1286\u001b[0m     \u001b[0mmethod\u001b[0m \u001b[0;34m=\u001b[0m \u001b[0m_get_unbound_fn\u001b[0m\u001b[0;34m(\u001b[0m\u001b[0mmethod\u001b[0m\u001b[0;34m)\u001b[0m\u001b[0;34m\u001b[0m\u001b[0;34m\u001b[0m\u001b[0m\n\u001b[0;32m-> 1287\u001b[0;31m     return apply(\n\u001b[0m\u001b[1;32m   1288\u001b[0m         \u001b[0mmethod\u001b[0m\u001b[0;34m,\u001b[0m \u001b[0mself\u001b[0m\u001b[0;34m,\u001b[0m\u001b[0;34m\u001b[0m\u001b[0;34m\u001b[0m\u001b[0m\n",
            "\u001b[0;32m/usr/local/lib/python3.8/dist-packages/flax/core/scope.py\u001b[0m in \u001b[0;36mwrapper\u001b[0;34m(variables, rngs, *args, **kwargs)\u001b[0m\n\u001b[1;32m    864\u001b[0m               flags=flags).temporary() as root:\n\u001b[0;32m--> 865\u001b[0;31m       \u001b[0my\u001b[0m \u001b[0;34m=\u001b[0m \u001b[0mfn\u001b[0m\u001b[0;34m(\u001b[0m\u001b[0mroot\u001b[0m\u001b[0;34m,\u001b[0m \u001b[0;34m*\u001b[0m\u001b[0margs\u001b[0m\u001b[0;34m,\u001b[0m \u001b[0;34m**\u001b[0m\u001b[0mkwargs\u001b[0m\u001b[0;34m)\u001b[0m\u001b[0;34m\u001b[0m\u001b[0;34m\u001b[0m\u001b[0m\n\u001b[0m\u001b[1;32m    866\u001b[0m     \u001b[0;32mif\u001b[0m \u001b[0mmutable\u001b[0m \u001b[0;32mis\u001b[0m \u001b[0;32mnot\u001b[0m \u001b[0;32mFalse\u001b[0m\u001b[0;34m:\u001b[0m\u001b[0;34m\u001b[0m\u001b[0;34m\u001b[0m\u001b[0m\n",
            "\u001b[0;32m/usr/local/lib/python3.8/dist-packages/flax/linen/module.py\u001b[0m in \u001b[0;36mscope_fn\u001b[0;34m(scope, *args, **kwargs)\u001b[0m\n\u001b[1;32m   1736\u001b[0m     \u001b[0;32mtry\u001b[0m\u001b[0;34m:\u001b[0m\u001b[0;34m\u001b[0m\u001b[0;34m\u001b[0m\u001b[0m\n\u001b[0;32m-> 1737\u001b[0;31m       \u001b[0;32mreturn\u001b[0m \u001b[0mfn\u001b[0m\u001b[0;34m(\u001b[0m\u001b[0mmodule\u001b[0m\u001b[0;34m.\u001b[0m\u001b[0mclone\u001b[0m\u001b[0;34m(\u001b[0m\u001b[0mparent\u001b[0m\u001b[0;34m=\u001b[0m\u001b[0mscope\u001b[0m\u001b[0;34m)\u001b[0m\u001b[0;34m,\u001b[0m \u001b[0;34m*\u001b[0m\u001b[0margs\u001b[0m\u001b[0;34m,\u001b[0m \u001b[0;34m**\u001b[0m\u001b[0mkwargs\u001b[0m\u001b[0;34m)\u001b[0m\u001b[0;34m\u001b[0m\u001b[0;34m\u001b[0m\u001b[0m\n\u001b[0m\u001b[1;32m   1738\u001b[0m     \u001b[0;32mfinally\u001b[0m\u001b[0;34m:\u001b[0m\u001b[0;34m\u001b[0m\u001b[0;34m\u001b[0m\u001b[0m\n",
            "\u001b[0;32m/usr/local/lib/python3.8/dist-packages/flax/linen/module.py\u001b[0m in \u001b[0;36mwrapped_module_method\u001b[0;34m(*args, **kwargs)\u001b[0m\n\u001b[1;32m    410\u001b[0m       \u001b[0mself\u001b[0m\u001b[0;34m,\u001b[0m \u001b[0margs\u001b[0m \u001b[0;34m=\u001b[0m \u001b[0margs\u001b[0m\u001b[0;34m[\u001b[0m\u001b[0;36m0\u001b[0m\u001b[0;34m]\u001b[0m\u001b[0;34m,\u001b[0m \u001b[0margs\u001b[0m\u001b[0;34m[\u001b[0m\u001b[0;36m1\u001b[0m\u001b[0;34m:\u001b[0m\u001b[0;34m]\u001b[0m\u001b[0;34m\u001b[0m\u001b[0;34m\u001b[0m\u001b[0m\n\u001b[0;32m--> 411\u001b[0;31m       \u001b[0;32mreturn\u001b[0m \u001b[0mself\u001b[0m\u001b[0;34m.\u001b[0m\u001b[0m_call_wrapped_method\u001b[0m\u001b[0;34m(\u001b[0m\u001b[0mfun\u001b[0m\u001b[0;34m,\u001b[0m \u001b[0margs\u001b[0m\u001b[0;34m,\u001b[0m \u001b[0mkwargs\u001b[0m\u001b[0;34m)\u001b[0m\u001b[0;34m\u001b[0m\u001b[0;34m\u001b[0m\u001b[0m\n\u001b[0m\u001b[1;32m    412\u001b[0m     \u001b[0;32melse\u001b[0m\u001b[0;34m:\u001b[0m\u001b[0;34m\u001b[0m\u001b[0;34m\u001b[0m\u001b[0m\n",
            "\u001b[0;32m/usr/local/lib/python3.8/dist-packages/flax/linen/module.py\u001b[0m in \u001b[0;36m_call_wrapped_method\u001b[0;34m(self, fun, args, kwargs)\u001b[0m\n\u001b[1;32m    734\u001b[0m         \u001b[0;32mwith\u001b[0m \u001b[0mjax\u001b[0m\u001b[0;34m.\u001b[0m\u001b[0mnamed_scope\u001b[0m\u001b[0;34m(\u001b[0m\u001b[0m_derive_profiling_name\u001b[0m\u001b[0;34m(\u001b[0m\u001b[0mself\u001b[0m\u001b[0;34m,\u001b[0m \u001b[0mfun\u001b[0m\u001b[0;34m)\u001b[0m\u001b[0;34m)\u001b[0m\u001b[0;34m:\u001b[0m\u001b[0;34m\u001b[0m\u001b[0;34m\u001b[0m\u001b[0m\n\u001b[0;32m--> 735\u001b[0;31m           \u001b[0my\u001b[0m \u001b[0;34m=\u001b[0m \u001b[0mfun\u001b[0m\u001b[0;34m(\u001b[0m\u001b[0mself\u001b[0m\u001b[0;34m,\u001b[0m \u001b[0;34m*\u001b[0m\u001b[0margs\u001b[0m\u001b[0;34m,\u001b[0m \u001b[0;34m**\u001b[0m\u001b[0mkwargs\u001b[0m\u001b[0;34m)\u001b[0m\u001b[0;34m\u001b[0m\u001b[0;34m\u001b[0m\u001b[0m\n\u001b[0m\u001b[1;32m    736\u001b[0m       \u001b[0;32melse\u001b[0m\u001b[0;34m:\u001b[0m\u001b[0;34m\u001b[0m\u001b[0;34m\u001b[0m\u001b[0m\n",
            "\u001b[0;32m/content/drive/.shortcut-targets-by-id/1sukHccN68Nh8Ll76UD_M9g2ElGhyGzty/cs182_final/utils.py\u001b[0m in \u001b[0;36m__call__\u001b[0;34m(self, inputs, train)\u001b[0m\n\u001b[1;32m     82\u001b[0m     \u001b[0;32mdef\u001b[0m \u001b[0m__call__\u001b[0m\u001b[0;34m(\u001b[0m\u001b[0mself\u001b[0m\u001b[0;34m,\u001b[0m \u001b[0minputs\u001b[0m\u001b[0;34m,\u001b[0m \u001b[0mtrain\u001b[0m\u001b[0;34m:\u001b[0m \u001b[0mbool\u001b[0m\u001b[0;34m)\u001b[0m\u001b[0;34m:\u001b[0m\u001b[0;34m\u001b[0m\u001b[0;34m\u001b[0m\u001b[0m\n\u001b[0;32m---> 83\u001b[0;31m         \u001b[0mx\u001b[0m \u001b[0;34m=\u001b[0m \u001b[0mself\u001b[0m\u001b[0;34m.\u001b[0m\u001b[0mbackbone\u001b[0m\u001b[0;34m(\u001b[0m\u001b[0minputs\u001b[0m\u001b[0;34m)\u001b[0m\u001b[0;34m\u001b[0m\u001b[0;34m\u001b[0m\u001b[0m\n\u001b[0m\u001b[1;32m     84\u001b[0m         \u001b[0;31m# average pool layer\u001b[0m\u001b[0;34m\u001b[0m\u001b[0;34m\u001b[0m\u001b[0;34m\u001b[0m\u001b[0m\n",
            "\u001b[0;32m/usr/local/lib/python3.8/dist-packages/flax/linen/module.py\u001b[0m in \u001b[0;36mwrapped_module_method\u001b[0;34m(*args, **kwargs)\u001b[0m\n\u001b[1;32m    410\u001b[0m       \u001b[0mself\u001b[0m\u001b[0;34m,\u001b[0m \u001b[0margs\u001b[0m \u001b[0;34m=\u001b[0m \u001b[0margs\u001b[0m\u001b[0;34m[\u001b[0m\u001b[0;36m0\u001b[0m\u001b[0;34m]\u001b[0m\u001b[0;34m,\u001b[0m \u001b[0margs\u001b[0m\u001b[0;34m[\u001b[0m\u001b[0;36m1\u001b[0m\u001b[0;34m:\u001b[0m\u001b[0;34m]\u001b[0m\u001b[0;34m\u001b[0m\u001b[0;34m\u001b[0m\u001b[0m\n\u001b[0;32m--> 411\u001b[0;31m       \u001b[0;32mreturn\u001b[0m \u001b[0mself\u001b[0m\u001b[0;34m.\u001b[0m\u001b[0m_call_wrapped_method\u001b[0m\u001b[0;34m(\u001b[0m\u001b[0mfun\u001b[0m\u001b[0;34m,\u001b[0m \u001b[0margs\u001b[0m\u001b[0;34m,\u001b[0m \u001b[0mkwargs\u001b[0m\u001b[0;34m)\u001b[0m\u001b[0;34m\u001b[0m\u001b[0;34m\u001b[0m\u001b[0m\n\u001b[0m\u001b[1;32m    412\u001b[0m     \u001b[0;32melse\u001b[0m\u001b[0;34m:\u001b[0m\u001b[0;34m\u001b[0m\u001b[0;34m\u001b[0m\u001b[0m\n",
            "\u001b[0;32m/usr/local/lib/python3.8/dist-packages/flax/linen/module.py\u001b[0m in \u001b[0;36m_call_wrapped_method\u001b[0;34m(self, fun, args, kwargs)\u001b[0m\n\u001b[1;32m    734\u001b[0m         \u001b[0;32mwith\u001b[0m \u001b[0mjax\u001b[0m\u001b[0;34m.\u001b[0m\u001b[0mnamed_scope\u001b[0m\u001b[0;34m(\u001b[0m\u001b[0m_derive_profiling_name\u001b[0m\u001b[0;34m(\u001b[0m\u001b[0mself\u001b[0m\u001b[0;34m,\u001b[0m \u001b[0mfun\u001b[0m\u001b[0;34m)\u001b[0m\u001b[0;34m)\u001b[0m\u001b[0;34m:\u001b[0m\u001b[0;34m\u001b[0m\u001b[0;34m\u001b[0m\u001b[0m\n\u001b[0;32m--> 735\u001b[0;31m           \u001b[0my\u001b[0m \u001b[0;34m=\u001b[0m \u001b[0mfun\u001b[0m\u001b[0;34m(\u001b[0m\u001b[0mself\u001b[0m\u001b[0;34m,\u001b[0m \u001b[0;34m*\u001b[0m\u001b[0margs\u001b[0m\u001b[0;34m,\u001b[0m \u001b[0;34m**\u001b[0m\u001b[0mkwargs\u001b[0m\u001b[0;34m)\u001b[0m\u001b[0;34m\u001b[0m\u001b[0;34m\u001b[0m\u001b[0m\n\u001b[0m\u001b[1;32m    736\u001b[0m       \u001b[0;32melse\u001b[0m\u001b[0;34m:\u001b[0m\u001b[0;34m\u001b[0m\u001b[0;34m\u001b[0m\u001b[0m\n",
            "\u001b[0;32m/usr/local/lib/python3.8/dist-packages/jax_resnet/common.py\u001b[0m in \u001b[0;36m__call__\u001b[0;34m(self, x)\u001b[0m\n\u001b[1;32m     58\u001b[0m         \u001b[0;32mfor\u001b[0m \u001b[0mlayer\u001b[0m \u001b[0;32min\u001b[0m \u001b[0mself\u001b[0m\u001b[0;34m.\u001b[0m\u001b[0mlayers\u001b[0m\u001b[0;34m:\u001b[0m\u001b[0;34m\u001b[0m\u001b[0;34m\u001b[0m\u001b[0m\n\u001b[0;32m---> 59\u001b[0;31m             \u001b[0mx\u001b[0m \u001b[0;34m=\u001b[0m \u001b[0mlayer\u001b[0m\u001b[0;34m(\u001b[0m\u001b[0mx\u001b[0m\u001b[0;34m)\u001b[0m\u001b[0;34m\u001b[0m\u001b[0;34m\u001b[0m\u001b[0m\n\u001b[0m\u001b[1;32m     60\u001b[0m         \u001b[0;32mreturn\u001b[0m \u001b[0mx\u001b[0m\u001b[0;34m\u001b[0m\u001b[0;34m\u001b[0m\u001b[0m\n",
            "\u001b[0;32m/usr/local/lib/python3.8/dist-packages/flax/linen/module.py\u001b[0m in \u001b[0;36mwrapped_module_method\u001b[0;34m(*args, **kwargs)\u001b[0m\n\u001b[1;32m    410\u001b[0m       \u001b[0mself\u001b[0m\u001b[0;34m,\u001b[0m \u001b[0margs\u001b[0m \u001b[0;34m=\u001b[0m \u001b[0margs\u001b[0m\u001b[0;34m[\u001b[0m\u001b[0;36m0\u001b[0m\u001b[0;34m]\u001b[0m\u001b[0;34m,\u001b[0m \u001b[0margs\u001b[0m\u001b[0;34m[\u001b[0m\u001b[0;36m1\u001b[0m\u001b[0;34m:\u001b[0m\u001b[0;34m]\u001b[0m\u001b[0;34m\u001b[0m\u001b[0;34m\u001b[0m\u001b[0m\n\u001b[0;32m--> 411\u001b[0;31m       \u001b[0;32mreturn\u001b[0m \u001b[0mself\u001b[0m\u001b[0;34m.\u001b[0m\u001b[0m_call_wrapped_method\u001b[0m\u001b[0;34m(\u001b[0m\u001b[0mfun\u001b[0m\u001b[0;34m,\u001b[0m \u001b[0margs\u001b[0m\u001b[0;34m,\u001b[0m \u001b[0mkwargs\u001b[0m\u001b[0;34m)\u001b[0m\u001b[0;34m\u001b[0m\u001b[0;34m\u001b[0m\u001b[0m\n\u001b[0m\u001b[1;32m    412\u001b[0m     \u001b[0;32melse\u001b[0m\u001b[0;34m:\u001b[0m\u001b[0;34m\u001b[0m\u001b[0;34m\u001b[0m\u001b[0m\n",
            "\u001b[0;32m/usr/local/lib/python3.8/dist-packages/flax/linen/module.py\u001b[0m in \u001b[0;36m_call_wrapped_method\u001b[0;34m(self, fun, args, kwargs)\u001b[0m\n\u001b[1;32m    734\u001b[0m         \u001b[0;32mwith\u001b[0m \u001b[0mjax\u001b[0m\u001b[0;34m.\u001b[0m\u001b[0mnamed_scope\u001b[0m\u001b[0;34m(\u001b[0m\u001b[0m_derive_profiling_name\u001b[0m\u001b[0;34m(\u001b[0m\u001b[0mself\u001b[0m\u001b[0;34m,\u001b[0m \u001b[0mfun\u001b[0m\u001b[0;34m)\u001b[0m\u001b[0;34m)\u001b[0m\u001b[0;34m:\u001b[0m\u001b[0;34m\u001b[0m\u001b[0;34m\u001b[0m\u001b[0m\n\u001b[0;32m--> 735\u001b[0;31m           \u001b[0my\u001b[0m \u001b[0;34m=\u001b[0m \u001b[0mfun\u001b[0m\u001b[0;34m(\u001b[0m\u001b[0mself\u001b[0m\u001b[0;34m,\u001b[0m \u001b[0;34m*\u001b[0m\u001b[0margs\u001b[0m\u001b[0;34m,\u001b[0m \u001b[0;34m**\u001b[0m\u001b[0mkwargs\u001b[0m\u001b[0;34m)\u001b[0m\u001b[0;34m\u001b[0m\u001b[0;34m\u001b[0m\u001b[0m\n\u001b[0m\u001b[1;32m    736\u001b[0m       \u001b[0;32melse\u001b[0m\u001b[0;34m:\u001b[0m\u001b[0;34m\u001b[0m\u001b[0;34m\u001b[0m\u001b[0m\n",
            "\u001b[0;32m/usr/local/lib/python3.8/dist-packages/jax_resnet/resnet.py\u001b[0m in \u001b[0;36m__call__\u001b[0;34m(self, x)\u001b[0m\n\u001b[1;32m     92\u001b[0m         \u001b[0mskip_cls\u001b[0m \u001b[0;34m=\u001b[0m \u001b[0mpartial\u001b[0m\u001b[0;34m(\u001b[0m\u001b[0mself\u001b[0m\u001b[0;34m.\u001b[0m\u001b[0mskip_cls\u001b[0m\u001b[0;34m,\u001b[0m \u001b[0mconv_block_cls\u001b[0m\u001b[0;34m=\u001b[0m\u001b[0mself\u001b[0m\u001b[0;34m.\u001b[0m\u001b[0mconv_block_cls\u001b[0m\u001b[0;34m)\u001b[0m\u001b[0;34m\u001b[0m\u001b[0;34m\u001b[0m\u001b[0m\n\u001b[0;32m---> 93\u001b[0;31m         y = self.conv_block_cls(self.n_hidden,\n\u001b[0m\u001b[1;32m     94\u001b[0m                                 \u001b[0mpadding\u001b[0m\u001b[0;34m=\u001b[0m\u001b[0;34m[\u001b[0m\u001b[0;34m(\u001b[0m\u001b[0;36m1\u001b[0m\u001b[0;34m,\u001b[0m \u001b[0;36m1\u001b[0m\u001b[0;34m)\u001b[0m\u001b[0;34m,\u001b[0m \u001b[0;34m(\u001b[0m\u001b[0;36m1\u001b[0m\u001b[0;34m,\u001b[0m \u001b[0;36m1\u001b[0m\u001b[0;34m)\u001b[0m\u001b[0;34m]\u001b[0m\u001b[0;34m,\u001b[0m\u001b[0;34m\u001b[0m\u001b[0;34m\u001b[0m\u001b[0m\n",
            "\u001b[0;32m/usr/local/lib/python3.8/dist-packages/flax/linen/module.py\u001b[0m in \u001b[0;36mwrapped_module_method\u001b[0;34m(*args, **kwargs)\u001b[0m\n\u001b[1;32m    410\u001b[0m       \u001b[0mself\u001b[0m\u001b[0;34m,\u001b[0m \u001b[0margs\u001b[0m \u001b[0;34m=\u001b[0m \u001b[0margs\u001b[0m\u001b[0;34m[\u001b[0m\u001b[0;36m0\u001b[0m\u001b[0;34m]\u001b[0m\u001b[0;34m,\u001b[0m \u001b[0margs\u001b[0m\u001b[0;34m[\u001b[0m\u001b[0;36m1\u001b[0m\u001b[0;34m:\u001b[0m\u001b[0;34m]\u001b[0m\u001b[0;34m\u001b[0m\u001b[0;34m\u001b[0m\u001b[0m\n\u001b[0;32m--> 411\u001b[0;31m       \u001b[0;32mreturn\u001b[0m \u001b[0mself\u001b[0m\u001b[0;34m.\u001b[0m\u001b[0m_call_wrapped_method\u001b[0m\u001b[0;34m(\u001b[0m\u001b[0mfun\u001b[0m\u001b[0;34m,\u001b[0m \u001b[0margs\u001b[0m\u001b[0;34m,\u001b[0m \u001b[0mkwargs\u001b[0m\u001b[0;34m)\u001b[0m\u001b[0;34m\u001b[0m\u001b[0;34m\u001b[0m\u001b[0m\n\u001b[0m\u001b[1;32m    412\u001b[0m     \u001b[0;32melse\u001b[0m\u001b[0;34m:\u001b[0m\u001b[0;34m\u001b[0m\u001b[0;34m\u001b[0m\u001b[0m\n",
            "\u001b[0;32m/usr/local/lib/python3.8/dist-packages/flax/linen/module.py\u001b[0m in \u001b[0;36m_call_wrapped_method\u001b[0;34m(self, fun, args, kwargs)\u001b[0m\n\u001b[1;32m    734\u001b[0m         \u001b[0;32mwith\u001b[0m \u001b[0mjax\u001b[0m\u001b[0;34m.\u001b[0m\u001b[0mnamed_scope\u001b[0m\u001b[0;34m(\u001b[0m\u001b[0m_derive_profiling_name\u001b[0m\u001b[0;34m(\u001b[0m\u001b[0mself\u001b[0m\u001b[0;34m,\u001b[0m \u001b[0mfun\u001b[0m\u001b[0;34m)\u001b[0m\u001b[0;34m)\u001b[0m\u001b[0;34m:\u001b[0m\u001b[0;34m\u001b[0m\u001b[0;34m\u001b[0m\u001b[0m\n\u001b[0;32m--> 735\u001b[0;31m           \u001b[0my\u001b[0m \u001b[0;34m=\u001b[0m \u001b[0mfun\u001b[0m\u001b[0;34m(\u001b[0m\u001b[0mself\u001b[0m\u001b[0;34m,\u001b[0m \u001b[0;34m*\u001b[0m\u001b[0margs\u001b[0m\u001b[0;34m,\u001b[0m \u001b[0;34m**\u001b[0m\u001b[0mkwargs\u001b[0m\u001b[0;34m)\u001b[0m\u001b[0;34m\u001b[0m\u001b[0;34m\u001b[0m\u001b[0m\n\u001b[0m\u001b[1;32m    736\u001b[0m       \u001b[0;32melse\u001b[0m\u001b[0;34m:\u001b[0m\u001b[0;34m\u001b[0m\u001b[0;34m\u001b[0m\u001b[0m\n",
            "\u001b[0;32m/usr/local/lib/python3.8/dist-packages/jax_resnet/common.py\u001b[0m in \u001b[0;36m__call__\u001b[0;34m(self, x)\u001b[0m\n\u001b[1;32m     31\u001b[0m     \u001b[0;32mdef\u001b[0m \u001b[0m__call__\u001b[0m\u001b[0;34m(\u001b[0m\u001b[0mself\u001b[0m\u001b[0;34m,\u001b[0m \u001b[0mx\u001b[0m\u001b[0;34m)\u001b[0m\u001b[0;34m:\u001b[0m\u001b[0;34m\u001b[0m\u001b[0;34m\u001b[0m\u001b[0m\n\u001b[0;32m---> 32\u001b[0;31m         x = self.conv_cls(\n\u001b[0m\u001b[1;32m     33\u001b[0m             \u001b[0mself\u001b[0m\u001b[0;34m.\u001b[0m\u001b[0mn_filters\u001b[0m\u001b[0;34m,\u001b[0m\u001b[0;34m\u001b[0m\u001b[0;34m\u001b[0m\u001b[0m\n",
            "\u001b[0;32m/usr/local/lib/python3.8/dist-packages/flax/linen/module.py\u001b[0m in \u001b[0;36mwrapped_module_method\u001b[0;34m(*args, **kwargs)\u001b[0m\n\u001b[1;32m    410\u001b[0m       \u001b[0mself\u001b[0m\u001b[0;34m,\u001b[0m \u001b[0margs\u001b[0m \u001b[0;34m=\u001b[0m \u001b[0margs\u001b[0m\u001b[0;34m[\u001b[0m\u001b[0;36m0\u001b[0m\u001b[0;34m]\u001b[0m\u001b[0;34m,\u001b[0m \u001b[0margs\u001b[0m\u001b[0;34m[\u001b[0m\u001b[0;36m1\u001b[0m\u001b[0;34m:\u001b[0m\u001b[0;34m]\u001b[0m\u001b[0;34m\u001b[0m\u001b[0;34m\u001b[0m\u001b[0m\n\u001b[0;32m--> 411\u001b[0;31m       \u001b[0;32mreturn\u001b[0m \u001b[0mself\u001b[0m\u001b[0;34m.\u001b[0m\u001b[0m_call_wrapped_method\u001b[0m\u001b[0;34m(\u001b[0m\u001b[0mfun\u001b[0m\u001b[0;34m,\u001b[0m \u001b[0margs\u001b[0m\u001b[0;34m,\u001b[0m \u001b[0mkwargs\u001b[0m\u001b[0;34m)\u001b[0m\u001b[0;34m\u001b[0m\u001b[0;34m\u001b[0m\u001b[0m\n\u001b[0m\u001b[1;32m    412\u001b[0m     \u001b[0;32melse\u001b[0m\u001b[0;34m:\u001b[0m\u001b[0;34m\u001b[0m\u001b[0;34m\u001b[0m\u001b[0m\n",
            "\u001b[0;32m/usr/local/lib/python3.8/dist-packages/flax/linen/module.py\u001b[0m in \u001b[0;36m_call_wrapped_method\u001b[0;34m(self, fun, args, kwargs)\u001b[0m\n\u001b[1;32m    734\u001b[0m         \u001b[0;32mwith\u001b[0m \u001b[0mjax\u001b[0m\u001b[0;34m.\u001b[0m\u001b[0mnamed_scope\u001b[0m\u001b[0;34m(\u001b[0m\u001b[0m_derive_profiling_name\u001b[0m\u001b[0;34m(\u001b[0m\u001b[0mself\u001b[0m\u001b[0;34m,\u001b[0m \u001b[0mfun\u001b[0m\u001b[0;34m)\u001b[0m\u001b[0;34m)\u001b[0m\u001b[0;34m:\u001b[0m\u001b[0;34m\u001b[0m\u001b[0;34m\u001b[0m\u001b[0m\n\u001b[0;32m--> 735\u001b[0;31m           \u001b[0my\u001b[0m \u001b[0;34m=\u001b[0m \u001b[0mfun\u001b[0m\u001b[0;34m(\u001b[0m\u001b[0mself\u001b[0m\u001b[0;34m,\u001b[0m \u001b[0;34m*\u001b[0m\u001b[0margs\u001b[0m\u001b[0;34m,\u001b[0m \u001b[0;34m**\u001b[0m\u001b[0mkwargs\u001b[0m\u001b[0;34m)\u001b[0m\u001b[0;34m\u001b[0m\u001b[0;34m\u001b[0m\u001b[0m\n\u001b[0m\u001b[1;32m    736\u001b[0m       \u001b[0;32melse\u001b[0m\u001b[0;34m:\u001b[0m\u001b[0;34m\u001b[0m\u001b[0;34m\u001b[0m\u001b[0m\n",
            "\u001b[0;32m/usr/local/lib/python3.8/dist-packages/flax/linen/linear.py\u001b[0m in \u001b[0;36m__call__\u001b[0;34m(self, inputs)\u001b[0m\n\u001b[1;32m    414\u001b[0m \u001b[0;34m\u001b[0m\u001b[0m\n\u001b[0;32m--> 415\u001b[0;31m     kernel = self.param('kernel', self.kernel_init, kernel_shape,\n\u001b[0m\u001b[1;32m    416\u001b[0m                         self.param_dtype)\n",
            "\u001b[0;32m/usr/local/lib/python3.8/dist-packages/flax/linen/module.py\u001b[0m in \u001b[0;36mparam\u001b[0;34m(self, name, init_fn, *init_args)\u001b[0m\n\u001b[1;32m   1086\u001b[0m       \u001b[0;32mraise\u001b[0m \u001b[0merrors\u001b[0m\u001b[0;34m.\u001b[0m\u001b[0mNameInUseError\u001b[0m\u001b[0;34m(\u001b[0m\u001b[0;34m'param'\u001b[0m\u001b[0;34m,\u001b[0m \u001b[0mname\u001b[0m\u001b[0;34m,\u001b[0m \u001b[0mself\u001b[0m\u001b[0;34m.\u001b[0m\u001b[0m__class__\u001b[0m\u001b[0;34m.\u001b[0m\u001b[0m__name__\u001b[0m\u001b[0;34m)\u001b[0m\u001b[0;34m\u001b[0m\u001b[0;34m\u001b[0m\u001b[0m\n\u001b[0;32m-> 1087\u001b[0;31m     \u001b[0mv\u001b[0m \u001b[0;34m=\u001b[0m \u001b[0mself\u001b[0m\u001b[0;34m.\u001b[0m\u001b[0mscope\u001b[0m\u001b[0;34m.\u001b[0m\u001b[0mparam\u001b[0m\u001b[0;34m(\u001b[0m\u001b[0mname\u001b[0m\u001b[0;34m,\u001b[0m \u001b[0minit_fn\u001b[0m\u001b[0;34m,\u001b[0m \u001b[0;34m*\u001b[0m\u001b[0minit_args\u001b[0m\u001b[0;34m)\u001b[0m\u001b[0;34m\u001b[0m\u001b[0;34m\u001b[0m\u001b[0m\n\u001b[0m\u001b[1;32m   1088\u001b[0m     \u001b[0mself\u001b[0m\u001b[0;34m.\u001b[0m\u001b[0m_state\u001b[0m\u001b[0;34m.\u001b[0m\u001b[0mchildren\u001b[0m\u001b[0;34m[\u001b[0m\u001b[0mname\u001b[0m\u001b[0;34m]\u001b[0m \u001b[0;34m=\u001b[0m \u001b[0;34m'params'\u001b[0m\u001b[0;34m\u001b[0m\u001b[0;34m\u001b[0m\u001b[0m\n",
            "\u001b[0;32m/usr/local/lib/python3.8/dist-packages/flax/core/scope.py\u001b[0m in \u001b[0;36mparam\u001b[0;34m(self, name, init_fn, *init_args)\u001b[0m\n\u001b[1;32m    759\u001b[0m       \u001b[0;31m# NOTE: We could consider moving this to `self.`\u001b[0m\u001b[0;34m\u001b[0m\u001b[0;34m\u001b[0m\u001b[0;34m\u001b[0m\u001b[0m\n\u001b[0;32m--> 760\u001b[0;31m       \u001b[0mabs_value\u001b[0m \u001b[0;34m=\u001b[0m \u001b[0mjax\u001b[0m\u001b[0;34m.\u001b[0m\u001b[0meval_shape\u001b[0m\u001b[0;34m(\u001b[0m\u001b[0;32mlambda\u001b[0m \u001b[0mrng\u001b[0m\u001b[0;34m:\u001b[0m \u001b[0minit_fn\u001b[0m\u001b[0;34m(\u001b[0m\u001b[0mrng\u001b[0m\u001b[0;34m,\u001b[0m \u001b[0;34m*\u001b[0m\u001b[0minit_args\u001b[0m\u001b[0;34m)\u001b[0m\u001b[0;34m,\u001b[0m \u001b[0mabs_rng\u001b[0m\u001b[0;34m)\u001b[0m\u001b[0;34m\u001b[0m\u001b[0;34m\u001b[0m\u001b[0m\n\u001b[0m\u001b[1;32m    761\u001b[0m       \u001b[0mabs_value_flat\u001b[0m \u001b[0;34m=\u001b[0m \u001b[0mjax\u001b[0m\u001b[0;34m.\u001b[0m\u001b[0mtree_util\u001b[0m\u001b[0;34m.\u001b[0m\u001b[0mtree_leaves\u001b[0m\u001b[0;34m(\u001b[0m\u001b[0mabs_value\u001b[0m\u001b[0;34m)\u001b[0m\u001b[0;34m\u001b[0m\u001b[0;34m\u001b[0m\u001b[0m\n",
            "\u001b[0;32m/usr/local/lib/python3.8/dist-packages/jax/_src/api.py\u001b[0m in \u001b[0;36meval_shape\u001b[0;34m(fun, *args, **kwargs)\u001b[0m\n\u001b[1;32m   3200\u001b[0m   \u001b[0mdebug_info\u001b[0m \u001b[0;34m=\u001b[0m \u001b[0mpe\u001b[0m\u001b[0;34m.\u001b[0m\u001b[0mdebug_info\u001b[0m\u001b[0;34m(\u001b[0m\u001b[0mfun\u001b[0m\u001b[0;34m,\u001b[0m \u001b[0min_tree\u001b[0m\u001b[0;34m,\u001b[0m \u001b[0;32mTrue\u001b[0m\u001b[0;34m,\u001b[0m \u001b[0;34m\"eval_shape\"\u001b[0m\u001b[0;34m)\u001b[0m\u001b[0;34m\u001b[0m\u001b[0;34m\u001b[0m\u001b[0m\n\u001b[0;32m-> 3201\u001b[0;31m   out = pe.abstract_eval_fun(wrapped_fun.call_wrapped,\n\u001b[0m\u001b[1;32m   3202\u001b[0m                              \u001b[0;34m*\u001b[0m\u001b[0mmap\u001b[0m\u001b[0;34m(\u001b[0m\u001b[0mshaped_abstractify\u001b[0m\u001b[0;34m,\u001b[0m \u001b[0margs_flat\u001b[0m\u001b[0;34m)\u001b[0m\u001b[0;34m,\u001b[0m\u001b[0;34m\u001b[0m\u001b[0;34m\u001b[0m\u001b[0m\n",
            "\u001b[0;32m/usr/local/lib/python3.8/dist-packages/jax/interpreters/partial_eval.py\u001b[0m in \u001b[0;36mabstract_eval_fun\u001b[0;34m(fun, debug_info, *avals, **params)\u001b[0m\n\u001b[1;32m    659\u001b[0m \u001b[0;32mdef\u001b[0m \u001b[0mabstract_eval_fun\u001b[0m\u001b[0;34m(\u001b[0m\u001b[0mfun\u001b[0m\u001b[0;34m,\u001b[0m \u001b[0;34m*\u001b[0m\u001b[0mavals\u001b[0m\u001b[0;34m,\u001b[0m \u001b[0mdebug_info\u001b[0m\u001b[0;34m=\u001b[0m\u001b[0;32mNone\u001b[0m\u001b[0;34m,\u001b[0m \u001b[0;34m**\u001b[0m\u001b[0mparams\u001b[0m\u001b[0;34m)\u001b[0m\u001b[0;34m:\u001b[0m\u001b[0;34m\u001b[0m\u001b[0;34m\u001b[0m\u001b[0m\n\u001b[0;32m--> 660\u001b[0;31m   _, avals_out, _ = trace_to_jaxpr_dynamic(\n\u001b[0m\u001b[1;32m    661\u001b[0m       lu.wrap_init(fun, params), avals, debug_info)\n",
            "\u001b[0;32m/usr/local/lib/python3.8/dist-packages/jax/_src/profiler.py\u001b[0m in \u001b[0;36mwrapper\u001b[0;34m(*args, **kwargs)\u001b[0m\n\u001b[1;32m    313\u001b[0m     \u001b[0;32mwith\u001b[0m \u001b[0mTraceAnnotation\u001b[0m\u001b[0;34m(\u001b[0m\u001b[0mname\u001b[0m\u001b[0;34m,\u001b[0m \u001b[0;34m**\u001b[0m\u001b[0mdecorator_kwargs\u001b[0m\u001b[0;34m)\u001b[0m\u001b[0;34m:\u001b[0m\u001b[0;34m\u001b[0m\u001b[0;34m\u001b[0m\u001b[0m\n\u001b[0;32m--> 314\u001b[0;31m       \u001b[0;32mreturn\u001b[0m \u001b[0mfunc\u001b[0m\u001b[0;34m(\u001b[0m\u001b[0;34m*\u001b[0m\u001b[0margs\u001b[0m\u001b[0;34m,\u001b[0m \u001b[0;34m**\u001b[0m\u001b[0mkwargs\u001b[0m\u001b[0;34m)\u001b[0m\u001b[0;34m\u001b[0m\u001b[0;34m\u001b[0m\u001b[0m\n\u001b[0m\u001b[1;32m    315\u001b[0m     \u001b[0;32mreturn\u001b[0m \u001b[0mwrapper\u001b[0m\u001b[0;34m\u001b[0m\u001b[0;34m\u001b[0m\u001b[0m\n",
            "\u001b[0;32m/usr/local/lib/python3.8/dist-packages/jax/interpreters/partial_eval.py\u001b[0m in \u001b[0;36mtrace_to_jaxpr_dynamic\u001b[0;34m(fun, in_avals, debug_info, keep_inputs)\u001b[0m\n\u001b[1;32m   1980\u001b[0m     \u001b[0mmain\u001b[0m\u001b[0;34m.\u001b[0m\u001b[0mjaxpr_stack\u001b[0m \u001b[0;34m=\u001b[0m \u001b[0;34m(\u001b[0m\u001b[0;34m)\u001b[0m  \u001b[0;31m# type: ignore\u001b[0m\u001b[0;34m\u001b[0m\u001b[0;34m\u001b[0m\u001b[0m\n\u001b[0;32m-> 1981\u001b[0;31m     jaxpr, out_avals, consts = trace_to_subjaxpr_dynamic(\n\u001b[0m\u001b[1;32m   1982\u001b[0m       fun, main, in_avals, keep_inputs=keep_inputs, debug_info=debug_info)\n",
            "\u001b[0;32m/usr/local/lib/python3.8/dist-packages/jax/interpreters/partial_eval.py\u001b[0m in \u001b[0;36mtrace_to_subjaxpr_dynamic\u001b[0;34m(fun, main, in_avals, keep_inputs, debug_info)\u001b[0m\n\u001b[1;32m   1997\u001b[0m     \u001b[0min_tracers_\u001b[0m \u001b[0;34m=\u001b[0m \u001b[0;34m[\u001b[0m\u001b[0mt\u001b[0m \u001b[0;32mfor\u001b[0m \u001b[0mt\u001b[0m\u001b[0;34m,\u001b[0m \u001b[0mkeep\u001b[0m \u001b[0;32min\u001b[0m \u001b[0mzip\u001b[0m\u001b[0;34m(\u001b[0m\u001b[0min_tracers\u001b[0m\u001b[0;34m,\u001b[0m \u001b[0mkeep_inputs\u001b[0m\u001b[0;34m)\u001b[0m \u001b[0;32mif\u001b[0m \u001b[0mkeep\u001b[0m\u001b[0;34m]\u001b[0m\u001b[0;34m\u001b[0m\u001b[0;34m\u001b[0m\u001b[0m\n\u001b[0;32m-> 1998\u001b[0;31m     \u001b[0mans\u001b[0m \u001b[0;34m=\u001b[0m \u001b[0mfun\u001b[0m\u001b[0;34m.\u001b[0m\u001b[0mcall_wrapped\u001b[0m\u001b[0;34m(\u001b[0m\u001b[0;34m*\u001b[0m\u001b[0min_tracers_\u001b[0m\u001b[0;34m)\u001b[0m\u001b[0;34m\u001b[0m\u001b[0;34m\u001b[0m\u001b[0m\n\u001b[0m\u001b[1;32m   1999\u001b[0m     \u001b[0mout_tracers\u001b[0m \u001b[0;34m=\u001b[0m \u001b[0mmap\u001b[0m\u001b[0;34m(\u001b[0m\u001b[0mtrace\u001b[0m\u001b[0;34m.\u001b[0m\u001b[0mfull_raise\u001b[0m\u001b[0;34m,\u001b[0m \u001b[0mans\u001b[0m\u001b[0;34m)\u001b[0m\u001b[0;34m\u001b[0m\u001b[0;34m\u001b[0m\u001b[0m\n",
            "\u001b[0;32m/usr/local/lib/python3.8/dist-packages/jax/linear_util.py\u001b[0m in \u001b[0;36mcall_wrapped\u001b[0;34m(self, *args, **kwargs)\u001b[0m\n\u001b[1;32m    166\u001b[0m     \u001b[0;32mtry\u001b[0m\u001b[0;34m:\u001b[0m\u001b[0;34m\u001b[0m\u001b[0;34m\u001b[0m\u001b[0m\n\u001b[0;32m--> 167\u001b[0;31m       \u001b[0mans\u001b[0m \u001b[0;34m=\u001b[0m \u001b[0mself\u001b[0m\u001b[0;34m.\u001b[0m\u001b[0mf\u001b[0m\u001b[0;34m(\u001b[0m\u001b[0;34m*\u001b[0m\u001b[0margs\u001b[0m\u001b[0;34m,\u001b[0m \u001b[0;34m**\u001b[0m\u001b[0mdict\u001b[0m\u001b[0;34m(\u001b[0m\u001b[0mself\u001b[0m\u001b[0;34m.\u001b[0m\u001b[0mparams\u001b[0m\u001b[0;34m,\u001b[0m \u001b[0;34m**\u001b[0m\u001b[0mkwargs\u001b[0m\u001b[0;34m)\u001b[0m\u001b[0;34m)\u001b[0m\u001b[0;34m\u001b[0m\u001b[0;34m\u001b[0m\u001b[0m\n\u001b[0m\u001b[1;32m    168\u001b[0m     \u001b[0;32mexcept\u001b[0m\u001b[0;34m:\u001b[0m\u001b[0;34m\u001b[0m\u001b[0;34m\u001b[0m\u001b[0m\n",
            "\u001b[0;32m/usr/local/lib/python3.8/dist-packages/jax/linear_util.py\u001b[0m in \u001b[0;36mcall_wrapped\u001b[0;34m(self, *args, **kwargs)\u001b[0m\n\u001b[1;32m    166\u001b[0m     \u001b[0;32mtry\u001b[0m\u001b[0;34m:\u001b[0m\u001b[0;34m\u001b[0m\u001b[0;34m\u001b[0m\u001b[0m\n\u001b[0;32m--> 167\u001b[0;31m       \u001b[0mans\u001b[0m \u001b[0;34m=\u001b[0m \u001b[0mself\u001b[0m\u001b[0;34m.\u001b[0m\u001b[0mf\u001b[0m\u001b[0;34m(\u001b[0m\u001b[0;34m*\u001b[0m\u001b[0margs\u001b[0m\u001b[0;34m,\u001b[0m \u001b[0;34m**\u001b[0m\u001b[0mdict\u001b[0m\u001b[0;34m(\u001b[0m\u001b[0mself\u001b[0m\u001b[0;34m.\u001b[0m\u001b[0mparams\u001b[0m\u001b[0;34m,\u001b[0m \u001b[0;34m**\u001b[0m\u001b[0mkwargs\u001b[0m\u001b[0;34m)\u001b[0m\u001b[0;34m)\u001b[0m\u001b[0;34m\u001b[0m\u001b[0;34m\u001b[0m\u001b[0m\n\u001b[0m\u001b[1;32m    168\u001b[0m     \u001b[0;32mexcept\u001b[0m\u001b[0;34m:\u001b[0m\u001b[0;34m\u001b[0m\u001b[0;34m\u001b[0m\u001b[0m\n",
            "\u001b[0;32m/usr/local/lib/python3.8/dist-packages/flax/core/scope.py\u001b[0m in \u001b[0;36m<lambda>\u001b[0;34m(rng)\u001b[0m\n\u001b[1;32m    759\u001b[0m       \u001b[0;31m# NOTE: We could consider moving this to `self.`\u001b[0m\u001b[0;34m\u001b[0m\u001b[0;34m\u001b[0m\u001b[0;34m\u001b[0m\u001b[0m\n\u001b[0;32m--> 760\u001b[0;31m       \u001b[0mabs_value\u001b[0m \u001b[0;34m=\u001b[0m \u001b[0mjax\u001b[0m\u001b[0;34m.\u001b[0m\u001b[0meval_shape\u001b[0m\u001b[0;34m(\u001b[0m\u001b[0;32mlambda\u001b[0m \u001b[0mrng\u001b[0m\u001b[0;34m:\u001b[0m \u001b[0minit_fn\u001b[0m\u001b[0;34m(\u001b[0m\u001b[0mrng\u001b[0m\u001b[0;34m,\u001b[0m \u001b[0;34m*\u001b[0m\u001b[0minit_args\u001b[0m\u001b[0;34m)\u001b[0m\u001b[0;34m,\u001b[0m \u001b[0mabs_rng\u001b[0m\u001b[0;34m)\u001b[0m\u001b[0;34m\u001b[0m\u001b[0;34m\u001b[0m\u001b[0m\n\u001b[0m\u001b[1;32m    761\u001b[0m       \u001b[0mabs_value_flat\u001b[0m \u001b[0;34m=\u001b[0m \u001b[0mjax\u001b[0m\u001b[0;34m.\u001b[0m\u001b[0mtree_util\u001b[0m\u001b[0;34m.\u001b[0m\u001b[0mtree_leaves\u001b[0m\u001b[0;34m(\u001b[0m\u001b[0mabs_value\u001b[0m\u001b[0;34m)\u001b[0m\u001b[0;34m\u001b[0m\u001b[0;34m\u001b[0m\u001b[0m\n",
            "\u001b[0;32m/usr/local/lib/python3.8/dist-packages/jax/_src/nn/initializers.py\u001b[0m in \u001b[0;36minit\u001b[0;34m(key, shape, dtype)\u001b[0m\n\u001b[1;32m    277\u001b[0m         \u001b[0mstddev\u001b[0m \u001b[0;34m=\u001b[0m \u001b[0mjnp\u001b[0m\u001b[0;34m.\u001b[0m\u001b[0msqrt\u001b[0m\u001b[0;34m(\u001b[0m\u001b[0mvariance\u001b[0m\u001b[0;34m)\u001b[0m \u001b[0;34m/\u001b[0m \u001b[0mjnp\u001b[0m\u001b[0;34m.\u001b[0m\u001b[0marray\u001b[0m\u001b[0;34m(\u001b[0m\u001b[0;36m.87962566103423978\u001b[0m\u001b[0;34m,\u001b[0m \u001b[0mdtype\u001b[0m\u001b[0;34m)\u001b[0m\u001b[0;34m\u001b[0m\u001b[0;34m\u001b[0m\u001b[0m\n\u001b[0;32m--> 278\u001b[0;31m         \u001b[0;32mreturn\u001b[0m \u001b[0mrandom\u001b[0m\u001b[0;34m.\u001b[0m\u001b[0mtruncated_normal\u001b[0m\u001b[0;34m(\u001b[0m\u001b[0mkey\u001b[0m\u001b[0;34m,\u001b[0m \u001b[0;34m-\u001b[0m\u001b[0;36m2\u001b[0m\u001b[0;34m,\u001b[0m \u001b[0;36m2\u001b[0m\u001b[0;34m,\u001b[0m \u001b[0mnamed_shape\u001b[0m\u001b[0;34m,\u001b[0m \u001b[0mdtype\u001b[0m\u001b[0;34m)\u001b[0m \u001b[0;34m*\u001b[0m \u001b[0mstddev\u001b[0m\u001b[0;34m\u001b[0m\u001b[0;34m\u001b[0m\u001b[0m\n\u001b[0m\u001b[1;32m    279\u001b[0m       \u001b[0;32melse\u001b[0m\u001b[0;34m:\u001b[0m\u001b[0;34m\u001b[0m\u001b[0;34m\u001b[0m\u001b[0m\n",
            "\u001b[0;32m/usr/local/lib/python3.8/dist-packages/jax/core.py\u001b[0m in \u001b[0;36m__mul__\u001b[0;34m(self, other)\u001b[0m\n\u001b[1;32m    604\u001b[0m   \u001b[0;32mdef\u001b[0m \u001b[0m__rsub__\u001b[0m\u001b[0;34m(\u001b[0m\u001b[0mself\u001b[0m\u001b[0;34m,\u001b[0m \u001b[0mother\u001b[0m\u001b[0;34m)\u001b[0m\u001b[0;34m:\u001b[0m \u001b[0;32mreturn\u001b[0m \u001b[0mself\u001b[0m\u001b[0;34m.\u001b[0m\u001b[0maval\u001b[0m\u001b[0;34m.\u001b[0m\u001b[0m_rsub\u001b[0m\u001b[0;34m(\u001b[0m\u001b[0mself\u001b[0m\u001b[0;34m,\u001b[0m \u001b[0mother\u001b[0m\u001b[0;34m)\u001b[0m\u001b[0;34m\u001b[0m\u001b[0;34m\u001b[0m\u001b[0m\n\u001b[0;32m--> 605\u001b[0;31m   \u001b[0;32mdef\u001b[0m \u001b[0m__mul__\u001b[0m\u001b[0;34m(\u001b[0m\u001b[0mself\u001b[0m\u001b[0;34m,\u001b[0m \u001b[0mother\u001b[0m\u001b[0;34m)\u001b[0m\u001b[0;34m:\u001b[0m \u001b[0;32mreturn\u001b[0m \u001b[0mself\u001b[0m\u001b[0;34m.\u001b[0m\u001b[0maval\u001b[0m\u001b[0;34m.\u001b[0m\u001b[0m_mul\u001b[0m\u001b[0;34m(\u001b[0m\u001b[0mself\u001b[0m\u001b[0;34m,\u001b[0m \u001b[0mother\u001b[0m\u001b[0;34m)\u001b[0m\u001b[0;34m\u001b[0m\u001b[0;34m\u001b[0m\u001b[0m\n\u001b[0m\u001b[1;32m    606\u001b[0m   \u001b[0;32mdef\u001b[0m \u001b[0m__rmul__\u001b[0m\u001b[0;34m(\u001b[0m\u001b[0mself\u001b[0m\u001b[0;34m,\u001b[0m \u001b[0mother\u001b[0m\u001b[0;34m)\u001b[0m\u001b[0;34m:\u001b[0m \u001b[0;32mreturn\u001b[0m \u001b[0mself\u001b[0m\u001b[0;34m.\u001b[0m\u001b[0maval\u001b[0m\u001b[0;34m.\u001b[0m\u001b[0m_rmul\u001b[0m\u001b[0;34m(\u001b[0m\u001b[0mself\u001b[0m\u001b[0;34m,\u001b[0m \u001b[0mother\u001b[0m\u001b[0;34m)\u001b[0m\u001b[0;34m\u001b[0m\u001b[0;34m\u001b[0m\u001b[0m\n",
            "\u001b[0;32m/usr/local/lib/python3.8/dist-packages/jax/_src/numpy/lax_numpy.py\u001b[0m in \u001b[0;36mdeferring_binary_op\u001b[0;34m(self, other)\u001b[0m\n\u001b[1;32m   4935\u001b[0m     \u001b[0;32mif\u001b[0m \u001b[0misinstance\u001b[0m\u001b[0;34m(\u001b[0m\u001b[0mother\u001b[0m\u001b[0;34m,\u001b[0m \u001b[0m_accepted_binop_types\u001b[0m\u001b[0;34m)\u001b[0m\u001b[0;34m:\u001b[0m\u001b[0;34m\u001b[0m\u001b[0;34m\u001b[0m\u001b[0m\n\u001b[0;32m-> 4936\u001b[0;31m       \u001b[0;32mreturn\u001b[0m \u001b[0mbinary_op\u001b[0m\u001b[0;34m(\u001b[0m\u001b[0;34m*\u001b[0m\u001b[0margs\u001b[0m\u001b[0;34m)\u001b[0m\u001b[0;34m\u001b[0m\u001b[0;34m\u001b[0m\u001b[0m\n\u001b[0m\u001b[1;32m   4937\u001b[0m     \u001b[0;32mif\u001b[0m \u001b[0misinstance\u001b[0m\u001b[0;34m(\u001b[0m\u001b[0mother\u001b[0m\u001b[0;34m,\u001b[0m \u001b[0m_rejected_binop_types\u001b[0m\u001b[0;34m)\u001b[0m\u001b[0;34m:\u001b[0m\u001b[0;34m\u001b[0m\u001b[0;34m\u001b[0m\u001b[0m\n",
            "\u001b[0;32m/usr/local/lib/python3.8/dist-packages/jax/_src/traceback_util.py\u001b[0m in \u001b[0;36mreraise_with_filtered_traceback\u001b[0;34m(*args, **kwargs)\u001b[0m\n\u001b[1;32m    161\u001b[0m     \u001b[0;32mtry\u001b[0m\u001b[0;34m:\u001b[0m\u001b[0;34m\u001b[0m\u001b[0;34m\u001b[0m\u001b[0m\n\u001b[0;32m--> 162\u001b[0;31m       \u001b[0;32mreturn\u001b[0m \u001b[0mfun\u001b[0m\u001b[0;34m(\u001b[0m\u001b[0;34m*\u001b[0m\u001b[0margs\u001b[0m\u001b[0;34m,\u001b[0m \u001b[0;34m**\u001b[0m\u001b[0mkwargs\u001b[0m\u001b[0;34m)\u001b[0m\u001b[0;34m\u001b[0m\u001b[0;34m\u001b[0m\u001b[0m\n\u001b[0m\u001b[1;32m    163\u001b[0m     \u001b[0;32mexcept\u001b[0m \u001b[0mException\u001b[0m \u001b[0;32mas\u001b[0m \u001b[0me\u001b[0m\u001b[0;34m:\u001b[0m\u001b[0;34m\u001b[0m\u001b[0;34m\u001b[0m\u001b[0m\n",
            "\u001b[0;32m/usr/local/lib/python3.8/dist-packages/jax/_src/api.py\u001b[0m in \u001b[0;36mcache_miss\u001b[0;34m(*args, **kwargs)\u001b[0m\n\u001b[1;32m    625\u001b[0m       out_flat = call_bind_continuation(\n\u001b[0;32m--> 626\u001b[0;31m           top_trace.process_call(primitive, fun_, tracers, params))\n\u001b[0m\u001b[1;32m    627\u001b[0m     \u001b[0mout_pytree_def\u001b[0m \u001b[0;34m=\u001b[0m \u001b[0mout_tree\u001b[0m\u001b[0;34m(\u001b[0m\u001b[0;34m)\u001b[0m\u001b[0;34m\u001b[0m\u001b[0;34m\u001b[0m\u001b[0m\n",
            "\u001b[0;32m/usr/local/lib/python3.8/dist-packages/jax/interpreters/partial_eval.py\u001b[0m in \u001b[0;36mprocess_call\u001b[0;34m(self, call_primitive, f, explicit_tracers, params)\u001b[0m\n\u001b[1;32m   1738\u001b[0m         \u001b[0mdbg\u001b[0m \u001b[0;34m=\u001b[0m \u001b[0mdebug_info_final\u001b[0m\u001b[0;34m(\u001b[0m\u001b[0mf\u001b[0m\u001b[0;34m,\u001b[0m \u001b[0mcall_primitive\u001b[0m\u001b[0;34m.\u001b[0m\u001b[0mname\u001b[0m\u001b[0;34m)\u001b[0m\u001b[0;34m\u001b[0m\u001b[0;34m\u001b[0m\u001b[0m\n\u001b[0;32m-> 1739\u001b[0;31m         \u001b[0mjaxpr\u001b[0m\u001b[0;34m,\u001b[0m \u001b[0mout_type\u001b[0m\u001b[0;34m,\u001b[0m \u001b[0mconsts\u001b[0m \u001b[0;34m=\u001b[0m \u001b[0mtrace_to_subjaxpr_dynamic2\u001b[0m\u001b[0;34m(\u001b[0m\u001b[0mf\u001b[0m\u001b[0;34m,\u001b[0m \u001b[0mself\u001b[0m\u001b[0;34m.\u001b[0m\u001b[0mmain\u001b[0m\u001b[0;34m,\u001b[0m \u001b[0mdebug_info\u001b[0m\u001b[0;34m=\u001b[0m\u001b[0mdbg\u001b[0m\u001b[0;34m)\u001b[0m\u001b[0;34m\u001b[0m\u001b[0;34m\u001b[0m\u001b[0m\n\u001b[0m\u001b[1;32m   1740\u001b[0m       \u001b[0;32melse\u001b[0m\u001b[0;34m:\u001b[0m\u001b[0;34m\u001b[0m\u001b[0;34m\u001b[0m\u001b[0m\n",
            "\u001b[0;32m/usr/local/lib/python3.8/dist-packages/jax/interpreters/partial_eval.py\u001b[0m in \u001b[0;36mtrace_to_subjaxpr_dynamic2\u001b[0;34m(fun, main, debug_info)\u001b[0m\n\u001b[1;32m   2026\u001b[0m     \u001b[0min_tracers_\u001b[0m \u001b[0;34m=\u001b[0m \u001b[0;34m[\u001b[0m\u001b[0mt\u001b[0m \u001b[0;32mfor\u001b[0m \u001b[0mt\u001b[0m\u001b[0;34m,\u001b[0m \u001b[0mkeep\u001b[0m \u001b[0;32min\u001b[0m \u001b[0mzip\u001b[0m\u001b[0;34m(\u001b[0m\u001b[0min_tracers\u001b[0m\u001b[0;34m,\u001b[0m \u001b[0mkeep_inputs\u001b[0m\u001b[0;34m)\u001b[0m \u001b[0;32mif\u001b[0m \u001b[0mkeep\u001b[0m\u001b[0;34m]\u001b[0m\u001b[0;34m\u001b[0m\u001b[0;34m\u001b[0m\u001b[0m\n\u001b[0;32m-> 2027\u001b[0;31m     \u001b[0mans\u001b[0m \u001b[0;34m=\u001b[0m \u001b[0mfun\u001b[0m\u001b[0;34m.\u001b[0m\u001b[0mcall_wrapped\u001b[0m\u001b[0;34m(\u001b[0m\u001b[0;34m*\u001b[0m\u001b[0min_tracers_\u001b[0m\u001b[0;34m)\u001b[0m\u001b[0;34m\u001b[0m\u001b[0;34m\u001b[0m\u001b[0m\n\u001b[0m\u001b[1;32m   2028\u001b[0m     \u001b[0mout_tracers\u001b[0m \u001b[0;34m=\u001b[0m \u001b[0mmap\u001b[0m\u001b[0;34m(\u001b[0m\u001b[0mtrace\u001b[0m\u001b[0;34m.\u001b[0m\u001b[0mfull_raise\u001b[0m\u001b[0;34m,\u001b[0m \u001b[0mans\u001b[0m\u001b[0;34m)\u001b[0m\u001b[0;34m\u001b[0m\u001b[0;34m\u001b[0m\u001b[0m\n",
            "\u001b[0;32m/usr/local/lib/python3.8/dist-packages/jax/linear_util.py\u001b[0m in \u001b[0;36mcall_wrapped\u001b[0;34m(self, *args, **kwargs)\u001b[0m\n\u001b[1;32m    166\u001b[0m     \u001b[0;32mtry\u001b[0m\u001b[0;34m:\u001b[0m\u001b[0;34m\u001b[0m\u001b[0;34m\u001b[0m\u001b[0m\n\u001b[0;32m--> 167\u001b[0;31m       \u001b[0mans\u001b[0m \u001b[0;34m=\u001b[0m \u001b[0mself\u001b[0m\u001b[0;34m.\u001b[0m\u001b[0mf\u001b[0m\u001b[0;34m(\u001b[0m\u001b[0;34m*\u001b[0m\u001b[0margs\u001b[0m\u001b[0;34m,\u001b[0m \u001b[0;34m**\u001b[0m\u001b[0mdict\u001b[0m\u001b[0;34m(\u001b[0m\u001b[0mself\u001b[0m\u001b[0;34m.\u001b[0m\u001b[0mparams\u001b[0m\u001b[0;34m,\u001b[0m \u001b[0;34m**\u001b[0m\u001b[0mkwargs\u001b[0m\u001b[0;34m)\u001b[0m\u001b[0;34m)\u001b[0m\u001b[0;34m\u001b[0m\u001b[0;34m\u001b[0m\u001b[0m\n\u001b[0m\u001b[1;32m    168\u001b[0m     \u001b[0;32mexcept\u001b[0m\u001b[0;34m:\u001b[0m\u001b[0;34m\u001b[0m\u001b[0;34m\u001b[0m\u001b[0m\n",
            "\u001b[0;32m/usr/local/lib/python3.8/dist-packages/jax/_src/numpy/ufuncs.py\u001b[0m in \u001b[0;36mfn\u001b[0;34m(x1, x2)\u001b[0m\n\u001b[1;32m     96\u001b[0m   \u001b[0;32mdef\u001b[0m \u001b[0mfn\u001b[0m\u001b[0;34m(\u001b[0m\u001b[0mx1\u001b[0m\u001b[0;34m,\u001b[0m \u001b[0mx2\u001b[0m\u001b[0;34m)\u001b[0m\u001b[0;34m:\u001b[0m\u001b[0;34m\u001b[0m\u001b[0;34m\u001b[0m\u001b[0m\n\u001b[0;32m---> 97\u001b[0;31m     \u001b[0mx1\u001b[0m\u001b[0;34m,\u001b[0m \u001b[0mx2\u001b[0m \u001b[0;34m=\u001b[0m \u001b[0m_promote_args\u001b[0m\u001b[0;34m(\u001b[0m\u001b[0mnumpy_fn\u001b[0m\u001b[0;34m.\u001b[0m\u001b[0m__name__\u001b[0m\u001b[0;34m,\u001b[0m \u001b[0mx1\u001b[0m\u001b[0;34m,\u001b[0m \u001b[0mx2\u001b[0m\u001b[0;34m)\u001b[0m\u001b[0;34m\u001b[0m\u001b[0;34m\u001b[0m\u001b[0m\n\u001b[0m\u001b[1;32m     98\u001b[0m     \u001b[0;32mreturn\u001b[0m \u001b[0mlax_fn\u001b[0m\u001b[0;34m(\u001b[0m\u001b[0mx1\u001b[0m\u001b[0;34m,\u001b[0m \u001b[0mx2\u001b[0m\u001b[0;34m)\u001b[0m \u001b[0;32mif\u001b[0m \u001b[0mx1\u001b[0m\u001b[0;34m.\u001b[0m\u001b[0mdtype\u001b[0m \u001b[0;34m!=\u001b[0m \u001b[0mnp\u001b[0m\u001b[0;34m.\u001b[0m\u001b[0mbool_\u001b[0m \u001b[0;32melse\u001b[0m \u001b[0mbool_lax_fn\u001b[0m\u001b[0;34m(\u001b[0m\u001b[0mx1\u001b[0m\u001b[0;34m,\u001b[0m \u001b[0mx2\u001b[0m\u001b[0;34m)\u001b[0m\u001b[0;34m\u001b[0m\u001b[0;34m\u001b[0m\u001b[0m\n",
            "\u001b[0;32m/usr/local/lib/python3.8/dist-packages/jax/_src/numpy/util.py\u001b[0m in \u001b[0;36m_promote_args\u001b[0;34m(fun_name, *args)\u001b[0m\n\u001b[1;32m    364\u001b[0m   \u001b[0m_check_no_float0s\u001b[0m\u001b[0;34m(\u001b[0m\u001b[0mfun_name\u001b[0m\u001b[0;34m,\u001b[0m \u001b[0;34m*\u001b[0m\u001b[0margs\u001b[0m\u001b[0;34m)\u001b[0m\u001b[0;34m\u001b[0m\u001b[0;34m\u001b[0m\u001b[0m\n\u001b[0;32m--> 365\u001b[0;31m   \u001b[0;32mreturn\u001b[0m \u001b[0m_promote_shapes\u001b[0m\u001b[0;34m(\u001b[0m\u001b[0mfun_name\u001b[0m\u001b[0;34m,\u001b[0m \u001b[0;34m*\u001b[0m\u001b[0m_promote_dtypes\u001b[0m\u001b[0;34m(\u001b[0m\u001b[0;34m*\u001b[0m\u001b[0margs\u001b[0m\u001b[0;34m)\u001b[0m\u001b[0;34m)\u001b[0m\u001b[0;34m\u001b[0m\u001b[0;34m\u001b[0m\u001b[0m\n\u001b[0m\u001b[1;32m    366\u001b[0m \u001b[0;34m\u001b[0m\u001b[0m\n",
            "\u001b[0;32m/usr/local/lib/python3.8/dist-packages/jax/_src/numpy/util.py\u001b[0m in \u001b[0;36m_promote_shapes\u001b[0;34m(fun_name, *args)\u001b[0m\n\u001b[1;32m    253\u001b[0m       \u001b[0;32mif\u001b[0m \u001b[0mlen\u001b[0m\u001b[0;34m(\u001b[0m\u001b[0mnonscalar_ranks\u001b[0m\u001b[0;34m)\u001b[0m \u001b[0;34m<\u001b[0m \u001b[0;36m2\u001b[0m\u001b[0;34m:\u001b[0m\u001b[0;34m\u001b[0m\u001b[0;34m\u001b[0m\u001b[0m\n\u001b[0;32m--> 254\u001b[0;31m         \u001b[0;32mreturn\u001b[0m \u001b[0;34m[\u001b[0m\u001b[0m_asarray\u001b[0m\u001b[0;34m(\u001b[0m\u001b[0marg\u001b[0m\u001b[0;34m)\u001b[0m \u001b[0;32mfor\u001b[0m \u001b[0marg\u001b[0m \u001b[0;32min\u001b[0m \u001b[0margs\u001b[0m\u001b[0;34m]\u001b[0m  \u001b[0;31m# rely on lax scalar promotion\u001b[0m\u001b[0;34m\u001b[0m\u001b[0;34m\u001b[0m\u001b[0m\n\u001b[0m\u001b[1;32m    255\u001b[0m       \u001b[0;32melse\u001b[0m\u001b[0;34m:\u001b[0m\u001b[0;34m\u001b[0m\u001b[0;34m\u001b[0m\u001b[0m\n",
            "\u001b[0;32m/usr/local/lib/python3.8/dist-packages/jax/_src/numpy/util.py\u001b[0m in \u001b[0;36m<listcomp>\u001b[0;34m(.0)\u001b[0m\n\u001b[1;32m    253\u001b[0m       \u001b[0;32mif\u001b[0m \u001b[0mlen\u001b[0m\u001b[0;34m(\u001b[0m\u001b[0mnonscalar_ranks\u001b[0m\u001b[0;34m)\u001b[0m \u001b[0;34m<\u001b[0m \u001b[0;36m2\u001b[0m\u001b[0;34m:\u001b[0m\u001b[0;34m\u001b[0m\u001b[0;34m\u001b[0m\u001b[0m\n\u001b[0;32m--> 254\u001b[0;31m         \u001b[0;32mreturn\u001b[0m \u001b[0;34m[\u001b[0m\u001b[0m_asarray\u001b[0m\u001b[0;34m(\u001b[0m\u001b[0marg\u001b[0m\u001b[0;34m)\u001b[0m \u001b[0;32mfor\u001b[0m \u001b[0marg\u001b[0m \u001b[0;32min\u001b[0m \u001b[0margs\u001b[0m\u001b[0;34m]\u001b[0m  \u001b[0;31m# rely on lax scalar promotion\u001b[0m\u001b[0;34m\u001b[0m\u001b[0;34m\u001b[0m\u001b[0m\n\u001b[0m\u001b[1;32m    255\u001b[0m       \u001b[0;32melse\u001b[0m\u001b[0;34m:\u001b[0m\u001b[0;34m\u001b[0m\u001b[0;34m\u001b[0m\u001b[0m\n",
            "\u001b[0;32m/usr/local/lib/python3.8/dist-packages/jax/_src/numpy/util.py\u001b[0m in \u001b[0;36m_asarray\u001b[0;34m(arr)\u001b[0m\n\u001b[1;32m    234\u001b[0m   \u001b[0mdtype\u001b[0m\u001b[0;34m,\u001b[0m \u001b[0mweak_type\u001b[0m \u001b[0;34m=\u001b[0m \u001b[0mdtypes\u001b[0m\u001b[0;34m.\u001b[0m\u001b[0m_lattice_result_type\u001b[0m\u001b[0;34m(\u001b[0m\u001b[0marr\u001b[0m\u001b[0;34m)\u001b[0m\u001b[0;34m\u001b[0m\u001b[0;34m\u001b[0m\u001b[0m\n\u001b[0;32m--> 235\u001b[0;31m   \u001b[0;32mreturn\u001b[0m \u001b[0mlax_internal\u001b[0m\u001b[0;34m.\u001b[0m\u001b[0m_convert_element_type\u001b[0m\u001b[0;34m(\u001b[0m\u001b[0marr\u001b[0m\u001b[0;34m,\u001b[0m \u001b[0mdtype\u001b[0m\u001b[0;34m,\u001b[0m \u001b[0mweak_type\u001b[0m\u001b[0;34m)\u001b[0m\u001b[0;34m\u001b[0m\u001b[0;34m\u001b[0m\u001b[0m\n\u001b[0m\u001b[1;32m    236\u001b[0m \u001b[0;34m\u001b[0m\u001b[0m\n",
            "\u001b[0;32m/usr/local/lib/python3.8/dist-packages/jax/_src/lax/lax.py\u001b[0m in \u001b[0;36m_convert_element_type\u001b[0;34m(operand, new_dtype, weak_type)\u001b[0m\n\u001b[1;32m    568\u001b[0m   \u001b[0;31m# un-canonicalized operands to be passed in.\u001b[0m\u001b[0;34m\u001b[0m\u001b[0;34m\u001b[0m\u001b[0;34m\u001b[0m\u001b[0m\n\u001b[0;32m--> 569\u001b[0;31m   \u001b[0mold_dtype\u001b[0m \u001b[0;34m=\u001b[0m \u001b[0mdtypes\u001b[0m\u001b[0;34m.\u001b[0m\u001b[0mdtype\u001b[0m\u001b[0;34m(\u001b[0m\u001b[0moperand\u001b[0m\u001b[0;34m,\u001b[0m \u001b[0mcanonicalize\u001b[0m\u001b[0;34m=\u001b[0m\u001b[0;32mFalse\u001b[0m\u001b[0;34m)\u001b[0m\u001b[0;34m\u001b[0m\u001b[0;34m\u001b[0m\u001b[0m\n\u001b[0m\u001b[1;32m    570\u001b[0m   \u001b[0mold_weak_type\u001b[0m \u001b[0;34m=\u001b[0m \u001b[0mdtypes\u001b[0m\u001b[0;34m.\u001b[0m\u001b[0mis_weakly_typed\u001b[0m\u001b[0;34m(\u001b[0m\u001b[0moperand\u001b[0m\u001b[0;34m)\u001b[0m\u001b[0;34m\u001b[0m\u001b[0;34m\u001b[0m\u001b[0m\n",
            "\u001b[0;32m/usr/local/lib/python3.8/dist-packages/jax/_src/dtypes.py\u001b[0m in \u001b[0;36mdtype\u001b[0;34m(x, canonicalize)\u001b[0m\n\u001b[1;32m    457\u001b[0m   \u001b[0;32melse\u001b[0m\u001b[0;34m:\u001b[0m\u001b[0;34m\u001b[0m\u001b[0;34m\u001b[0m\u001b[0m\n\u001b[0;32m--> 458\u001b[0;31m     \u001b[0mdt\u001b[0m \u001b[0;34m=\u001b[0m \u001b[0mnp\u001b[0m\u001b[0;34m.\u001b[0m\u001b[0mresult_type\u001b[0m\u001b[0;34m(\u001b[0m\u001b[0mx\u001b[0m\u001b[0;34m)\u001b[0m\u001b[0;34m\u001b[0m\u001b[0;34m\u001b[0m\u001b[0m\n\u001b[0m\u001b[1;32m    459\u001b[0m   \u001b[0;32mif\u001b[0m \u001b[0mdt\u001b[0m \u001b[0;32mnot\u001b[0m \u001b[0;32min\u001b[0m \u001b[0m_jax_dtype_set\u001b[0m\u001b[0;34m:\u001b[0m\u001b[0;34m\u001b[0m\u001b[0;34m\u001b[0m\u001b[0m\n",
            "\u001b[0;32m<__array_function__ internals>\u001b[0m in \u001b[0;36mresult_type\u001b[0;34m(*args, **kwargs)\u001b[0m\n",
            "\u001b[0;31mUnfilteredStackTrace\u001b[0m: TypeError: Cannot interpret 'Traced<ShapedArray(float32[])>with<DynamicJaxprTrace(level=1/1)>' as a data type\n\nThe stack trace below excludes JAX-internal frames.\nThe preceding is the original exception that occurred, unmodified.\n\n--------------------",
            "\nThe above exception was the direct cause of the following exception:\n",
            "\u001b[0;31mTypeError\u001b[0m                                 Traceback (most recent call last)",
            "\u001b[0;32m<ipython-input-20-814a9b9c73e0>\u001b[0m in \u001b[0;36mevaluate_model\u001b[0;34m(state)\u001b[0m\n\u001b[1;32m     35\u001b[0m           \u001b[0;31m# Forward pass through the model\u001b[0m\u001b[0;34m\u001b[0m\u001b[0;34m\u001b[0m\u001b[0;34m\u001b[0m\u001b[0m\n\u001b[0;32m---> 36\u001b[0;31m           \u001b[0mlogits\u001b[0m \u001b[0;34m=\u001b[0m \u001b[0mstate\u001b[0m\u001b[0;34m.\u001b[0m\u001b[0mapply_fn\u001b[0m\u001b[0;34m(\u001b[0m\u001b[0mvariables\u001b[0m\u001b[0;34m,\u001b[0m \u001b[0mbatch\u001b[0m\u001b[0;34m,\u001b[0m \u001b[0mtrain\u001b[0m\u001b[0;34m=\u001b[0m\u001b[0;32mFalse\u001b[0m\u001b[0;34m)\u001b[0m\u001b[0;34m\u001b[0m\u001b[0;34m\u001b[0m\u001b[0m\n\u001b[0m\u001b[1;32m     37\u001b[0m \u001b[0;34m\u001b[0m\u001b[0m\n",
            "\u001b[0;32m/content/drive/.shortcut-targets-by-id/1sukHccN68Nh8Ll76UD_M9g2ElGhyGzty/cs182_final/utils.py\u001b[0m in \u001b[0;36m__call__\u001b[0;34m(self, inputs, train)\u001b[0m\n\u001b[1;32m     82\u001b[0m     \u001b[0;32mdef\u001b[0m \u001b[0m__call__\u001b[0m\u001b[0;34m(\u001b[0m\u001b[0mself\u001b[0m\u001b[0;34m,\u001b[0m \u001b[0minputs\u001b[0m\u001b[0;34m,\u001b[0m \u001b[0mtrain\u001b[0m\u001b[0;34m:\u001b[0m \u001b[0mbool\u001b[0m\u001b[0;34m)\u001b[0m\u001b[0;34m:\u001b[0m\u001b[0;34m\u001b[0m\u001b[0;34m\u001b[0m\u001b[0m\n\u001b[0;32m---> 83\u001b[0;31m         \u001b[0mx\u001b[0m \u001b[0;34m=\u001b[0m \u001b[0mself\u001b[0m\u001b[0;34m.\u001b[0m\u001b[0mbackbone\u001b[0m\u001b[0;34m(\u001b[0m\u001b[0minputs\u001b[0m\u001b[0;34m)\u001b[0m\u001b[0;34m\u001b[0m\u001b[0;34m\u001b[0m\u001b[0m\n\u001b[0m\u001b[1;32m     84\u001b[0m         \u001b[0;31m# average pool layer\u001b[0m\u001b[0;34m\u001b[0m\u001b[0;34m\u001b[0m\u001b[0;34m\u001b[0m\u001b[0m\n",
            "\u001b[0;32m/usr/local/lib/python3.8/dist-packages/jax_resnet/common.py\u001b[0m in \u001b[0;36m__call__\u001b[0;34m(self, x)\u001b[0m\n\u001b[1;32m     58\u001b[0m         \u001b[0;32mfor\u001b[0m \u001b[0mlayer\u001b[0m \u001b[0;32min\u001b[0m \u001b[0mself\u001b[0m\u001b[0;34m.\u001b[0m\u001b[0mlayers\u001b[0m\u001b[0;34m:\u001b[0m\u001b[0;34m\u001b[0m\u001b[0;34m\u001b[0m\u001b[0m\n\u001b[0;32m---> 59\u001b[0;31m             \u001b[0mx\u001b[0m \u001b[0;34m=\u001b[0m \u001b[0mlayer\u001b[0m\u001b[0;34m(\u001b[0m\u001b[0mx\u001b[0m\u001b[0;34m)\u001b[0m\u001b[0;34m\u001b[0m\u001b[0;34m\u001b[0m\u001b[0m\n\u001b[0m\u001b[1;32m     60\u001b[0m         \u001b[0;32mreturn\u001b[0m \u001b[0mx\u001b[0m\u001b[0;34m\u001b[0m\u001b[0;34m\u001b[0m\u001b[0m\n",
            "\u001b[0;32m/usr/local/lib/python3.8/dist-packages/jax_resnet/resnet.py\u001b[0m in \u001b[0;36m__call__\u001b[0;34m(self, x)\u001b[0m\n\u001b[1;32m     92\u001b[0m         \u001b[0mskip_cls\u001b[0m \u001b[0;34m=\u001b[0m \u001b[0mpartial\u001b[0m\u001b[0;34m(\u001b[0m\u001b[0mself\u001b[0m\u001b[0;34m.\u001b[0m\u001b[0mskip_cls\u001b[0m\u001b[0;34m,\u001b[0m \u001b[0mconv_block_cls\u001b[0m\u001b[0;34m=\u001b[0m\u001b[0mself\u001b[0m\u001b[0;34m.\u001b[0m\u001b[0mconv_block_cls\u001b[0m\u001b[0;34m)\u001b[0m\u001b[0;34m\u001b[0m\u001b[0;34m\u001b[0m\u001b[0m\n\u001b[0;32m---> 93\u001b[0;31m         y = self.conv_block_cls(self.n_hidden,\n\u001b[0m\u001b[1;32m     94\u001b[0m                                 \u001b[0mpadding\u001b[0m\u001b[0;34m=\u001b[0m\u001b[0;34m[\u001b[0m\u001b[0;34m(\u001b[0m\u001b[0;36m1\u001b[0m\u001b[0;34m,\u001b[0m \u001b[0;36m1\u001b[0m\u001b[0;34m)\u001b[0m\u001b[0;34m,\u001b[0m \u001b[0;34m(\u001b[0m\u001b[0;36m1\u001b[0m\u001b[0;34m,\u001b[0m \u001b[0;36m1\u001b[0m\u001b[0;34m)\u001b[0m\u001b[0;34m]\u001b[0m\u001b[0;34m,\u001b[0m\u001b[0;34m\u001b[0m\u001b[0;34m\u001b[0m\u001b[0m\n",
            "\u001b[0;32m/usr/local/lib/python3.8/dist-packages/jax_resnet/common.py\u001b[0m in \u001b[0;36m__call__\u001b[0;34m(self, x)\u001b[0m\n\u001b[1;32m     31\u001b[0m     \u001b[0;32mdef\u001b[0m \u001b[0m__call__\u001b[0m\u001b[0;34m(\u001b[0m\u001b[0mself\u001b[0m\u001b[0;34m,\u001b[0m \u001b[0mx\u001b[0m\u001b[0;34m)\u001b[0m\u001b[0;34m:\u001b[0m\u001b[0;34m\u001b[0m\u001b[0;34m\u001b[0m\u001b[0m\n\u001b[0;32m---> 32\u001b[0;31m         x = self.conv_cls(\n\u001b[0m\u001b[1;32m     33\u001b[0m             \u001b[0mself\u001b[0m\u001b[0;34m.\u001b[0m\u001b[0mn_filters\u001b[0m\u001b[0;34m,\u001b[0m\u001b[0;34m\u001b[0m\u001b[0;34m\u001b[0m\u001b[0m\n",
            "\u001b[0;32m/usr/local/lib/python3.8/dist-packages/flax/linen/linear.py\u001b[0m in \u001b[0;36m__call__\u001b[0;34m(self, inputs)\u001b[0m\n\u001b[1;32m    414\u001b[0m \u001b[0;34m\u001b[0m\u001b[0m\n\u001b[0;32m--> 415\u001b[0;31m     kernel = self.param('kernel', self.kernel_init, kernel_shape,\n\u001b[0m\u001b[1;32m    416\u001b[0m                         self.param_dtype)\n",
            "\u001b[0;32m/usr/local/lib/python3.8/dist-packages/jax/_src/nn/initializers.py\u001b[0m in \u001b[0;36minit\u001b[0;34m(key, shape, dtype)\u001b[0m\n\u001b[1;32m    277\u001b[0m         \u001b[0mstddev\u001b[0m \u001b[0;34m=\u001b[0m \u001b[0mjnp\u001b[0m\u001b[0;34m.\u001b[0m\u001b[0msqrt\u001b[0m\u001b[0;34m(\u001b[0m\u001b[0mvariance\u001b[0m\u001b[0;34m)\u001b[0m \u001b[0;34m/\u001b[0m \u001b[0mjnp\u001b[0m\u001b[0;34m.\u001b[0m\u001b[0marray\u001b[0m\u001b[0;34m(\u001b[0m\u001b[0;36m.87962566103423978\u001b[0m\u001b[0;34m,\u001b[0m \u001b[0mdtype\u001b[0m\u001b[0;34m)\u001b[0m\u001b[0;34m\u001b[0m\u001b[0;34m\u001b[0m\u001b[0m\n\u001b[0;32m--> 278\u001b[0;31m         \u001b[0;32mreturn\u001b[0m \u001b[0mrandom\u001b[0m\u001b[0;34m.\u001b[0m\u001b[0mtruncated_normal\u001b[0m\u001b[0;34m(\u001b[0m\u001b[0mkey\u001b[0m\u001b[0;34m,\u001b[0m \u001b[0;34m-\u001b[0m\u001b[0;36m2\u001b[0m\u001b[0;34m,\u001b[0m \u001b[0;36m2\u001b[0m\u001b[0;34m,\u001b[0m \u001b[0mnamed_shape\u001b[0m\u001b[0;34m,\u001b[0m \u001b[0mdtype\u001b[0m\u001b[0;34m)\u001b[0m \u001b[0;34m*\u001b[0m \u001b[0mstddev\u001b[0m\u001b[0;34m\u001b[0m\u001b[0;34m\u001b[0m\u001b[0m\n\u001b[0m\u001b[1;32m    279\u001b[0m       \u001b[0;32melse\u001b[0m\u001b[0;34m:\u001b[0m\u001b[0;34m\u001b[0m\u001b[0;34m\u001b[0m\u001b[0m\n",
            "\u001b[0;32m/usr/local/lib/python3.8/dist-packages/jax/_src/numpy/lax_numpy.py\u001b[0m in \u001b[0;36mdeferring_binary_op\u001b[0;34m(self, other)\u001b[0m\n\u001b[1;32m   4935\u001b[0m     \u001b[0;32mif\u001b[0m \u001b[0misinstance\u001b[0m\u001b[0;34m(\u001b[0m\u001b[0mother\u001b[0m\u001b[0;34m,\u001b[0m \u001b[0m_accepted_binop_types\u001b[0m\u001b[0;34m)\u001b[0m\u001b[0;34m:\u001b[0m\u001b[0;34m\u001b[0m\u001b[0;34m\u001b[0m\u001b[0m\n\u001b[0;32m-> 4936\u001b[0;31m       \u001b[0;32mreturn\u001b[0m \u001b[0mbinary_op\u001b[0m\u001b[0;34m(\u001b[0m\u001b[0;34m*\u001b[0m\u001b[0margs\u001b[0m\u001b[0;34m)\u001b[0m\u001b[0;34m\u001b[0m\u001b[0;34m\u001b[0m\u001b[0m\n\u001b[0m\u001b[1;32m   4937\u001b[0m     \u001b[0;32mif\u001b[0m \u001b[0misinstance\u001b[0m\u001b[0;34m(\u001b[0m\u001b[0mother\u001b[0m\u001b[0;34m,\u001b[0m \u001b[0m_rejected_binop_types\u001b[0m\u001b[0;34m)\u001b[0m\u001b[0;34m:\u001b[0m\u001b[0;34m\u001b[0m\u001b[0;34m\u001b[0m\u001b[0m\n",
            "\u001b[0;32m/usr/local/lib/python3.8/dist-packages/jax/_src/numpy/ufuncs.py\u001b[0m in \u001b[0;36mfn\u001b[0;34m(x1, x2)\u001b[0m\n\u001b[1;32m     96\u001b[0m   \u001b[0;32mdef\u001b[0m \u001b[0mfn\u001b[0m\u001b[0;34m(\u001b[0m\u001b[0mx1\u001b[0m\u001b[0;34m,\u001b[0m \u001b[0mx2\u001b[0m\u001b[0;34m)\u001b[0m\u001b[0;34m:\u001b[0m\u001b[0;34m\u001b[0m\u001b[0;34m\u001b[0m\u001b[0m\n\u001b[0;32m---> 97\u001b[0;31m     \u001b[0mx1\u001b[0m\u001b[0;34m,\u001b[0m \u001b[0mx2\u001b[0m \u001b[0;34m=\u001b[0m \u001b[0m_promote_args\u001b[0m\u001b[0;34m(\u001b[0m\u001b[0mnumpy_fn\u001b[0m\u001b[0;34m.\u001b[0m\u001b[0m__name__\u001b[0m\u001b[0;34m,\u001b[0m \u001b[0mx1\u001b[0m\u001b[0;34m,\u001b[0m \u001b[0mx2\u001b[0m\u001b[0;34m)\u001b[0m\u001b[0;34m\u001b[0m\u001b[0;34m\u001b[0m\u001b[0m\n\u001b[0m\u001b[1;32m     98\u001b[0m     \u001b[0;32mreturn\u001b[0m \u001b[0mlax_fn\u001b[0m\u001b[0;34m(\u001b[0m\u001b[0mx1\u001b[0m\u001b[0;34m,\u001b[0m \u001b[0mx2\u001b[0m\u001b[0;34m)\u001b[0m \u001b[0;32mif\u001b[0m \u001b[0mx1\u001b[0m\u001b[0;34m.\u001b[0m\u001b[0mdtype\u001b[0m \u001b[0;34m!=\u001b[0m \u001b[0mnp\u001b[0m\u001b[0;34m.\u001b[0m\u001b[0mbool_\u001b[0m \u001b[0;32melse\u001b[0m \u001b[0mbool_lax_fn\u001b[0m\u001b[0;34m(\u001b[0m\u001b[0mx1\u001b[0m\u001b[0;34m,\u001b[0m \u001b[0mx2\u001b[0m\u001b[0;34m)\u001b[0m\u001b[0;34m\u001b[0m\u001b[0;34m\u001b[0m\u001b[0m\n",
            "\u001b[0;32m/usr/local/lib/python3.8/dist-packages/jax/_src/numpy/util.py\u001b[0m in \u001b[0;36m_promote_args\u001b[0;34m(fun_name, *args)\u001b[0m\n\u001b[1;32m    364\u001b[0m   \u001b[0m_check_no_float0s\u001b[0m\u001b[0;34m(\u001b[0m\u001b[0mfun_name\u001b[0m\u001b[0;34m,\u001b[0m \u001b[0;34m*\u001b[0m\u001b[0margs\u001b[0m\u001b[0;34m)\u001b[0m\u001b[0;34m\u001b[0m\u001b[0;34m\u001b[0m\u001b[0m\n\u001b[0;32m--> 365\u001b[0;31m   \u001b[0;32mreturn\u001b[0m \u001b[0m_promote_shapes\u001b[0m\u001b[0;34m(\u001b[0m\u001b[0mfun_name\u001b[0m\u001b[0;34m,\u001b[0m \u001b[0;34m*\u001b[0m\u001b[0m_promote_dtypes\u001b[0m\u001b[0;34m(\u001b[0m\u001b[0;34m*\u001b[0m\u001b[0margs\u001b[0m\u001b[0;34m)\u001b[0m\u001b[0;34m)\u001b[0m\u001b[0;34m\u001b[0m\u001b[0;34m\u001b[0m\u001b[0m\n\u001b[0m\u001b[1;32m    366\u001b[0m \u001b[0;34m\u001b[0m\u001b[0m\n",
            "\u001b[0;32m/usr/local/lib/python3.8/dist-packages/jax/_src/numpy/util.py\u001b[0m in \u001b[0;36m_promote_shapes\u001b[0;34m(fun_name, *args)\u001b[0m\n\u001b[1;32m    253\u001b[0m       \u001b[0;32mif\u001b[0m \u001b[0mlen\u001b[0m\u001b[0;34m(\u001b[0m\u001b[0mnonscalar_ranks\u001b[0m\u001b[0;34m)\u001b[0m \u001b[0;34m<\u001b[0m \u001b[0;36m2\u001b[0m\u001b[0;34m:\u001b[0m\u001b[0;34m\u001b[0m\u001b[0;34m\u001b[0m\u001b[0m\n\u001b[0;32m--> 254\u001b[0;31m         \u001b[0;32mreturn\u001b[0m \u001b[0;34m[\u001b[0m\u001b[0m_asarray\u001b[0m\u001b[0;34m(\u001b[0m\u001b[0marg\u001b[0m\u001b[0;34m)\u001b[0m \u001b[0;32mfor\u001b[0m \u001b[0marg\u001b[0m \u001b[0;32min\u001b[0m \u001b[0margs\u001b[0m\u001b[0;34m]\u001b[0m  \u001b[0;31m# rely on lax scalar promotion\u001b[0m\u001b[0;34m\u001b[0m\u001b[0;34m\u001b[0m\u001b[0m\n\u001b[0m\u001b[1;32m    255\u001b[0m       \u001b[0;32melse\u001b[0m\u001b[0;34m:\u001b[0m\u001b[0;34m\u001b[0m\u001b[0;34m\u001b[0m\u001b[0m\n",
            "\u001b[0;32m/usr/local/lib/python3.8/dist-packages/jax/_src/numpy/util.py\u001b[0m in \u001b[0;36m<listcomp>\u001b[0;34m(.0)\u001b[0m\n\u001b[1;32m    253\u001b[0m       \u001b[0;32mif\u001b[0m \u001b[0mlen\u001b[0m\u001b[0;34m(\u001b[0m\u001b[0mnonscalar_ranks\u001b[0m\u001b[0;34m)\u001b[0m \u001b[0;34m<\u001b[0m \u001b[0;36m2\u001b[0m\u001b[0;34m:\u001b[0m\u001b[0;34m\u001b[0m\u001b[0;34m\u001b[0m\u001b[0m\n\u001b[0;32m--> 254\u001b[0;31m         \u001b[0;32mreturn\u001b[0m \u001b[0;34m[\u001b[0m\u001b[0m_asarray\u001b[0m\u001b[0;34m(\u001b[0m\u001b[0marg\u001b[0m\u001b[0;34m)\u001b[0m \u001b[0;32mfor\u001b[0m \u001b[0marg\u001b[0m \u001b[0;32min\u001b[0m \u001b[0margs\u001b[0m\u001b[0;34m]\u001b[0m  \u001b[0;31m# rely on lax scalar promotion\u001b[0m\u001b[0;34m\u001b[0m\u001b[0;34m\u001b[0m\u001b[0m\n\u001b[0m\u001b[1;32m    255\u001b[0m       \u001b[0;32melse\u001b[0m\u001b[0;34m:\u001b[0m\u001b[0;34m\u001b[0m\u001b[0;34m\u001b[0m\u001b[0m\n",
            "\u001b[0;32m/usr/local/lib/python3.8/dist-packages/jax/_src/numpy/util.py\u001b[0m in \u001b[0;36m_asarray\u001b[0;34m(arr)\u001b[0m\n\u001b[1;32m    234\u001b[0m   \u001b[0mdtype\u001b[0m\u001b[0;34m,\u001b[0m \u001b[0mweak_type\u001b[0m \u001b[0;34m=\u001b[0m \u001b[0mdtypes\u001b[0m\u001b[0;34m.\u001b[0m\u001b[0m_lattice_result_type\u001b[0m\u001b[0;34m(\u001b[0m\u001b[0marr\u001b[0m\u001b[0;34m)\u001b[0m\u001b[0;34m\u001b[0m\u001b[0;34m\u001b[0m\u001b[0m\n\u001b[0;32m--> 235\u001b[0;31m   \u001b[0;32mreturn\u001b[0m \u001b[0mlax_internal\u001b[0m\u001b[0;34m.\u001b[0m\u001b[0m_convert_element_type\u001b[0m\u001b[0;34m(\u001b[0m\u001b[0marr\u001b[0m\u001b[0;34m,\u001b[0m \u001b[0mdtype\u001b[0m\u001b[0;34m,\u001b[0m \u001b[0mweak_type\u001b[0m\u001b[0;34m)\u001b[0m\u001b[0;34m\u001b[0m\u001b[0;34m\u001b[0m\u001b[0m\n\u001b[0m\u001b[1;32m    236\u001b[0m \u001b[0;34m\u001b[0m\u001b[0m\n",
            "\u001b[0;32m<__array_function__ internals>\u001b[0m in \u001b[0;36mresult_type\u001b[0;34m(*args, **kwargs)\u001b[0m\n",
            "\u001b[0;31mTypeError\u001b[0m: Cannot interpret 'Traced<ShapedArray(float32[])>with<DynamicJaxprTrace(level=1/1)>' as a data type",
            "\nDuring handling of the above exception, another exception occurred:\n",
            "\u001b[0;31mKeyboardInterrupt\u001b[0m                         Traceback (most recent call last)",
            "\u001b[0;32m<ipython-input-25-c1878203586c>\u001b[0m in \u001b[0;36m<module>\u001b[0;34m\u001b[0m\n\u001b[1;32m      1\u001b[0m \u001b[0;31m# Evaluate the models\u001b[0m\u001b[0;34m\u001b[0m\u001b[0;34m\u001b[0m\u001b[0;34m\u001b[0m\u001b[0m\n\u001b[0;32m----> 2\u001b[0;31m \u001b[0mall_logits\u001b[0m\u001b[0;34m,\u001b[0m \u001b[0mval_accs\u001b[0m \u001b[0;34m=\u001b[0m \u001b[0mevaluate_models\u001b[0m\u001b[0;34m(\u001b[0m\u001b[0mstates\u001b[0m\u001b[0;34m)\u001b[0m\u001b[0;34m\u001b[0m\u001b[0;34m\u001b[0m\u001b[0m\n\u001b[0m",
            "\u001b[0;32m<ipython-input-23-ba862774f971>\u001b[0m in \u001b[0;36mevaluate_models\u001b[0;34m(states)\u001b[0m\n\u001b[1;32m      6\u001b[0m         \u001b[0mprint\u001b[0m\u001b[0;34m(\u001b[0m\u001b[0;34mf\"Model {i}\"\u001b[0m\u001b[0;34m)\u001b[0m\u001b[0;34m\u001b[0m\u001b[0;34m\u001b[0m\u001b[0m\n\u001b[1;32m      7\u001b[0m         \u001b[0;31m### BEGIN CODE HERE ###\u001b[0m\u001b[0;34m\u001b[0m\u001b[0;34m\u001b[0m\u001b[0;34m\u001b[0m\u001b[0m\n\u001b[0;32m----> 8\u001b[0;31m         \u001b[0mlogits\u001b[0m\u001b[0;34m,\u001b[0m \u001b[0macc\u001b[0m \u001b[0;34m=\u001b[0m \u001b[0mevaluate_model\u001b[0m\u001b[0;34m(\u001b[0m\u001b[0mstate\u001b[0m\u001b[0;34m)\u001b[0m\u001b[0;34m\u001b[0m\u001b[0;34m\u001b[0m\u001b[0m\n\u001b[0m\u001b[1;32m      9\u001b[0m         \u001b[0mall_logits\u001b[0m\u001b[0;34m.\u001b[0m\u001b[0mappend\u001b[0m\u001b[0;34m(\u001b[0m\u001b[0mlogits\u001b[0m\u001b[0;34m)\u001b[0m\u001b[0;34m\u001b[0m\u001b[0;34m\u001b[0m\u001b[0m\n\u001b[1;32m     10\u001b[0m         \u001b[0mval_accs\u001b[0m\u001b[0;34m.\u001b[0m\u001b[0mappend\u001b[0m\u001b[0;34m(\u001b[0m\u001b[0macc\u001b[0m\u001b[0;34m)\u001b[0m\u001b[0;34m\u001b[0m\u001b[0;34m\u001b[0m\u001b[0m\n",
            "\u001b[0;32m<ipython-input-20-814a9b9c73e0>\u001b[0m in \u001b[0;36mevaluate_model\u001b[0;34m(state)\u001b[0m\n\u001b[1;32m     34\u001b[0m           \u001b[0;31m### BEGIN CODE HERE ###\u001b[0m\u001b[0;34m\u001b[0m\u001b[0;34m\u001b[0m\u001b[0;34m\u001b[0m\u001b[0m\n\u001b[1;32m     35\u001b[0m           \u001b[0;31m# Forward pass through the model\u001b[0m\u001b[0;34m\u001b[0m\u001b[0;34m\u001b[0m\u001b[0;34m\u001b[0m\u001b[0m\n\u001b[0;32m---> 36\u001b[0;31m           \u001b[0mlogits\u001b[0m \u001b[0;34m=\u001b[0m \u001b[0mstate\u001b[0m\u001b[0;34m.\u001b[0m\u001b[0mapply_fn\u001b[0m\u001b[0;34m(\u001b[0m\u001b[0mvariables\u001b[0m\u001b[0;34m,\u001b[0m \u001b[0mbatch\u001b[0m\u001b[0;34m,\u001b[0m \u001b[0mtrain\u001b[0m\u001b[0;34m=\u001b[0m\u001b[0;32mFalse\u001b[0m\u001b[0;34m)\u001b[0m\u001b[0;34m\u001b[0m\u001b[0;34m\u001b[0m\u001b[0m\n\u001b[0m\u001b[1;32m     37\u001b[0m \u001b[0;34m\u001b[0m\u001b[0m\n\u001b[1;32m     38\u001b[0m           \u001b[0;31m# Compare the model output to ground-truth labels\u001b[0m\u001b[0;34m\u001b[0m\u001b[0;34m\u001b[0m\u001b[0;34m\u001b[0m\u001b[0m\n",
            "\u001b[0;31mKeyboardInterrupt\u001b[0m: "
          ]
        }
      ]
    },
    {
      "cell_type": "code",
      "source": [
        "# Pass in new head parameters and get a state used for evaluating performance\n",
        "def create_eval_state(head_params):\n",
        "    _, variables = get_model_and_variables()\n",
        "    variables = variables.unfreeze()\n",
        "    variables['params']['head'] = head_params\n",
        "    variables = frozen_dict.freeze(variables)\n",
        "    state = create_train_state(model, variables, optax.adam(0), loss_fn, eval_fn)\n",
        "    return state"
      ],
      "metadata": {
        "id": "U90hTDX10QEu"
      },
      "execution_count": 14,
      "outputs": []
    },
    {
      "cell_type": "code",
      "source": [
        "# Graph all the model accuracies (label the best one)\n",
        "names = [f'Model {i+1}' for i in range(len(states))]\n",
        "\n",
        "plt.bar(names, np.array(val_accs))\n",
        "plt.title(\"Validation Accuracy By Model\")\n",
        "plt.ylim([0.7, 0.9])\n",
        "plt.xticks(rotation=30, ha='right')"
      ],
      "metadata": {
        "tags": [],
        "cell_id": "824493d5523742cc813c7016c7dd62f6",
        "source_hash": "cbcf4924",
        "execution_start": 1669847874762,
        "execution_millis": 8,
        "deepnote_to_be_reexecuted": false,
        "deepnote_cell_type": "code",
        "colab": {
          "base_uri": "https://localhost:8080/",
          "height": 235
        },
        "id": "fUyxV3upUYwU",
        "outputId": "02c72d57-60d3-4bf9-84c4-a628ed040d8e"
      },
      "outputs": [
        {
          "output_type": "error",
          "ename": "NameError",
          "evalue": "ignored",
          "traceback": [
            "\u001b[0;31m---------------------------------------------------------------------------\u001b[0m",
            "\u001b[0;31mNameError\u001b[0m                                 Traceback (most recent call last)",
            "\u001b[0;32m<ipython-input-30-8726ed63217c>\u001b[0m in \u001b[0;36m<module>\u001b[0;34m\u001b[0m\n\u001b[1;32m      2\u001b[0m \u001b[0mnames\u001b[0m \u001b[0;34m=\u001b[0m \u001b[0;34m[\u001b[0m\u001b[0;34mf'Model {i+1}'\u001b[0m \u001b[0;32mfor\u001b[0m \u001b[0mi\u001b[0m \u001b[0;32min\u001b[0m \u001b[0mrange\u001b[0m\u001b[0;34m(\u001b[0m\u001b[0mlen\u001b[0m\u001b[0;34m(\u001b[0m\u001b[0mstates\u001b[0m\u001b[0;34m)\u001b[0m\u001b[0;34m)\u001b[0m\u001b[0;34m]\u001b[0m\u001b[0;34m\u001b[0m\u001b[0;34m\u001b[0m\u001b[0m\n\u001b[1;32m      3\u001b[0m \u001b[0;34m\u001b[0m\u001b[0m\n\u001b[0;32m----> 4\u001b[0;31m \u001b[0mplt\u001b[0m\u001b[0;34m.\u001b[0m\u001b[0mbar\u001b[0m\u001b[0;34m(\u001b[0m\u001b[0mnames\u001b[0m\u001b[0;34m,\u001b[0m \u001b[0mnp\u001b[0m\u001b[0;34m.\u001b[0m\u001b[0marray\u001b[0m\u001b[0;34m(\u001b[0m\u001b[0mval_accs\u001b[0m\u001b[0;34m)\u001b[0m\u001b[0;34m)\u001b[0m\u001b[0;34m\u001b[0m\u001b[0;34m\u001b[0m\u001b[0m\n\u001b[0m\u001b[1;32m      5\u001b[0m \u001b[0mplt\u001b[0m\u001b[0;34m.\u001b[0m\u001b[0mtitle\u001b[0m\u001b[0;34m(\u001b[0m\u001b[0;34m\"Validation Accuracy By Model\"\u001b[0m\u001b[0;34m)\u001b[0m\u001b[0;34m\u001b[0m\u001b[0;34m\u001b[0m\u001b[0m\n\u001b[1;32m      6\u001b[0m \u001b[0mplt\u001b[0m\u001b[0;34m.\u001b[0m\u001b[0mylim\u001b[0m\u001b[0;34m(\u001b[0m\u001b[0;34m[\u001b[0m\u001b[0;36m0.7\u001b[0m\u001b[0;34m,\u001b[0m \u001b[0;36m0.9\u001b[0m\u001b[0;34m]\u001b[0m\u001b[0;34m)\u001b[0m\u001b[0;34m\u001b[0m\u001b[0;34m\u001b[0m\u001b[0m\n",
            "\u001b[0;31mNameError\u001b[0m: name 'val_accs' is not defined"
          ]
        }
      ],
      "execution_count": null
    },
    {
      "cell_type": "code",
      "source": [
        "best_individual_model = max(val_accs)"
      ],
      "metadata": {
        "id": "QWkfkPAOyJG6"
      },
      "execution_count": null,
      "outputs": []
    },
    {
      "cell_type": "markdown",
      "source": [
        "## Ensemble Learning: Average the logits of the models"
      ],
      "metadata": {
        "tags": [],
        "cell_id": "fc02e534102145af840ab3787b7637f3",
        "is_collapsed": false,
        "formattedRanges": [],
        "deepnote_cell_type": "text-cell-h2",
        "id": "P23ZgrljUYwV"
      }
    },
    {
      "cell_type": "code",
      "source": [
        "def majority_vote(logits):\n",
        "  preds = []\n",
        "  votes = np.argmax(np.array(logits), axis=2).T\n",
        "  most_freq = []\n",
        "  for n in votes:\n",
        "      counts = np.bincount(n) \n",
        "      most_freq.append(np.argwhere(counts == np.max(counts))[-1][0])\n",
        "  return most_freq\n",
        "\n",
        "def softmax(logits, val_accs):\n",
        "  denom = sum(val_accs)\n",
        "  avg_logits = np.zeros(logits.shape)\n",
        "  for i in range(len(val_accs)):\n",
        "    avg_logits += val_accs[i]/denom * logits[i]\n",
        "  return avg_logits"
      ],
      "metadata": {
        "id": "HEBds-bVkT2w"
      },
      "execution_count": null,
      "outputs": []
    },
    {
      "cell_type": "code",
      "source": [
        "import sklearn\n",
        "\n",
        "# get ensemble learning accruacy \n",
        "def get_ensemble_acc(states):\n",
        "    acc = None\n",
        "    all_labels = []\n",
        "    for _batch in test_dataset:\n",
        "        labels = _batch[1]\n",
        "        labels = jnp.array(labels, dtype=jnp.float32)\n",
        "        all_labels.extend(labels)\n",
        "    \n",
        "    ### BEGIN CODE HERE ###\n",
        "    \n",
        "    # avg_logits = np.average(all_logits, axis=0)\n",
        "\n",
        "    # preds = majority_vote(all_logits)\n",
        "    # acc = sklearn.metrics.accuracy_score(all_labels, preds)\n",
        "\n",
        "    avg_logits = softmax(np.array(all_logits), val_accs)\n",
        "    acc = eval_fn(avg_logits, np.array(all_labels))[0]\n",
        "    \n",
        "    ### END CODE HERE ###\n",
        "    return np.array(acc)"
      ],
      "metadata": {
        "id": "ETHCoYO1fZXp"
      },
      "execution_count": null,
      "outputs": []
    },
    {
      "cell_type": "code",
      "source": [
        "# Graph the validation accuracy of ensemble model vs individual models\n",
        "ensemble_acc = get_ensemble_acc(states)\n",
        "print(f'Ensemble Learning Validation Accuracy: {ensemble_acc}')"
      ],
      "metadata": {
        "tags": [],
        "cell_id": "12eb510c2b824d2aacea990eeef76d5b",
        "deepnote_cell_type": "code",
        "id": "lPsFiFDrUYwW"
      },
      "outputs": [],
      "execution_count": null
    },
    {
      "cell_type": "code",
      "source": [
        "# Add the ensemble model accuracy\n",
        "new_accs = val_accs + [ensemble_acc]\n",
        "\n",
        "# Graph all the model accuracies (including emnsemble)\n",
        "names = [f'Model {i+1}' for i in range(len(states))] + ['Ensemble']\n",
        "plt.bar(names, new_accs, color=['blue'] * len(states) + ['green'])\n",
        "plt.title(\"Validation Accuracy \")\n",
        "plt.ylim([0.7, 0.9])\n",
        "plt.xticks(rotation=30, ha='right')"
      ],
      "metadata": {
        "id": "kWYJoF5mVr97"
      },
      "execution_count": null,
      "outputs": []
    },
    {
      "cell_type": "markdown",
      "source": [
        "Question: What are the advantages and disadvantages of ensemble learning?"
      ],
      "metadata": {
        "tags": [],
        "cell_id": "82e68bd9f96f49629e5c3201d8df0ec6",
        "is_collapsed": false,
        "formattedRanges": [],
        "deepnote_cell_type": "text-cell-p",
        "id": "jTKJLvB1UYwW"
      }
    },
    {
      "cell_type": "markdown",
      "source": [
        "Answer: YOUR ANSWER HERE"
      ],
      "metadata": {
        "tags": [],
        "cell_id": "9cf3b0839b2c4f7eb3e87f81db2b4f3e",
        "is_collapsed": false,
        "formattedRanges": [],
        "deepnote_cell_type": "text-cell-p",
        "id": "mb6DwO13UYwW"
      }
    },
    {
      "cell_type": "markdown",
      "source": [
        "## Uniform Soup"
      ],
      "metadata": {
        "tags": [],
        "cell_id": "073085accaa54bc0bcbd52fa4a5ae53a",
        "is_collapsed": false,
        "formattedRanges": [],
        "deepnote_cell_type": "text-cell-h2",
        "id": "36uSrd4oUYwX"
      }
    },
    {
      "cell_type": "markdown",
      "source": [
        "Below are some of the different types of soups that you will be implementing.Instead of weighting the output logits as done in ensemble learning, we average the weights of the models themselves! This produces one final model, a “soup” of the individual ones."
      ],
      "metadata": {
        "id": "VOk_owHdG2-h"
      }
    },
    {
      "cell_type": "markdown",
      "source": [
        "![Screen Shot 2022-11-30 at 1.56.42 PM.png](data:image/png;base64,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)"
      ],
      "metadata": {
        "id": "-Hcyx_JnGpQY"
      }
    },
    {
      "cell_type": "code",
      "source": [
        "from flatten_dict import flatten, unflatten\n",
        "\n",
        "def get_uniform_soup(states):\n",
        "  soup_head = states[0].params['head'].copy()\n",
        "  flat_soup_head = flatten(soup_head)\n",
        "\n",
        "  for state in states:\n",
        "    head = state.params['head']\n",
        "    flat_head = flatten(head)\n",
        "\n",
        "    for key, param in flat_head.items():\n",
        "      print(flat_soup_head[key].flags)\n",
        "      flat_soup_head[key] += param\n",
        "    \n",
        "  num_models = len(states)\n",
        "  for key, param in flat_soup_head.items():\n",
        "    flat_soup_head[key] = param / num_models\n",
        "  \n",
        "  soup_head = unflatten(flat_soup_head)\n",
        "  soup_state = create_eval_state(soup_head)\n",
        "\n",
        "  return soup_state"
      ],
      "metadata": {
        "tags": [],
        "cell_id": "9dae32abe1424bb194a4cc2138fc2907",
        "deepnote_cell_type": "code",
        "id": "lYMjETe_UYwX"
      },
      "outputs": [],
      "execution_count": 36
    },
    {
      "cell_type": "code",
      "source": [
        "# THIS IS ERRORING RIGHT NOW\n",
        "soup_state = get_uniform_soup(states)\n",
        "_, uniform_soup_acc = evaluate_model(soup_state)\n",
        "\n",
        "print(f'Soup Validation Acc: {uniform_soup_acc}')"
      ],
      "metadata": {
        "colab": {
          "base_uri": "https://localhost:8080/",
          "height": 350
        },
        "id": "y4r1_JhiT9lA",
        "outputId": "3f0b1a66-9385-4305-c0f1-46fffbc269c1"
      },
      "execution_count": 37,
      "outputs": [
        {
          "output_type": "error",
          "ename": "AttributeError",
          "evalue": "ignored",
          "traceback": [
            "\u001b[0;31m---------------------------------------------------------------------------\u001b[0m",
            "\u001b[0;31mAttributeError\u001b[0m                            Traceback (most recent call last)",
            "\u001b[0;32m<ipython-input-37-2f852565bf0d>\u001b[0m in \u001b[0;36m<module>\u001b[0;34m\u001b[0m\n\u001b[0;32m----> 1\u001b[0;31m \u001b[0msoup_state\u001b[0m \u001b[0;34m=\u001b[0m \u001b[0mget_uniform_soup\u001b[0m\u001b[0;34m(\u001b[0m\u001b[0mstates\u001b[0m\u001b[0;34m)\u001b[0m\u001b[0;34m\u001b[0m\u001b[0;34m\u001b[0m\u001b[0m\n\u001b[0m\u001b[1;32m      2\u001b[0m \u001b[0m_\u001b[0m\u001b[0;34m,\u001b[0m \u001b[0muniform_soup_acc\u001b[0m \u001b[0;34m=\u001b[0m \u001b[0mevaluate_model\u001b[0m\u001b[0;34m(\u001b[0m\u001b[0msoup_state\u001b[0m\u001b[0;34m)\u001b[0m\u001b[0;34m\u001b[0m\u001b[0;34m\u001b[0m\u001b[0m\n\u001b[1;32m      3\u001b[0m \u001b[0;34m\u001b[0m\u001b[0m\n\u001b[1;32m      4\u001b[0m \u001b[0mprint\u001b[0m\u001b[0;34m(\u001b[0m\u001b[0;34mf'Soup Validation Acc: {uniform_soup_acc}'\u001b[0m\u001b[0;34m)\u001b[0m\u001b[0;34m\u001b[0m\u001b[0;34m\u001b[0m\u001b[0m\n",
            "\u001b[0;32m<ipython-input-36-128b37d5d1b7>\u001b[0m in \u001b[0;36mget_uniform_soup\u001b[0;34m(states)\u001b[0m\n\u001b[1;32m      2\u001b[0m \u001b[0;34m\u001b[0m\u001b[0m\n\u001b[1;32m      3\u001b[0m \u001b[0;32mdef\u001b[0m \u001b[0mget_uniform_soup\u001b[0m\u001b[0;34m(\u001b[0m\u001b[0mstates\u001b[0m\u001b[0;34m)\u001b[0m\u001b[0;34m:\u001b[0m\u001b[0;34m\u001b[0m\u001b[0;34m\u001b[0m\u001b[0m\n\u001b[0;32m----> 4\u001b[0;31m   \u001b[0msoup_head\u001b[0m \u001b[0;34m=\u001b[0m \u001b[0mstates\u001b[0m\u001b[0;34m[\u001b[0m\u001b[0;36m0\u001b[0m\u001b[0;34m]\u001b[0m\u001b[0;34m.\u001b[0m\u001b[0mparams\u001b[0m\u001b[0;34m[\u001b[0m\u001b[0;34m'head'\u001b[0m\u001b[0;34m]\u001b[0m\u001b[0;34m.\u001b[0m\u001b[0munfreeze\u001b[0m\u001b[0;34m(\u001b[0m\u001b[0;34m)\u001b[0m\u001b[0;34m\u001b[0m\u001b[0;34m\u001b[0m\u001b[0m\n\u001b[0m\u001b[1;32m      5\u001b[0m   \u001b[0mflat_soup_head\u001b[0m \u001b[0;34m=\u001b[0m \u001b[0mflatten\u001b[0m\u001b[0;34m(\u001b[0m\u001b[0msoup_head\u001b[0m\u001b[0;34m)\u001b[0m\u001b[0;34m\u001b[0m\u001b[0;34m\u001b[0m\u001b[0m\n\u001b[1;32m      6\u001b[0m \u001b[0;34m\u001b[0m\u001b[0m\n",
            "\u001b[0;31mAttributeError\u001b[0m: 'dict' object has no attribute 'unfreeze'"
          ]
        }
      ]
    },
    {
      "cell_type": "code",
      "source": [
        "# Add the ensemble model accuracy\n",
        "new_accs = val_accs + [uniform_soup_acc]\n",
        "\n",
        "# Graph all the model accuracies (including emnsemble)\n",
        "names = names + ['Uniform Soup']\n",
        "plt.bar(names, new_accs, color=['blue'] * (len(names) - 1) + ['green'])\n",
        "plt.title(\"Validation Accuracy \")\n",
        "plt.ylim([0.7, 0.9])\n",
        "plt.xticks(rotation=30, ha='right')"
      ],
      "metadata": {
        "id": "jomSa1ZIUS0P"
      },
      "execution_count": null,
      "outputs": []
    },
    {
      "cell_type": "markdown",
      "source": [
        "Question: What is one major benefit of using a model soup over ensemble learning? HINT: Think in terms of time complexity.\n",
        "\n",
        "Answer: Only requires one forward pass as opposed to k passes (one for each model)."
      ],
      "metadata": {
        "id": "0YSjClZhJgVA"
      }
    },
    {
      "cell_type": "markdown",
      "source": [
        "## Greedy Soup Implementation"
      ],
      "metadata": {
        "tags": [],
        "cell_id": "65faabb25b964ff9a3b770aed79992e4",
        "is_collapsed": false,
        "formattedRanges": [],
        "deepnote_cell_type": "text-cell-h2",
        "id": "TrRDvxisUYwX"
      }
    },
    {
      "cell_type": "markdown",
      "source": [
        "![Screen Shot 2022-12-02 at 3.11.49 PM.png](data:image/png;base64,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)"
      ],
      "metadata": {
        "id": "GrgneXD5HF1s"
      }
    },
    {
      "cell_type": "markdown",
      "source": [
        "Question: Why does greedy soup perform better than uniform? Do you think this is always the case?"
      ],
      "metadata": {
        "tags": [],
        "cell_id": "9fb77c9e9e3946278043b84720ad5130",
        "is_collapsed": false,
        "formattedRanges": [],
        "deepnote_cell_type": "text-cell-p",
        "id": "0r6oEzj0UYwX"
      }
    },
    {
      "cell_type": "markdown",
      "source": [
        "Answer: "
      ],
      "metadata": {
        "tags": [],
        "cell_id": "489fa87964f74fd5b99f1763d4e5dd95",
        "is_collapsed": false,
        "formattedRanges": [],
        "deepnote_cell_type": "text-cell-p",
        "id": "hta_H-FBUYwX"
      }
    },
    {
      "cell_type": "markdown",
      "source": [
        "Question: What are the benefits of souping vs traditional ensemble methods in terms of space and time complexity?"
      ],
      "metadata": {
        "tags": [],
        "cell_id": "887ff1c8a03b477b93fd8e77367132ce",
        "is_collapsed": false,
        "formattedRanges": [],
        "deepnote_cell_type": "text-cell-p",
        "id": "wsqQ4sV1UYwY"
      }
    },
    {
      "cell_type": "markdown",
      "source": [
        "Answer: "
      ],
      "metadata": {
        "tags": [],
        "cell_id": "511ed1d0b7244444b2420b979b62c1ca",
        "is_collapsed": false,
        "formattedRanges": [],
        "deepnote_cell_type": "text-cell-p",
        "id": "Jfx3kG8EUYwY"
      }
    },
    {
      "cell_type": "markdown",
      "source": [
        "## Learned Soup Implementation"
      ],
      "metadata": {
        "tags": [],
        "cell_id": "8cf4ad47375344dea866901802d20e92",
        "is_collapsed": false,
        "formattedRanges": [],
        "deepnote_cell_type": "text-cell-h2",
        "id": "5TRKOReOUYwY"
      }
    },
    {
      "cell_type": "markdown",
      "source": [
        "<a style='text-decoration:none;line-height:16px;display:flex;color:#5B5B62;padding:10px;justify-content:end;' href='https://deepnote.com?utm_source=created-in-deepnote-cell&projectId=a527420b-c11f-44a4-82a9-68959d523a68' target=\"_blank\">\n",
        "<img alt='Created in deepnote.com' style='display:inline;max-height:16px;margin:0px;margin-right:7.5px;' src='data:image/svg+xml;base64,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' > </img>\n",
        "Created in <span style='font-weight:600;margin-left:4px;'>Deepnote</span></a>"
      ],
      "metadata": {
        "tags": [],
        "created_in_deepnote_cell": true,
        "deepnote_cell_type": "markdown",
        "id": "4xy1dNEFUYwY"
      }
    }
  ],
  "nbformat": 4,
  "nbformat_minor": 0,
  "metadata": {
    "deepnote": {},
    "orig_nbformat": 2,
    "deepnote_notebook_id": "119c64f6275244b6bb46643714b0c5fb",
    "deepnote_execution_queue": [],
    "deepnote_persisted_session": {
      "createdAt": "2022-12-01T00:32:50.633Z"
    },
    "colab": {
      "provenance": []
    },
    "language_info": {
      "name": "python"
    },
    "kernelspec": {
      "name": "python3",
      "display_name": "Python 3"
    },
    "gpuClass": "standard",
    "accelerator": "GPU",
    "widgets": {
      "application/vnd.jupyter.widget-state+json": {
        "f3f817d7af714f339ec5b4cd7d1f8a60": {
          "model_module": "@jupyter-widgets/controls",
          "model_name": "HBoxModel",
          "model_module_version": "1.5.0",
          "state": {
            "_dom_classes": [],
            "_model_module": "@jupyter-widgets/controls",
            "_model_module_version": "1.5.0",
            "_model_name": "HBoxModel",
            "_view_count": null,
            "_view_module": "@jupyter-widgets/controls",
            "_view_module_version": "1.5.0",
            "_view_name": "HBoxView",
            "box_style": "",
            "children": [
              "IPY_MODEL_d9edc4fa267d4b1b9aafea1ad1b30abc",
              "IPY_MODEL_0ffbffa7a42d4922a82ed3089fc3cdc6",
              "IPY_MODEL_c9859a56525f492cb7d4677f1256e667"
            ],
            "layout": "IPY_MODEL_a77f102900364390adc394878ebe3b2d"
          }
        },
        "d9edc4fa267d4b1b9aafea1ad1b30abc": {
          "model_module": "@jupyter-widgets/controls",
          "model_name": "HTMLModel",
          "model_module_version": "1.5.0",
          "state": {
            "_dom_classes": [],
            "_model_module": "@jupyter-widgets/controls",
            "_model_module_version": "1.5.0",
            "_model_name": "HTMLModel",
            "_view_count": null,
            "_view_module": "@jupyter-widgets/controls",
            "_view_module_version": "1.5.0",
            "_view_name": "HTMLView",
            "description": "",
            "description_tooltip": null,
            "layout": "IPY_MODEL_a4349b26da834718b6671c7c33a8024d",
            "placeholder": "​",
            "style": "IPY_MODEL_af44d9adfa9641a3a24aa05dde9af739",
            "value": "313 iterations:  26%"
          }
        },
        "0ffbffa7a42d4922a82ed3089fc3cdc6": {
          "model_module": "@jupyter-widgets/controls",
          "model_name": "FloatProgressModel",
          "model_module_version": "1.5.0",
          "state": {
            "_dom_classes": [],
            "_model_module": "@jupyter-widgets/controls",
            "_model_module_version": "1.5.0",
            "_model_name": "FloatProgressModel",
            "_view_count": null,
            "_view_module": "@jupyter-widgets/controls",
            "_view_module_version": "1.5.0",
            "_view_name": "ProgressView",
            "bar_style": "",
            "description": "",
            "description_tooltip": null,
            "layout": "IPY_MODEL_583425504af841818632772d4f12c7a3",
            "max": 313,
            "min": 0,
            "orientation": "horizontal",
            "style": "IPY_MODEL_63a89098fded409aa422f480103b2226",
            "value": 82
          }
        },
        "c9859a56525f492cb7d4677f1256e667": {
          "model_module": "@jupyter-widgets/controls",
          "model_name": "HTMLModel",
          "model_module_version": "1.5.0",
          "state": {
            "_dom_classes": [],
            "_model_module": "@jupyter-widgets/controls",
            "_model_module_version": "1.5.0",
            "_model_name": "HTMLModel",
            "_view_count": null,
            "_view_module": "@jupyter-widgets/controls",
            "_view_module_version": "1.5.0",
            "_view_name": "HTMLView",
            "description": "",
            "description_tooltip": null,
            "layout": "IPY_MODEL_65e85ac13269494e80c79e545eb24251",
            "placeholder": "​",
            "style": "IPY_MODEL_a5eb60b65bf44b49a0a7de8ab266f284",
            "value": " 82/313 [00:45&lt;02:08,  1.80it/s]"
          }
        },
        "a77f102900364390adc394878ebe3b2d": {
          "model_module": "@jupyter-widgets/base",
          "model_name": "LayoutModel",
          "model_module_version": "1.2.0",
          "state": {
            "_model_module": "@jupyter-widgets/base",
            "_model_module_version": "1.2.0",
            "_model_name": "LayoutModel",
            "_view_count": null,
            "_view_module": "@jupyter-widgets/base",
            "_view_module_version": "1.2.0",
            "_view_name": "LayoutView",
            "align_content": null,
            "align_items": null,
            "align_self": null,
            "border": null,
            "bottom": null,
            "display": null,
            "flex": null,
            "flex_flow": null,
            "grid_area": null,
            "grid_auto_columns": null,
            "grid_auto_flow": null,
            "grid_auto_rows": null,
            "grid_column": null,
            "grid_gap": null,
            "grid_row": null,
            "grid_template_areas": null,
            "grid_template_columns": null,
            "grid_template_rows": null,
            "height": null,
            "justify_content": null,
            "justify_items": null,
            "left": null,
            "margin": null,
            "max_height": null,
            "max_width": null,
            "min_height": null,
            "min_width": null,
            "object_fit": null,
            "object_position": null,
            "order": null,
            "overflow": null,
            "overflow_x": null,
            "overflow_y": null,
            "padding": null,
            "right": null,
            "top": null,
            "visibility": null,
            "width": null
          }
        },
        "a4349b26da834718b6671c7c33a8024d": {
          "model_module": "@jupyter-widgets/base",
          "model_name": "LayoutModel",
          "model_module_version": "1.2.0",
          "state": {
            "_model_module": "@jupyter-widgets/base",
            "_model_module_version": "1.2.0",
            "_model_name": "LayoutModel",
            "_view_count": null,
            "_view_module": "@jupyter-widgets/base",
            "_view_module_version": "1.2.0",
            "_view_name": "LayoutView",
            "align_content": null,
            "align_items": null,
            "align_self": null,
            "border": null,
            "bottom": null,
            "display": null,
            "flex": null,
            "flex_flow": null,
            "grid_area": null,
            "grid_auto_columns": null,
            "grid_auto_flow": null,
            "grid_auto_rows": null,
            "grid_column": null,
            "grid_gap": null,
            "grid_row": null,
            "grid_template_areas": null,
            "grid_template_columns": null,
            "grid_template_rows": null,
            "height": null,
            "justify_content": null,
            "justify_items": null,
            "left": null,
            "margin": null,
            "max_height": null,
            "max_width": null,
            "min_height": null,
            "min_width": null,
            "object_fit": null,
            "object_position": null,
            "order": null,
            "overflow": null,
            "overflow_x": null,
            "overflow_y": null,
            "padding": null,
            "right": null,
            "top": null,
            "visibility": null,
            "width": null
          }
        },
        "af44d9adfa9641a3a24aa05dde9af739": {
          "model_module": "@jupyter-widgets/controls",
          "model_name": "DescriptionStyleModel",
          "model_module_version": "1.5.0",
          "state": {
            "_model_module": "@jupyter-widgets/controls",
            "_model_module_version": "1.5.0",
            "_model_name": "DescriptionStyleModel",
            "_view_count": null,
            "_view_module": "@jupyter-widgets/base",
            "_view_module_version": "1.2.0",
            "_view_name": "StyleView",
            "description_width": ""
          }
        },
        "583425504af841818632772d4f12c7a3": {
          "model_module": "@jupyter-widgets/base",
          "model_name": "LayoutModel",
          "model_module_version": "1.2.0",
          "state": {
            "_model_module": "@jupyter-widgets/base",
            "_model_module_version": "1.2.0",
            "_model_name": "LayoutModel",
            "_view_count": null,
            "_view_module": "@jupyter-widgets/base",
            "_view_module_version": "1.2.0",
            "_view_name": "LayoutView",
            "align_content": null,
            "align_items": null,
            "align_self": null,
            "border": null,
            "bottom": null,
            "display": null,
            "flex": null,
            "flex_flow": null,
            "grid_area": null,
            "grid_auto_columns": null,
            "grid_auto_flow": null,
            "grid_auto_rows": null,
            "grid_column": null,
            "grid_gap": null,
            "grid_row": null,
            "grid_template_areas": null,
            "grid_template_columns": null,
            "grid_template_rows": null,
            "height": null,
            "justify_content": null,
            "justify_items": null,
            "left": null,
            "margin": null,
            "max_height": null,
            "max_width": null,
            "min_height": null,
            "min_width": null,
            "object_fit": null,
            "object_position": null,
            "order": null,
            "overflow": null,
            "overflow_x": null,
            "overflow_y": null,
            "padding": null,
            "right": null,
            "top": null,
            "visibility": null,
            "width": null
          }
        },
        "63a89098fded409aa422f480103b2226": {
          "model_module": "@jupyter-widgets/controls",
          "model_name": "ProgressStyleModel",
          "model_module_version": "1.5.0",
          "state": {
            "_model_module": "@jupyter-widgets/controls",
            "_model_module_version": "1.5.0",
            "_model_name": "ProgressStyleModel",
            "_view_count": null,
            "_view_module": "@jupyter-widgets/base",
            "_view_module_version": "1.2.0",
            "_view_name": "StyleView",
            "bar_color": null,
            "description_width": ""
          }
        },
        "65e85ac13269494e80c79e545eb24251": {
          "model_module": "@jupyter-widgets/base",
          "model_name": "LayoutModel",
          "model_module_version": "1.2.0",
          "state": {
            "_model_module": "@jupyter-widgets/base",
            "_model_module_version": "1.2.0",
            "_model_name": "LayoutModel",
            "_view_count": null,
            "_view_module": "@jupyter-widgets/base",
            "_view_module_version": "1.2.0",
            "_view_name": "LayoutView",
            "align_content": null,
            "align_items": null,
            "align_self": null,
            "border": null,
            "bottom": null,
            "display": null,
            "flex": null,
            "flex_flow": null,
            "grid_area": null,
            "grid_auto_columns": null,
            "grid_auto_flow": null,
            "grid_auto_rows": null,
            "grid_column": null,
            "grid_gap": null,
            "grid_row": null,
            "grid_template_areas": null,
            "grid_template_columns": null,
            "grid_template_rows": null,
            "height": null,
            "justify_content": null,
            "justify_items": null,
            "left": null,
            "margin": null,
            "max_height": null,
            "max_width": null,
            "min_height": null,
            "min_width": null,
            "object_fit": null,
            "object_position": null,
            "order": null,
            "overflow": null,
            "overflow_x": null,
            "overflow_y": null,
            "padding": null,
            "right": null,
            "top": null,
            "visibility": null,
            "width": null
          }
        },
        "a5eb60b65bf44b49a0a7de8ab266f284": {
          "model_module": "@jupyter-widgets/controls",
          "model_name": "DescriptionStyleModel",
          "model_module_version": "1.5.0",
          "state": {
            "_model_module": "@jupyter-widgets/controls",
            "_model_module_version": "1.5.0",
            "_model_name": "DescriptionStyleModel",
            "_view_count": null,
            "_view_module": "@jupyter-widgets/base",
            "_view_module_version": "1.2.0",
            "_view_name": "StyleView",
            "description_width": ""
          }
        },
        "5a86997e218e4f4686488a6e4ff80ab7": {
          "model_module": "@jupyter-widgets/controls",
          "model_name": "HBoxModel",
          "model_module_version": "1.5.0",
          "state": {
            "_dom_classes": [],
            "_model_module": "@jupyter-widgets/controls",
            "_model_module_version": "1.5.0",
            "_model_name": "HBoxModel",
            "_view_count": null,
            "_view_module": "@jupyter-widgets/controls",
            "_view_module_version": "1.5.0",
            "_view_name": "HBoxView",
            "box_style": "",
            "children": [
              "IPY_MODEL_88a4dfd2437f4edea329d43fff5b877f",
              "IPY_MODEL_8ac1f3ded66544b384ff80edc6bb4c02",
              "IPY_MODEL_f9561225b54e46729225162ff75b0798"
            ],
            "layout": "IPY_MODEL_a1583ef83f76444aba7b1bd89a9bad3e"
          }
        },
        "88a4dfd2437f4edea329d43fff5b877f": {
          "model_module": "@jupyter-widgets/controls",
          "model_name": "HTMLModel",
          "model_module_version": "1.5.0",
          "state": {
            "_dom_classes": [],
            "_model_module": "@jupyter-widgets/controls",
            "_model_module_version": "1.5.0",
            "_model_name": "HTMLModel",
            "_view_count": null,
            "_view_module": "@jupyter-widgets/controls",
            "_view_module_version": "1.5.0",
            "_view_name": "HTMLView",
            "description": "",
            "description_tooltip": null,
            "layout": "IPY_MODEL_00608878678a4066a74dcf498979218c",
            "placeholder": "​",
            "style": "IPY_MODEL_8669773f945d4713a89c54b43dd49b30",
            "value": "100%"
          }
        },
        "8ac1f3ded66544b384ff80edc6bb4c02": {
          "model_module": "@jupyter-widgets/controls",
          "model_name": "FloatProgressModel",
          "model_module_version": "1.5.0",
          "state": {
            "_dom_classes": [],
            "_model_module": "@jupyter-widgets/controls",
            "_model_module_version": "1.5.0",
            "_model_name": "FloatProgressModel",
            "_view_count": null,
            "_view_module": "@jupyter-widgets/controls",
            "_view_module_version": "1.5.0",
            "_view_name": "ProgressView",
            "bar_style": "success",
            "description": "",
            "description_tooltip": null,
            "layout": "IPY_MODEL_8d54560dce1043e0a7597857d4a92910",
            "max": 46827520,
            "min": 0,
            "orientation": "horizontal",
            "style": "IPY_MODEL_94d6240828ed4c5db44e8bd60995fa31",
            "value": 46827520
          }
        },
        "f9561225b54e46729225162ff75b0798": {
          "model_module": "@jupyter-widgets/controls",
          "model_name": "HTMLModel",
          "model_module_version": "1.5.0",
          "state": {
            "_dom_classes": [],
            "_model_module": "@jupyter-widgets/controls",
            "_model_module_version": "1.5.0",
            "_model_name": "HTMLModel",
            "_view_count": null,
            "_view_module": "@jupyter-widgets/controls",
            "_view_module_version": "1.5.0",
            "_view_name": "HTMLView",
            "description": "",
            "description_tooltip": null,
            "layout": "IPY_MODEL_264c8d0c79cf4c688e5d181faf12056b",
            "placeholder": "​",
            "style": "IPY_MODEL_4ee440692bcf4cddb8819bd4f1807c7b",
            "value": " 44.7M/44.7M [00:00&lt;00:00, 151MB/s]"
          }
        },
        "a1583ef83f76444aba7b1bd89a9bad3e": {
          "model_module": "@jupyter-widgets/base",
          "model_name": "LayoutModel",
          "model_module_version": "1.2.0",
          "state": {
            "_model_module": "@jupyter-widgets/base",
            "_model_module_version": "1.2.0",
            "_model_name": "LayoutModel",
            "_view_count": null,
            "_view_module": "@jupyter-widgets/base",
            "_view_module_version": "1.2.0",
            "_view_name": "LayoutView",
            "align_content": null,
            "align_items": null,
            "align_self": null,
            "border": null,
            "bottom": null,
            "display": null,
            "flex": null,
            "flex_flow": null,
            "grid_area": null,
            "grid_auto_columns": null,
            "grid_auto_flow": null,
            "grid_auto_rows": null,
            "grid_column": null,
            "grid_gap": null,
            "grid_row": null,
            "grid_template_areas": null,
            "grid_template_columns": null,
            "grid_template_rows": null,
            "height": null,
            "justify_content": null,
            "justify_items": null,
            "left": null,
            "margin": null,
            "max_height": null,
            "max_width": null,
            "min_height": null,
            "min_width": null,
            "object_fit": null,
            "object_position": null,
            "order": null,
            "overflow": null,
            "overflow_x": null,
            "overflow_y": null,
            "padding": null,
            "right": null,
            "top": null,
            "visibility": null,
            "width": null
          }
        },
        "00608878678a4066a74dcf498979218c": {
          "model_module": "@jupyter-widgets/base",
          "model_name": "LayoutModel",
          "model_module_version": "1.2.0",
          "state": {
            "_model_module": "@jupyter-widgets/base",
            "_model_module_version": "1.2.0",
            "_model_name": "LayoutModel",
            "_view_count": null,
            "_view_module": "@jupyter-widgets/base",
            "_view_module_version": "1.2.0",
            "_view_name": "LayoutView",
            "align_content": null,
            "align_items": null,
            "align_self": null,
            "border": null,
            "bottom": null,
            "display": null,
            "flex": null,
            "flex_flow": null,
            "grid_area": null,
            "grid_auto_columns": null,
            "grid_auto_flow": null,
            "grid_auto_rows": null,
            "grid_column": null,
            "grid_gap": null,
            "grid_row": null,
            "grid_template_areas": null,
            "grid_template_columns": null,
            "grid_template_rows": null,
            "height": null,
            "justify_content": null,
            "justify_items": null,
            "left": null,
            "margin": null,
            "max_height": null,
            "max_width": null,
            "min_height": null,
            "min_width": null,
            "object_fit": null,
            "object_position": null,
            "order": null,
            "overflow": null,
            "overflow_x": null,
            "overflow_y": null,
            "padding": null,
            "right": null,
            "top": null,
            "visibility": null,
            "width": null
          }
        },
        "8669773f945d4713a89c54b43dd49b30": {
          "model_module": "@jupyter-widgets/controls",
          "model_name": "DescriptionStyleModel",
          "model_module_version": "1.5.0",
          "state": {
            "_model_module": "@jupyter-widgets/controls",
            "_model_module_version": "1.5.0",
            "_model_name": "DescriptionStyleModel",
            "_view_count": null,
            "_view_module": "@jupyter-widgets/base",
            "_view_module_version": "1.2.0",
            "_view_name": "StyleView",
            "description_width": ""
          }
        },
        "8d54560dce1043e0a7597857d4a92910": {
          "model_module": "@jupyter-widgets/base",
          "model_name": "LayoutModel",
          "model_module_version": "1.2.0",
          "state": {
            "_model_module": "@jupyter-widgets/base",
            "_model_module_version": "1.2.0",
            "_model_name": "LayoutModel",
            "_view_count": null,
            "_view_module": "@jupyter-widgets/base",
            "_view_module_version": "1.2.0",
            "_view_name": "LayoutView",
            "align_content": null,
            "align_items": null,
            "align_self": null,
            "border": null,
            "bottom": null,
            "display": null,
            "flex": null,
            "flex_flow": null,
            "grid_area": null,
            "grid_auto_columns": null,
            "grid_auto_flow": null,
            "grid_auto_rows": null,
            "grid_column": null,
            "grid_gap": null,
            "grid_row": null,
            "grid_template_areas": null,
            "grid_template_columns": null,
            "grid_template_rows": null,
            "height": null,
            "justify_content": null,
            "justify_items": null,
            "left": null,
            "margin": null,
            "max_height": null,
            "max_width": null,
            "min_height": null,
            "min_width": null,
            "object_fit": null,
            "object_position": null,
            "order": null,
            "overflow": null,
            "overflow_x": null,
            "overflow_y": null,
            "padding": null,
            "right": null,
            "top": null,
            "visibility": null,
            "width": null
          }
        },
        "94d6240828ed4c5db44e8bd60995fa31": {
          "model_module": "@jupyter-widgets/controls",
          "model_name": "ProgressStyleModel",
          "model_module_version": "1.5.0",
          "state": {
            "_model_module": "@jupyter-widgets/controls",
            "_model_module_version": "1.5.0",
            "_model_name": "ProgressStyleModel",
            "_view_count": null,
            "_view_module": "@jupyter-widgets/base",
            "_view_module_version": "1.2.0",
            "_view_name": "StyleView",
            "bar_color": null,
            "description_width": ""
          }
        },
        "264c8d0c79cf4c688e5d181faf12056b": {
          "model_module": "@jupyter-widgets/base",
          "model_name": "LayoutModel",
          "model_module_version": "1.2.0",
          "state": {
            "_model_module": "@jupyter-widgets/base",
            "_model_module_version": "1.2.0",
            "_model_name": "LayoutModel",
            "_view_count": null,
            "_view_module": "@jupyter-widgets/base",
            "_view_module_version": "1.2.0",
            "_view_name": "LayoutView",
            "align_content": null,
            "align_items": null,
            "align_self": null,
            "border": null,
            "bottom": null,
            "display": null,
            "flex": null,
            "flex_flow": null,
            "grid_area": null,
            "grid_auto_columns": null,
            "grid_auto_flow": null,
            "grid_auto_rows": null,
            "grid_column": null,
            "grid_gap": null,
            "grid_row": null,
            "grid_template_areas": null,
            "grid_template_columns": null,
            "grid_template_rows": null,
            "height": null,
            "justify_content": null,
            "justify_items": null,
            "left": null,
            "margin": null,
            "max_height": null,
            "max_width": null,
            "min_height": null,
            "min_width": null,
            "object_fit": null,
            "object_position": null,
            "order": null,
            "overflow": null,
            "overflow_x": null,
            "overflow_y": null,
            "padding": null,
            "right": null,
            "top": null,
            "visibility": null,
            "width": null
          }
        },
        "4ee440692bcf4cddb8819bd4f1807c7b": {
          "model_module": "@jupyter-widgets/controls",
          "model_name": "DescriptionStyleModel",
          "model_module_version": "1.5.0",
          "state": {
            "_model_module": "@jupyter-widgets/controls",
            "_model_module_version": "1.5.0",
            "_model_name": "DescriptionStyleModel",
            "_view_count": null,
            "_view_module": "@jupyter-widgets/base",
            "_view_module_version": "1.2.0",
            "_view_name": "StyleView",
            "description_width": ""
          }
        },
        "866d0a349f21499ca43cf8539973f64b": {
          "model_module": "@jupyter-widgets/controls",
          "model_name": "HBoxModel",
          "model_module_version": "1.5.0",
          "state": {
            "_dom_classes": [],
            "_model_module": "@jupyter-widgets/controls",
            "_model_module_version": "1.5.0",
            "_model_name": "HBoxModel",
            "_view_count": null,
            "_view_module": "@jupyter-widgets/controls",
            "_view_module_version": "1.5.0",
            "_view_name": "HBoxView",
            "box_style": "",
            "children": [
              "IPY_MODEL_bded6732830b45c993adc866410627de",
              "IPY_MODEL_3cda12c96e2f4f0aac003da1ad1e2c56",
              "IPY_MODEL_580dade441294ba3ade6824785cef30b"
            ],
            "layout": "IPY_MODEL_0c97e41bef4d40e28c0d02983cfab9eb"
          }
        },
        "bded6732830b45c993adc866410627de": {
          "model_module": "@jupyter-widgets/controls",
          "model_name": "HTMLModel",
          "model_module_version": "1.5.0",
          "state": {
            "_dom_classes": [],
            "_model_module": "@jupyter-widgets/controls",
            "_model_module_version": "1.5.0",
            "_model_name": "HTMLModel",
            "_view_count": null,
            "_view_module": "@jupyter-widgets/controls",
            "_view_module_version": "1.5.0",
            "_view_name": "HTMLView",
            "description": "",
            "description_tooltip": null,
            "layout": "IPY_MODEL_594841b495344facbfce22d8cdc1c8ae",
            "placeholder": "​",
            "style": "IPY_MODEL_6656b17facb14ffc88a5ba0f3f96ba37",
            "value": "1563 iterations: 100%"
          }
        },
        "3cda12c96e2f4f0aac003da1ad1e2c56": {
          "model_module": "@jupyter-widgets/controls",
          "model_name": "FloatProgressModel",
          "model_module_version": "1.5.0",
          "state": {
            "_dom_classes": [],
            "_model_module": "@jupyter-widgets/controls",
            "_model_module_version": "1.5.0",
            "_model_name": "FloatProgressModel",
            "_view_count": null,
            "_view_module": "@jupyter-widgets/controls",
            "_view_module_version": "1.5.0",
            "_view_name": "ProgressView",
            "bar_style": "",
            "description": "",
            "description_tooltip": null,
            "layout": "IPY_MODEL_9b1869e19ff849c089ed74874bf4dcf8",
            "max": 1563,
            "min": 0,
            "orientation": "horizontal",
            "style": "IPY_MODEL_835566eb0d6e47f4989e21983bdac248",
            "value": 1563
          }
        },
        "580dade441294ba3ade6824785cef30b": {
          "model_module": "@jupyter-widgets/controls",
          "model_name": "HTMLModel",
          "model_module_version": "1.5.0",
          "state": {
            "_dom_classes": [],
            "_model_module": "@jupyter-widgets/controls",
            "_model_module_version": "1.5.0",
            "_model_name": "HTMLModel",
            "_view_count": null,
            "_view_module": "@jupyter-widgets/controls",
            "_view_module_version": "1.5.0",
            "_view_name": "HTMLView",
            "description": "",
            "description_tooltip": null,
            "layout": "IPY_MODEL_41afae9b766746c89a4f8a6694722fe1",
            "placeholder": "​",
            "style": "IPY_MODEL_f9ce261c0bd8410ea840586aba0338a9",
            "value": " 1563/1563 [00:47&lt;00:00, 59.61it/s]"
          }
        },
        "0c97e41bef4d40e28c0d02983cfab9eb": {
          "model_module": "@jupyter-widgets/base",
          "model_name": "LayoutModel",
          "model_module_version": "1.2.0",
          "state": {
            "_model_module": "@jupyter-widgets/base",
            "_model_module_version": "1.2.0",
            "_model_name": "LayoutModel",
            "_view_count": null,
            "_view_module": "@jupyter-widgets/base",
            "_view_module_version": "1.2.0",
            "_view_name": "LayoutView",
            "align_content": null,
            "align_items": null,
            "align_self": null,
            "border": null,
            "bottom": null,
            "display": null,
            "flex": null,
            "flex_flow": null,
            "grid_area": null,
            "grid_auto_columns": null,
            "grid_auto_flow": null,
            "grid_auto_rows": null,
            "grid_column": null,
            "grid_gap": null,
            "grid_row": null,
            "grid_template_areas": null,
            "grid_template_columns": null,
            "grid_template_rows": null,
            "height": null,
            "justify_content": null,
            "justify_items": null,
            "left": null,
            "margin": null,
            "max_height": null,
            "max_width": null,
            "min_height": null,
            "min_width": null,
            "object_fit": null,
            "object_position": null,
            "order": null,
            "overflow": null,
            "overflow_x": null,
            "overflow_y": null,
            "padding": null,
            "right": null,
            "top": null,
            "visibility": "hidden",
            "width": null
          }
        },
        "594841b495344facbfce22d8cdc1c8ae": {
          "model_module": "@jupyter-widgets/base",
          "model_name": "LayoutModel",
          "model_module_version": "1.2.0",
          "state": {
            "_model_module": "@jupyter-widgets/base",
            "_model_module_version": "1.2.0",
            "_model_name": "LayoutModel",
            "_view_count": null,
            "_view_module": "@jupyter-widgets/base",
            "_view_module_version": "1.2.0",
            "_view_name": "LayoutView",
            "align_content": null,
            "align_items": null,
            "align_self": null,
            "border": null,
            "bottom": null,
            "display": null,
            "flex": null,
            "flex_flow": null,
            "grid_area": null,
            "grid_auto_columns": null,
            "grid_auto_flow": null,
            "grid_auto_rows": null,
            "grid_column": null,
            "grid_gap": null,
            "grid_row": null,
            "grid_template_areas": null,
            "grid_template_columns": null,
            "grid_template_rows": null,
            "height": null,
            "justify_content": null,
            "justify_items": null,
            "left": null,
            "margin": null,
            "max_height": null,
            "max_width": null,
            "min_height": null,
            "min_width": null,
            "object_fit": null,
            "object_position": null,
            "order": null,
            "overflow": null,
            "overflow_x": null,
            "overflow_y": null,
            "padding": null,
            "right": null,
            "top": null,
            "visibility": null,
            "width": null
          }
        },
        "6656b17facb14ffc88a5ba0f3f96ba37": {
          "model_module": "@jupyter-widgets/controls",
          "model_name": "DescriptionStyleModel",
          "model_module_version": "1.5.0",
          "state": {
            "_model_module": "@jupyter-widgets/controls",
            "_model_module_version": "1.5.0",
            "_model_name": "DescriptionStyleModel",
            "_view_count": null,
            "_view_module": "@jupyter-widgets/base",
            "_view_module_version": "1.2.0",
            "_view_name": "StyleView",
            "description_width": ""
          }
        },
        "9b1869e19ff849c089ed74874bf4dcf8": {
          "model_module": "@jupyter-widgets/base",
          "model_name": "LayoutModel",
          "model_module_version": "1.2.0",
          "state": {
            "_model_module": "@jupyter-widgets/base",
            "_model_module_version": "1.2.0",
            "_model_name": "LayoutModel",
            "_view_count": null,
            "_view_module": "@jupyter-widgets/base",
            "_view_module_version": "1.2.0",
            "_view_name": "LayoutView",
            "align_content": null,
            "align_items": null,
            "align_self": null,
            "border": null,
            "bottom": null,
            "display": null,
            "flex": null,
            "flex_flow": null,
            "grid_area": null,
            "grid_auto_columns": null,
            "grid_auto_flow": null,
            "grid_auto_rows": null,
            "grid_column": null,
            "grid_gap": null,
            "grid_row": null,
            "grid_template_areas": null,
            "grid_template_columns": null,
            "grid_template_rows": null,
            "height": null,
            "justify_content": null,
            "justify_items": null,
            "left": null,
            "margin": null,
            "max_height": null,
            "max_width": null,
            "min_height": null,
            "min_width": null,
            "object_fit": null,
            "object_position": null,
            "order": null,
            "overflow": null,
            "overflow_x": null,
            "overflow_y": null,
            "padding": null,
            "right": null,
            "top": null,
            "visibility": null,
            "width": null
          }
        },
        "835566eb0d6e47f4989e21983bdac248": {
          "model_module": "@jupyter-widgets/controls",
          "model_name": "ProgressStyleModel",
          "model_module_version": "1.5.0",
          "state": {
            "_model_module": "@jupyter-widgets/controls",
            "_model_module_version": "1.5.0",
            "_model_name": "ProgressStyleModel",
            "_view_count": null,
            "_view_module": "@jupyter-widgets/base",
            "_view_module_version": "1.2.0",
            "_view_name": "StyleView",
            "bar_color": null,
            "description_width": ""
          }
        },
        "41afae9b766746c89a4f8a6694722fe1": {
          "model_module": "@jupyter-widgets/base",
          "model_name": "LayoutModel",
          "model_module_version": "1.2.0",
          "state": {
            "_model_module": "@jupyter-widgets/base",
            "_model_module_version": "1.2.0",
            "_model_name": "LayoutModel",
            "_view_count": null,
            "_view_module": "@jupyter-widgets/base",
            "_view_module_version": "1.2.0",
            "_view_name": "LayoutView",
            "align_content": null,
            "align_items": null,
            "align_self": null,
            "border": null,
            "bottom": null,
            "display": null,
            "flex": null,
            "flex_flow": null,
            "grid_area": null,
            "grid_auto_columns": null,
            "grid_auto_flow": null,
            "grid_auto_rows": null,
            "grid_column": null,
            "grid_gap": null,
            "grid_row": null,
            "grid_template_areas": null,
            "grid_template_columns": null,
            "grid_template_rows": null,
            "height": null,
            "justify_content": null,
            "justify_items": null,
            "left": null,
            "margin": null,
            "max_height": null,
            "max_width": null,
            "min_height": null,
            "min_width": null,
            "object_fit": null,
            "object_position": null,
            "order": null,
            "overflow": null,
            "overflow_x": null,
            "overflow_y": null,
            "padding": null,
            "right": null,
            "top": null,
            "visibility": null,
            "width": null
          }
        },
        "f9ce261c0bd8410ea840586aba0338a9": {
          "model_module": "@jupyter-widgets/controls",
          "model_name": "DescriptionStyleModel",
          "model_module_version": "1.5.0",
          "state": {
            "_model_module": "@jupyter-widgets/controls",
            "_model_module_version": "1.5.0",
            "_model_name": "DescriptionStyleModel",
            "_view_count": null,
            "_view_module": "@jupyter-widgets/base",
            "_view_module_version": "1.2.0",
            "_view_name": "StyleView",
            "description_width": ""
          }
        },
        "fd88eebe0261460188c62d47ce45b92c": {
          "model_module": "@jupyter-widgets/controls",
          "model_name": "HBoxModel",
          "model_module_version": "1.5.0",
          "state": {
            "_dom_classes": [],
            "_model_module": "@jupyter-widgets/controls",
            "_model_module_version": "1.5.0",
            "_model_name": "HBoxModel",
            "_view_count": null,
            "_view_module": "@jupyter-widgets/controls",
            "_view_module_version": "1.5.0",
            "_view_name": "HBoxView",
            "box_style": "",
            "children": [
              "IPY_MODEL_1e45da7acda340ee9b219e311b883f00",
              "IPY_MODEL_9ac45f4f13c64f06bda3d7b35f8b50ed",
              "IPY_MODEL_a50d380dbfc7499ca7f3aa5ec7c58b8d"
            ],
            "layout": "IPY_MODEL_fd4294be6f3749c8b7a200042870e633"
          }
        },
        "1e45da7acda340ee9b219e311b883f00": {
          "model_module": "@jupyter-widgets/controls",
          "model_name": "HTMLModel",
          "model_module_version": "1.5.0",
          "state": {
            "_dom_classes": [],
            "_model_module": "@jupyter-widgets/controls",
            "_model_module_version": "1.5.0",
            "_model_name": "HTMLModel",
            "_view_count": null,
            "_view_module": "@jupyter-widgets/controls",
            "_view_module_version": "1.5.0",
            "_view_name": "HTMLView",
            "description": "",
            "description_tooltip": null,
            "layout": "IPY_MODEL_75b3bbfae3324d309b6ba8f70180cd5d",
            "placeholder": "​",
            "style": "IPY_MODEL_37b749fbd4694afbb877fc61b06317c5",
            "value": "313 iterations:  99%"
          }
        },
        "9ac45f4f13c64f06bda3d7b35f8b50ed": {
          "model_module": "@jupyter-widgets/controls",
          "model_name": "FloatProgressModel",
          "model_module_version": "1.5.0",
          "state": {
            "_dom_classes": [],
            "_model_module": "@jupyter-widgets/controls",
            "_model_module_version": "1.5.0",
            "_model_name": "FloatProgressModel",
            "_view_count": null,
            "_view_module": "@jupyter-widgets/controls",
            "_view_module_version": "1.5.0",
            "_view_name": "ProgressView",
            "bar_style": "",
            "description": "",
            "description_tooltip": null,
            "layout": "IPY_MODEL_2a7f79c4e6cf4a86a8d061704b9b2e98",
            "max": 313,
            "min": 0,
            "orientation": "horizontal",
            "style": "IPY_MODEL_2320da0defb6459e9b07f0fcf56156e0",
            "value": 313
          }
        },
        "a50d380dbfc7499ca7f3aa5ec7c58b8d": {
          "model_module": "@jupyter-widgets/controls",
          "model_name": "HTMLModel",
          "model_module_version": "1.5.0",
          "state": {
            "_dom_classes": [],
            "_model_module": "@jupyter-widgets/controls",
            "_model_module_version": "1.5.0",
            "_model_name": "HTMLModel",
            "_view_count": null,
            "_view_module": "@jupyter-widgets/controls",
            "_view_module_version": "1.5.0",
            "_view_name": "HTMLView",
            "description": "",
            "description_tooltip": null,
            "layout": "IPY_MODEL_9a126238171d450d973c4df57850d96c",
            "placeholder": "​",
            "style": "IPY_MODEL_3084c0ba38974949b110f1363978c9d7",
            "value": " 309/313 [00:05&lt;00:00, 85.68it/s]"
          }
        },
        "fd4294be6f3749c8b7a200042870e633": {
          "model_module": "@jupyter-widgets/base",
          "model_name": "LayoutModel",
          "model_module_version": "1.2.0",
          "state": {
            "_model_module": "@jupyter-widgets/base",
            "_model_module_version": "1.2.0",
            "_model_name": "LayoutModel",
            "_view_count": null,
            "_view_module": "@jupyter-widgets/base",
            "_view_module_version": "1.2.0",
            "_view_name": "LayoutView",
            "align_content": null,
            "align_items": null,
            "align_self": null,
            "border": null,
            "bottom": null,
            "display": null,
            "flex": null,
            "flex_flow": null,
            "grid_area": null,
            "grid_auto_columns": null,
            "grid_auto_flow": null,
            "grid_auto_rows": null,
            "grid_column": null,
            "grid_gap": null,
            "grid_row": null,
            "grid_template_areas": null,
            "grid_template_columns": null,
            "grid_template_rows": null,
            "height": null,
            "justify_content": null,
            "justify_items": null,
            "left": null,
            "margin": null,
            "max_height": null,
            "max_width": null,
            "min_height": null,
            "min_width": null,
            "object_fit": null,
            "object_position": null,
            "order": null,
            "overflow": null,
            "overflow_x": null,
            "overflow_y": null,
            "padding": null,
            "right": null,
            "top": null,
            "visibility": "hidden",
            "width": null
          }
        },
        "75b3bbfae3324d309b6ba8f70180cd5d": {
          "model_module": "@jupyter-widgets/base",
          "model_name": "LayoutModel",
          "model_module_version": "1.2.0",
          "state": {
            "_model_module": "@jupyter-widgets/base",
            "_model_module_version": "1.2.0",
            "_model_name": "LayoutModel",
            "_view_count": null,
            "_view_module": "@jupyter-widgets/base",
            "_view_module_version": "1.2.0",
            "_view_name": "LayoutView",
            "align_content": null,
            "align_items": null,
            "align_self": null,
            "border": null,
            "bottom": null,
            "display": null,
            "flex": null,
            "flex_flow": null,
            "grid_area": null,
            "grid_auto_columns": null,
            "grid_auto_flow": null,
            "grid_auto_rows": null,
            "grid_column": null,
            "grid_gap": null,
            "grid_row": null,
            "grid_template_areas": null,
            "grid_template_columns": null,
            "grid_template_rows": null,
            "height": null,
            "justify_content": null,
            "justify_items": null,
            "left": null,
            "margin": null,
            "max_height": null,
            "max_width": null,
            "min_height": null,
            "min_width": null,
            "object_fit": null,
            "object_position": null,
            "order": null,
            "overflow": null,
            "overflow_x": null,
            "overflow_y": null,
            "padding": null,
            "right": null,
            "top": null,
            "visibility": null,
            "width": null
          }
        },
        "37b749fbd4694afbb877fc61b06317c5": {
          "model_module": "@jupyter-widgets/controls",
          "model_name": "DescriptionStyleModel",
          "model_module_version": "1.5.0",
          "state": {
            "_model_module": "@jupyter-widgets/controls",
            "_model_module_version": "1.5.0",
            "_model_name": "DescriptionStyleModel",
            "_view_count": null,
            "_view_module": "@jupyter-widgets/base",
            "_view_module_version": "1.2.0",
            "_view_name": "StyleView",
            "description_width": ""
          }
        },
        "2a7f79c4e6cf4a86a8d061704b9b2e98": {
          "model_module": "@jupyter-widgets/base",
          "model_name": "LayoutModel",
          "model_module_version": "1.2.0",
          "state": {
            "_model_module": "@jupyter-widgets/base",
            "_model_module_version": "1.2.0",
            "_model_name": "LayoutModel",
            "_view_count": null,
            "_view_module": "@jupyter-widgets/base",
            "_view_module_version": "1.2.0",
            "_view_name": "LayoutView",
            "align_content": null,
            "align_items": null,
            "align_self": null,
            "border": null,
            "bottom": null,
            "display": null,
            "flex": null,
            "flex_flow": null,
            "grid_area": null,
            "grid_auto_columns": null,
            "grid_auto_flow": null,
            "grid_auto_rows": null,
            "grid_column": null,
            "grid_gap": null,
            "grid_row": null,
            "grid_template_areas": null,
            "grid_template_columns": null,
            "grid_template_rows": null,
            "height": null,
            "justify_content": null,
            "justify_items": null,
            "left": null,
            "margin": null,
            "max_height": null,
            "max_width": null,
            "min_height": null,
            "min_width": null,
            "object_fit": null,
            "object_position": null,
            "order": null,
            "overflow": null,
            "overflow_x": null,
            "overflow_y": null,
            "padding": null,
            "right": null,
            "top": null,
            "visibility": null,
            "width": null
          }
        },
        "2320da0defb6459e9b07f0fcf56156e0": {
          "model_module": "@jupyter-widgets/controls",
          "model_name": "ProgressStyleModel",
          "model_module_version": "1.5.0",
          "state": {
            "_model_module": "@jupyter-widgets/controls",
            "_model_module_version": "1.5.0",
            "_model_name": "ProgressStyleModel",
            "_view_count": null,
            "_view_module": "@jupyter-widgets/base",
            "_view_module_version": "1.2.0",
            "_view_name": "StyleView",
            "bar_color": null,
            "description_width": ""
          }
        },
        "9a126238171d450d973c4df57850d96c": {
          "model_module": "@jupyter-widgets/base",
          "model_name": "LayoutModel",
          "model_module_version": "1.2.0",
          "state": {
            "_model_module": "@jupyter-widgets/base",
            "_model_module_version": "1.2.0",
            "_model_name": "LayoutModel",
            "_view_count": null,
            "_view_module": "@jupyter-widgets/base",
            "_view_module_version": "1.2.0",
            "_view_name": "LayoutView",
            "align_content": null,
            "align_items": null,
            "align_self": null,
            "border": null,
            "bottom": null,
            "display": null,
            "flex": null,
            "flex_flow": null,
            "grid_area": null,
            "grid_auto_columns": null,
            "grid_auto_flow": null,
            "grid_auto_rows": null,
            "grid_column": null,
            "grid_gap": null,
            "grid_row": null,
            "grid_template_areas": null,
            "grid_template_columns": null,
            "grid_template_rows": null,
            "height": null,
            "justify_content": null,
            "justify_items": null,
            "left": null,
            "margin": null,
            "max_height": null,
            "max_width": null,
            "min_height": null,
            "min_width": null,
            "object_fit": null,
            "object_position": null,
            "order": null,
            "overflow": null,
            "overflow_x": null,
            "overflow_y": null,
            "padding": null,
            "right": null,
            "top": null,
            "visibility": null,
            "width": null
          }
        },
        "3084c0ba38974949b110f1363978c9d7": {
          "model_module": "@jupyter-widgets/controls",
          "model_name": "DescriptionStyleModel",
          "model_module_version": "1.5.0",
          "state": {
            "_model_module": "@jupyter-widgets/controls",
            "_model_module_version": "1.5.0",
            "_model_name": "DescriptionStyleModel",
            "_view_count": null,
            "_view_module": "@jupyter-widgets/base",
            "_view_module_version": "1.2.0",
            "_view_name": "StyleView",
            "description_width": ""
          }
        }
      }
    }
  }
}